{
 "cells": [
  {
   "cell_type": "code",
   "execution_count": 10,
   "metadata": {},
   "outputs": [],
   "source": [
    "import pandas as pd\n",
    "import numpy as np\n",
    "retail_data=pd.read_excel('./Desktop/Lab2/online_retail.xlsx')"
   ]
  },
  {
   "cell_type": "code",
   "execution_count": 789,
   "metadata": {},
   "outputs": [],
   "source": [
    "#retail_data.Description.nunique()\n",
    "#retail_data['Description'].unique()\n",
    "#print(retail_data['Description'].unique())"
   ]
  },
  {
   "cell_type": "code",
   "execution_count": 790,
   "metadata": {},
   "outputs": [],
   "source": [
    "#drop duplicate rows\n",
    "retail_data=retail_data.drop_duplicates()"
   ]
  },
  {
   "cell_type": "code",
   "execution_count": 791,
   "metadata": {},
   "outputs": [],
   "source": [
    "#Remove all cancellations\n",
    "\n",
    "retail_c=retail_data[retail_data['Invoice'].str[0]!='C']\n"
   ]
  },
  {
   "cell_type": "code",
   "execution_count": 792,
   "metadata": {},
   "outputs": [],
   "source": [
    "# columns names to lowercase\n",
    "retail_c.columns=retail_c.columns.str.lower()"
   ]
  },
  {
   "cell_type": "code",
   "execution_count": 793,
   "metadata": {},
   "outputs": [],
   "source": [
    "#removing spaces in column name\n",
    "retail_c.columns=['invoice','stockcode','description','quantity','invoicedate','unitprice','customerid','country']"
   ]
  },
  {
   "cell_type": "code",
   "execution_count": 794,
   "metadata": {},
   "outputs": [
    {
     "name": "stderr",
     "output_type": "stream",
     "text": [
      "C:\\Users\\Anupama\\Anaconda3\\lib\\site-packages\\pandas\\core\\frame.py:3391: SettingWithCopyWarning: \n",
      "A value is trying to be set on a copy of a slice from a DataFrame.\n",
      "Try using .loc[row_indexer,col_indexer] = value instead\n",
      "\n",
      "See the caveats in the documentation: http://pandas.pydata.org/pandas-docs/stable/indexing.html#indexing-view-versus-copy\n",
      "  self[k1] = value[k2]\n"
     ]
    }
   ],
   "source": [
    "#changing the datatype to numeric\n",
    "cols=['invoice','stockcode','quantity','unitprice','customerid']\n",
    "retail_c[cols]=retail_c[cols].apply(pd.to_numeric,errors='coerce')"
   ]
  },
  {
   "cell_type": "code",
   "execution_count": 795,
   "metadata": {},
   "outputs": [],
   "source": [
    "#columns where stockcode,description is missing \n",
    "retail_c1=retail_c.dropna(subset=['stockcode'] ,how='all')\n",
    "retail_c2=retail_c1.dropna(subset=['description'] ,how='all')\n",
    "retail_c2=retail_c1.dropna(subset=['customerid'] ,how='all')"
   ]
  },
  {
   "cell_type": "code",
   "execution_count": 796,
   "metadata": {},
   "outputs": [
    {
     "name": "stderr",
     "output_type": "stream",
     "text": [
      "C:\\Users\\Anupama\\Anaconda3\\lib\\site-packages\\ipykernel_launcher.py:1: SettingWithCopyWarning: \n",
      "A value is trying to be set on a copy of a slice from a DataFrame.\n",
      "Try using .loc[row_indexer,col_indexer] = value instead\n",
      "\n",
      "See the caveats in the documentation: http://pandas.pydata.org/pandas-docs/stable/indexing.html#indexing-view-versus-copy\n",
      "  \"\"\"Entry point for launching an IPython kernel.\n"
     ]
    }
   ],
   "source": [
    "retail_c2['description']=retail_c2['description'].str.strip()\n"
   ]
  },
  {
   "cell_type": "code",
   "execution_count": 797,
   "metadata": {},
   "outputs": [
    {
     "data": {
      "text/plain": [
       "<matplotlib.axes._subplots.AxesSubplot at 0x2563991ea90>"
      ]
     },
     "execution_count": 797,
     "metadata": {},
     "output_type": "execute_result"
    },
    {
     "data": {
      "image/png": "[encoded data removed]",
      "text/plain": [
       "<Figure size 432x288 with 1 Axes>"
      ]
     },
     "metadata": {
      "needs_background": "light"
     },
     "output_type": "display_data"
    }
   ],
   "source": [
    "#top 20 countries\n",
    "\n",
    "import matplotlib.pyplot as plt\n",
    "retail_c2.country.value_counts()[:20].plot.bar()"
   ]
  },
  {
   "cell_type": "code",
   "execution_count": 798,
   "metadata": {},
   "outputs": [],
   "source": [
    "#removing countries except UK\n",
    "retail_uk=retail_c2[retail_c2['country']==\"United Kingdom\"]"
   ]
  },
  {
   "cell_type": "code",
   "execution_count": 799,
   "metadata": {},
   "outputs": [],
   "source": [
    "#removing negative quantity(items returned)\n",
    "retail_uk=retail_uk[retail_uk['quantity']>0]"
   ]
  },
  {
   "cell_type": "code",
   "execution_count": 800,
   "metadata": {},
   "outputs": [],
   "source": [
    "#removing free items\n",
    "retail_uk=retail_uk[retail_uk['unitprice']>0]"
   ]
  },
  {
   "cell_type": "code",
   "execution_count": 801,
   "metadata": {},
   "outputs": [],
   "source": [
    "# calculating total\n",
    "retail_uk['total']=retail_uk.fillna(0)['quantity']*retail_uk.fillna(0)['unitprice']"
   ]
  },
  {
   "cell_type": "code",
   "execution_count": 802,
   "metadata": {},
   "outputs": [],
   "source": [
    "#retail_uk=retail_uk[retail_uk['total']<5000]"
   ]
  },
  {
   "cell_type": "code",
   "execution_count": 803,
   "metadata": {},
   "outputs": [],
   "source": [
    "#year column\n",
    "retail_uk['year']=retail_uk['invoicedate'].dt.year"
   ]
  },
  {
   "cell_type": "code",
   "execution_count": 804,
   "metadata": {},
   "outputs": [],
   "source": [
    "#month-year column\n",
    "import pandas as pd\n",
    "retail_uk['month_year']=pd.to_datetime(retail_uk['invoicedate']).dt.to_period('M')\n",
    "\n"
   ]
  },
  {
   "cell_type": "code",
   "execution_count": 805,
   "metadata": {},
   "outputs": [
    {
     "name": "stderr",
     "output_type": "stream",
     "text": [
      "C:\\Users\\Anupama\\Anaconda3\\lib\\site-packages\\ipykernel_launcher.py:6: FutureWarning: Creating a PeriodIndex by passing range endpoints is deprecated.  Use `pandas.period_range` instead.\n",
      "  \n"
     ]
    },
    {
     "data": {
      "text/plain": [
       "<matplotlib.axes._subplots.AxesSubplot at 0x2563ad67860>"
      ]
     },
     "execution_count": 805,
     "metadata": {},
     "output_type": "execute_result"
    },
    {
     "data": {
      "image/png": "[encoded data removed]",
      "text/plain": [
       "<Figure size 432x288 with 1 Axes>"
      ]
     },
     "metadata": {
      "needs_background": "light"
     },
     "output_type": "display_data"
    }
   ],
   "source": [
    "#totalsale amount by month\n",
    "\n",
    "months = retail_uk['month_year'].sort_values()\n",
    "start_month = months.iloc[0]\n",
    "end_month = months.iloc[-1]\n",
    "index = pd.PeriodIndex(start=start_month, end=end_month)\n",
    "retail_uk.groupby('month_year')['total'].sum().reindex(index).plot.bar(color='r')"
   ]
  },
  {
   "cell_type": "code",
   "execution_count": 806,
   "metadata": {},
   "outputs": [
    {
     "data": {
      "image/png": "[encoded data removed]",
      "text/plain": [
       "<Figure size 432x288 with 1 Axes>"
      ]
     },
     "metadata": {},
     "output_type": "display_data"
    }
   ],
   "source": [
    "# One time and repeat customer\n",
    "\n",
    "customer_invoice=retail_uk.groupby('customerid',as_index=False).agg({'invoice':'count'})\n",
    "import numpy as np\n",
    "customer_invoice['repeat_customer']=np.where(customer_invoice['invoice']>1,'yes','no')\n",
    "import matplotlib.pyplot as plt\n",
    "repeatcount=customer_invoice['repeat_customer'].value_counts()\n",
    "repeatcount.plot.pie(autopct='%.2f%%',colors=['c','k'])\n",
    "plt.show()"
   ]
  },
  {
   "cell_type": "code",
   "execution_count": 807,
   "metadata": {},
   "outputs": [
    {
     "data": {
      "text/plain": [
       "<matplotlib.axes._subplots.AxesSubplot at 0x2563bfaebe0>"
      ]
     },
     "execution_count": 807,
     "metadata": {},
     "output_type": "execute_result"
    },
    {
     "data": {
      "image/png": "[encoded data removed]",
      "text/plain": [
       "<Figure size 432x288 with 1 Axes>"
      ]
     },
     "metadata": {
      "needs_background": "light"
     },
     "output_type": "display_data"
    }
   ],
   "source": [
    "#top20 products\n",
    "\n",
    "retail_uk.description.value_counts()[:20].plot(kind='bar',color='r')"
   ]
  },
  {
   "cell_type": "code",
   "execution_count": 808,
   "metadata": {},
   "outputs": [
    {
     "data": {
      "text/plain": [
       "<matplotlib.axes._subplots.AxesSubplot at 0x25635d342e8>"
      ]
     },
     "execution_count": 808,
     "metadata": {},
     "output_type": "execute_result"
    },
    {
     "data": {
      "image/png": "[encoded data removed]",
      "text/plain": [
       "<Figure size 432x288 with 1 Axes>"
      ]
     },
     "metadata": {
      "needs_background": "light"
     },
     "output_type": "display_data"
    }
   ],
   "source": [
    "#top20 customers by sale amount\n",
    "retail_top=retail_uk.groupby('customerid',as_index=False).agg({'total':'sum'})\n",
    "retail_top20=retail_top.sort_values(by=['total'],ascending=False).head(20)\n",
    "retail_top20['customerid']=retail_top20.customerid.astype(str)\n",
    "retail_top20.plot.bar(x='customerid',y='total',color='g')"
   ]
  },
  {
   "cell_type": "code",
   "execution_count": 809,
   "metadata": {},
   "outputs": [
    {
     "data": {
      "text/plain": [
       "<matplotlib.axes._subplots.AxesSubplot at 0x25632222198>"
      ]
     },
     "execution_count": 809,
     "metadata": {},
     "output_type": "execute_result"
    },
    {
     "data": {
      "image/png": "[encoded data removed]",
      "text/plain": [
       "<Figure size 432x288 with 1 Axes>"
      ]
     },
     "metadata": {
      "needs_background": "light"
     },
     "output_type": "display_data"
    }
   ],
   "source": [
    "#top20 customer by order placed\n",
    "\n",
    "retail_top=retail_uk.groupby('customerid',as_index=False).agg({'quantity':'sum'})\n",
    "retail_top20=retail_top.sort_values(by=['quantity'],ascending=False).head(20)\n",
    "retail_top20['customerid']=retail_top20.customerid.astype(str)\n",
    "retail_top20.plot.bar(x='customerid',y='quantity',color='y')"
   ]
  },
  {
   "cell_type": "code",
   "execution_count": 810,
   "metadata": {},
   "outputs": [
    {
     "data": {
      "text/plain": [
       "<matplotlib.axes._subplots.AxesSubplot at 0x25639484518>"
      ]
     },
     "execution_count": 810,
     "metadata": {},
     "output_type": "execute_result"
    },
    {
     "data": {
      "image/png": "[encoded data removed]",
      "text/plain": [
       "<Figure size 432x288 with 1 Axes>"
      ]
     },
     "metadata": {
      "needs_background": "light"
     },
     "output_type": "display_data"
    }
   ],
   "source": [
    "#average sales per month\n",
    "retail_avg=retail_uk.groupby('month_year',as_index=False)['total'].mean()\n",
    "retail_avg.plot.bar(x='month_year',y='total',color='k')"
   ]
  },
  {
   "cell_type": "code",
   "execution_count": 811,
   "metadata": {},
   "outputs": [
    {
     "data": {
      "text/plain": [
       "<matplotlib.axes._subplots.AxesSubplot at 0x25636f38438>"
      ]
     },
     "execution_count": 811,
     "metadata": {},
     "output_type": "execute_result"
    },
    {
     "data": {
      "image/png": "[encoded data removed]",
      "text/plain": [
       "<Figure size 432x288 with 1 Axes>"
      ]
     },
     "metadata": {
      "needs_background": "light"
     },
     "output_type": "display_data"
    }
   ],
   "source": [
    "#total sales by year\n",
    "retail_uk.groupby('year')['total'].sum().plot(kind='bar')"
   ]
  },
  {
   "cell_type": "code",
   "execution_count": 812,
   "metadata": {},
   "outputs": [
    {
     "data": {
      "text/plain": [
       "<matplotlib.axes._subplots.AxesSubplot at 0x256394a5668>"
      ]
     },
     "execution_count": 812,
     "metadata": {},
     "output_type": "execute_result"
    },
    {
     "data": {
      "image/png": "[encoded data removed]",
      "text/plain": [
       "<Figure size 432x288 with 1 Axes>"
      ]
     },
     "metadata": {
      "needs_background": "light"
     },
     "output_type": "display_data"
    }
   ],
   "source": [
    "#total quantity by year\n",
    "retail_uk.groupby('year')['quantity'].sum().plot(kind='bar')\n"
   ]
  },
  {
   "cell_type": "code",
   "execution_count": 813,
   "metadata": {},
   "outputs": [
    {
     "data": {
      "text/plain": [
       "<matplotlib.axes._subplots.AxesSubplot at 0x25638911a20>"
      ]
     },
     "execution_count": 813,
     "metadata": {},
     "output_type": "execute_result"
    },
    {
     "data": {
      "image/png": "[encoded data removed]",
      "text/plain": [
       "<Figure size 432x288 with 1 Axes>"
      ]
     },
     "metadata": {
      "needs_background": "light"
     },
     "output_type": "display_data"
    }
   ],
   "source": [
    "#active customers per month\n",
    "active=retail_uk.groupby('month_year')['customerid'].nunique().reset_index()\n",
    "active.plot.bar(x='month_year',y='customerid',color='b')\n"
   ]
  },
  {
   "cell_type": "code",
   "execution_count": 814,
   "metadata": {},
   "outputs": [],
   "source": [
    "\n",
    "retail_uk['invoicedate'] = pd.to_datetime(retail_uk['invoicedate']).dt.date"
   ]
  },
  {
   "cell_type": "code",
   "execution_count": 835,
   "metadata": {},
   "outputs": [
    {
     "data": {
      "text/plain": [
       "invoice          float64\n",
       "stockcode        float64\n",
       "description       object\n",
       "quantity           int64\n",
       "invoicedate       object\n",
       "unitprice        float64\n",
       "customerid       float64\n",
       "country           object\n",
       "total            float64\n",
       "year               int64\n",
       "month_year     period[M]\n",
       "dtype: object"
      ]
     },
     "execution_count": 835,
     "metadata": {},
     "output_type": "execute_result"
    }
   ],
   "source": [
    "retail_uk.dtypes"
   ]
  },
  {
   "cell_type": "code",
   "execution_count": 815,
   "metadata": {},
   "outputs": [],
   "source": [
    "# finding first 6 month and last month data\n",
    "\n",
    "#pd.to_datetime(retail_uk['invoicedate'],format='%Y-%m-%d').max()\n",
    "#pd.to_datetime(retail_uk['invoicedate'],format='%Y-%m-%d').min()\n",
    "#retail_uk_6month=retail_uk[(retail_uk['invoicedate']<='2010-12-09')& (retail_uk['invoicedate']>='2009-12-01')].reset_index(drop=True)"
   ]
  },
  {
   "cell_type": "code",
   "execution_count": 958,
   "metadata": {},
   "outputs": [],
   "source": [
    "#Last Purchase date by the customer\n",
    "\n",
    "retail_uk_lastpurchase=retail_uk.groupby('customerid').invoicedate.max().reset_index()\n",
    "retail_uk_lastpurchase.columns=['customerid','lastpurchasedate']\n",
    "\n",
    "#customerid \n",
    "retail_uk_customer=pd.DataFrame(retail_uk['customerid'].unique())\n",
    "retail_uk_customer.columns=['customerid']\n",
    "\n",
    "\n",
    "#find the number of days between last purchase and last purchase in the dataset\n",
    "retail_uk_lastpurchase['lastvisit']=(retail_uk_lastpurchase['lastpurchasedate'].max()-retail_uk_lastpurchase['lastpurchasedate']).dt.days\n",
    "\n",
    "retail_uk_customer=pd.merge(retail_uk_customer,retail_uk_lastpurchase[['customerid','lastvisit']],on='customerid')"
   ]
  },
  {
   "cell_type": "code",
   "execution_count": 959,
   "metadata": {},
   "outputs": [
    {
     "data": {
      "text/plain": [
       "count    3919.000000\n",
       "mean       89.887982\n",
       "std        97.130057\n",
       "min         0.000000\n",
       "25%        17.000000\n",
       "50%        51.000000\n",
       "75%       135.000000\n",
       "max       373.000000\n",
       "Name: lastvisit, dtype: float64"
      ]
     },
     "execution_count": 959,
     "metadata": {},
     "output_type": "execute_result"
    }
   ],
   "source": [
    "retail_uk_customer.lastvisit.describe()"
   ]
  },
  {
   "cell_type": "code",
   "execution_count": 960,
   "metadata": {},
   "outputs": [
    {
     "data": {
      "image/png": "[encoded data removed]",
      "text/plain": [
       "<Figure size 432x288 with 1 Axes>"
      ]
     },
     "metadata": {
      "needs_background": "light"
     },
     "output_type": "display_data"
    }
   ],
   "source": [
    "from sklearn.cluster import KMeans\n",
    "sse={}\n",
    "retail_uk_lastorder = retail_uk_customer[['lastvisit']]\n",
    "for k in range(1, 10):\n",
    "    kmeans = KMeans(n_clusters=k, max_iter=1000).fit(retail_uk_lastorder)\n",
    "    retail_uk_lastorder['recencycluster'] = kmeans.labels_\n",
    "    sse[k] = kmeans.inertia_ \n",
    "\n",
    "plt.figure()\n",
    "plt.plot(list(sse.keys()), list(sse.values()))\n",
    "plt.xlabel(\"Number of cluster\")\n",
    "plt.show()"
   ]
  },
  {
   "cell_type": "code",
   "execution_count": 961,
   "metadata": {},
   "outputs": [
    {
     "data": {
      "image/png": "[encoded data removed]",
      "text/plain": [
       "<Figure size 432x288 with 2 Axes>"
      ]
     },
     "metadata": {
      "needs_background": "light"
     },
     "output_type": "display_data"
    }
   ],
   "source": [
    "kmodel = KMeans(n_clusters=4)\n",
    "kmodel.fit(retail_uk_customer[['lastvisit']])\n",
    "retail_uk_customer['recencycluster']=kmodel.predict(retail_uk_customer[['lastvisit']])\n",
    "#fig, axes = plt.subplots(1, 2, figsize=(16,8))\n",
    "ax1=retail_uk_customer.plot.scatter(x='customerid',y='lastvisit',c='recencycluster',colormap='viridis',s=5)"
   ]
  },
  {
   "cell_type": "code",
   "execution_count": 962,
   "metadata": {},
   "outputs": [],
   "source": [
    "def order_cluster(cluster_field_name, target_field_name,df,ascending):\n",
    "    new_cluster_field_name = 'new_' + cluster_field_name\n",
    "    df_new = df.groupby(cluster_field_name)[target_field_name].mean().reset_index()\n",
    "    df_new = df_new.sort_values(by=target_field_name,ascending=ascending).reset_index(drop=True)\n",
    "    df_new['index'] = df_new.index\n",
    "    df_final = pd.merge(df,df_new[[cluster_field_name,'index']], on=cluster_field_name)\n",
    "    df_final = df_final.drop([cluster_field_name],axis=1)\n",
    "    df_final = df_final.rename(columns={\"index\":cluster_field_name})\n",
    "    return df_final\n"
   ]
  },
  {
   "cell_type": "code",
   "execution_count": 963,
   "metadata": {},
   "outputs": [
    {
     "data": {
      "text/html": [
       "<div>\n",
       "<style scoped>\n",
       "    .dataframe tbody tr th:only-of-type {\n",
       "        vertical-align: middle;\n",
       "    }\n",
       "\n",
       "    .dataframe tbody tr th {\n",
       "        vertical-align: top;\n",
       "    }\n",
       "\n",
       "    .dataframe thead tr th {\n",
       "        text-align: left;\n",
       "    }\n",
       "\n",
       "    .dataframe thead tr:last-of-type th {\n",
       "        text-align: right;\n",
       "    }\n",
       "</style>\n",
       "<table border=\"1\" class=\"dataframe\">\n",
       "  <thead>\n",
       "    <tr>\n",
       "      <th></th>\n",
       "      <th colspan=\"8\" halign=\"left\">lastvisit</th>\n",
       "    </tr>\n",
       "    <tr>\n",
       "      <th></th>\n",
       "      <th>count</th>\n",
       "      <th>mean</th>\n",
       "      <th>std</th>\n",
       "      <th>min</th>\n",
       "      <th>25%</th>\n",
       "      <th>50%</th>\n",
       "      <th>75%</th>\n",
       "      <th>max</th>\n",
       "    </tr>\n",
       "    <tr>\n",
       "      <th>recencycluster</th>\n",
       "      <th></th>\n",
       "      <th></th>\n",
       "      <th></th>\n",
       "      <th></th>\n",
       "      <th></th>\n",
       "      <th></th>\n",
       "      <th></th>\n",
       "      <th></th>\n",
       "    </tr>\n",
       "  </thead>\n",
       "  <tbody>\n",
       "    <tr>\n",
       "      <th>0</th>\n",
       "      <td>1874.0</td>\n",
       "      <td>18.599253</td>\n",
       "      <td>13.218886</td>\n",
       "      <td>0.0</td>\n",
       "      <td>8.0</td>\n",
       "      <td>16.0</td>\n",
       "      <td>29.0</td>\n",
       "      <td>46.0</td>\n",
       "    </tr>\n",
       "    <tr>\n",
       "      <th>1</th>\n",
       "      <td>409.0</td>\n",
       "      <td>307.349633</td>\n",
       "      <td>40.104306</td>\n",
       "      <td>252.0</td>\n",
       "      <td>272.0</td>\n",
       "      <td>302.0</td>\n",
       "      <td>356.0</td>\n",
       "      <td>373.0</td>\n",
       "    </tr>\n",
       "    <tr>\n",
       "      <th>2</th>\n",
       "      <td>592.0</td>\n",
       "      <td>188.545608</td>\n",
       "      <td>32.907880</td>\n",
       "      <td>133.0</td>\n",
       "      <td>162.0</td>\n",
       "      <td>186.0</td>\n",
       "      <td>216.0</td>\n",
       "      <td>247.0</td>\n",
       "    </tr>\n",
       "    <tr>\n",
       "      <th>3</th>\n",
       "      <td>1044.0</td>\n",
       "      <td>76.715517</td>\n",
       "      <td>22.570705</td>\n",
       "      <td>48.0</td>\n",
       "      <td>58.0</td>\n",
       "      <td>71.0</td>\n",
       "      <td>92.0</td>\n",
       "      <td>130.0</td>\n",
       "    </tr>\n",
       "  </tbody>\n",
       "</table>\n",
       "</div>"
      ],
      "text/plain": [
       "               lastvisit                                                     \\\n",
       "                   count        mean        std    min    25%    50%    75%   \n",
       "recencycluster                                                                \n",
       "0                 1874.0   18.599253  13.218886    0.0    8.0   16.0   29.0   \n",
       "1                  409.0  307.349633  40.104306  252.0  272.0  302.0  356.0   \n",
       "2                  592.0  188.545608  32.907880  133.0  162.0  186.0  216.0   \n",
       "3                 1044.0   76.715517  22.570705   48.0   58.0   71.0   92.0   \n",
       "\n",
       "                       \n",
       "                  max  \n",
       "recencycluster         \n",
       "0                46.0  \n",
       "1               373.0  \n",
       "2               247.0  \n",
       "3               130.0  "
      ]
     },
     "execution_count": 963,
     "metadata": {},
     "output_type": "execute_result"
    }
   ],
   "source": [
    "retail_uk_customer.groupby(['recencycluster'])[['lastvisit']].describe()"
   ]
  },
  {
   "cell_type": "code",
   "execution_count": 964,
   "metadata": {},
   "outputs": [],
   "source": [
    "#frequency\n",
    "\n",
    "retail_uk_purchasecount=retail_uk.groupby('customerid').invoicedate.nunique().reset_index()\n",
    "retail_uk_purchasecount.columns=['customerid','purchasecount']\n",
    "\n",
    "#customerid \n",
    "#retail_uk_cf=pd.DataFrame(retail_uk['customerid'].unique())\n",
    "#retail_uk_cf.columns=['customerid']\n",
    "\n",
    "\n",
    "#purchase count by customerid\n",
    "\n",
    "retail_uk_customer=pd.merge(retail_uk_customer,retail_uk_purchasecount,on='customerid')"
   ]
  },
  {
   "cell_type": "code",
   "execution_count": 965,
   "metadata": {},
   "outputs": [
    {
     "name": "stderr",
     "output_type": "stream",
     "text": [
      "C:\\Users\\Anupama\\Anaconda3\\lib\\site-packages\\ipykernel_launcher.py:6: SettingWithCopyWarning: \n",
      "A value is trying to be set on a copy of a slice from a DataFrame.\n",
      "Try using .loc[row_indexer,col_indexer] = value instead\n",
      "\n",
      "See the caveats in the documentation: http://pandas.pydata.org/pandas-docs/stable/indexing.html#indexing-view-versus-copy\n",
      "  \n",
      "C:\\Users\\Anupama\\Anaconda3\\lib\\site-packages\\ipykernel_launcher.py:6: SettingWithCopyWarning: \n",
      "A value is trying to be set on a copy of a slice from a DataFrame.\n",
      "Try using .loc[row_indexer,col_indexer] = value instead\n",
      "\n",
      "See the caveats in the documentation: http://pandas.pydata.org/pandas-docs/stable/indexing.html#indexing-view-versus-copy\n",
      "  \n",
      "C:\\Users\\Anupama\\Anaconda3\\lib\\site-packages\\ipykernel_launcher.py:6: SettingWithCopyWarning: \n",
      "A value is trying to be set on a copy of a slice from a DataFrame.\n",
      "Try using .loc[row_indexer,col_indexer] = value instead\n",
      "\n",
      "See the caveats in the documentation: http://pandas.pydata.org/pandas-docs/stable/indexing.html#indexing-view-versus-copy\n",
      "  \n",
      "C:\\Users\\Anupama\\Anaconda3\\lib\\site-packages\\ipykernel_launcher.py:6: SettingWithCopyWarning: \n",
      "A value is trying to be set on a copy of a slice from a DataFrame.\n",
      "Try using .loc[row_indexer,col_indexer] = value instead\n",
      "\n",
      "See the caveats in the documentation: http://pandas.pydata.org/pandas-docs/stable/indexing.html#indexing-view-versus-copy\n",
      "  \n",
      "C:\\Users\\Anupama\\Anaconda3\\lib\\site-packages\\ipykernel_launcher.py:6: SettingWithCopyWarning: \n",
      "A value is trying to be set on a copy of a slice from a DataFrame.\n",
      "Try using .loc[row_indexer,col_indexer] = value instead\n",
      "\n",
      "See the caveats in the documentation: http://pandas.pydata.org/pandas-docs/stable/indexing.html#indexing-view-versus-copy\n",
      "  \n",
      "C:\\Users\\Anupama\\Anaconda3\\lib\\site-packages\\ipykernel_launcher.py:6: SettingWithCopyWarning: \n",
      "A value is trying to be set on a copy of a slice from a DataFrame.\n",
      "Try using .loc[row_indexer,col_indexer] = value instead\n",
      "\n",
      "See the caveats in the documentation: http://pandas.pydata.org/pandas-docs/stable/indexing.html#indexing-view-versus-copy\n",
      "  \n",
      "C:\\Users\\Anupama\\Anaconda3\\lib\\site-packages\\ipykernel_launcher.py:6: SettingWithCopyWarning: \n",
      "A value is trying to be set on a copy of a slice from a DataFrame.\n",
      "Try using .loc[row_indexer,col_indexer] = value instead\n",
      "\n",
      "See the caveats in the documentation: http://pandas.pydata.org/pandas-docs/stable/indexing.html#indexing-view-versus-copy\n",
      "  \n",
      "C:\\Users\\Anupama\\Anaconda3\\lib\\site-packages\\ipykernel_launcher.py:6: SettingWithCopyWarning: \n",
      "A value is trying to be set on a copy of a slice from a DataFrame.\n",
      "Try using .loc[row_indexer,col_indexer] = value instead\n",
      "\n",
      "See the caveats in the documentation: http://pandas.pydata.org/pandas-docs/stable/indexing.html#indexing-view-versus-copy\n",
      "  \n",
      "C:\\Users\\Anupama\\Anaconda3\\lib\\site-packages\\ipykernel_launcher.py:6: SettingWithCopyWarning: \n",
      "A value is trying to be set on a copy of a slice from a DataFrame.\n",
      "Try using .loc[row_indexer,col_indexer] = value instead\n",
      "\n",
      "See the caveats in the documentation: http://pandas.pydata.org/pandas-docs/stable/indexing.html#indexing-view-versus-copy\n",
      "  \n"
     ]
    },
    {
     "data": {
      "image/png": "[encoded data removed]",
      "text/plain": [
       "<Figure size 432x288 with 1 Axes>"
      ]
     },
     "metadata": {
      "needs_background": "light"
     },
     "output_type": "display_data"
    }
   ],
   "source": [
    "from sklearn.cluster import KMeans\n",
    "sse={}\n",
    "retail_uk_purchase = retail_uk_customer[['purchasecount']]\n",
    "for k in range(1, 10):\n",
    "    kmeans = KMeans(n_clusters=k, max_iter=1000).fit(retail_uk_purchase)\n",
    "    retail_uk_purchase['cluster'] = kmeans.labels_\n",
    "    sse[k] = kmeans.inertia_ \n",
    "    \n",
    "plt.figure()\n",
    "plt.plot(list(sse.keys()), list(sse.values()))\n",
    "plt.xlabel(\"Number of cluster\")\n",
    "plt.show()\n"
   ]
  },
  {
   "cell_type": "code",
   "execution_count": 966,
   "metadata": {},
   "outputs": [
    {
     "data": {
      "image/png": "[encoded data removed]",
      "text/plain": [
       "<Figure size 432x288 with 2 Axes>"
      ]
     },
     "metadata": {
      "needs_background": "light"
     },
     "output_type": "display_data"
    }
   ],
   "source": [
    "kmodel = KMeans(n_clusters=4)\n",
    "kmodel.fit(retail_uk_customer[['purchasecount']])\n",
    "retail_uk_customer['frequencycluster']=kmodel.predict(retail_uk_customer[['purchasecount']])\n",
    "#fig, axes = plt.subplots(1, 2, figsize=(16,8))\n",
    "ax1=retail_uk_customer.plot.scatter(x='customerid',y='purchasecount',c='frequencycluster',colormap='viridis',s=100)"
   ]
  },
  {
   "cell_type": "code",
   "execution_count": 967,
   "metadata": {},
   "outputs": [
    {
     "data": {
      "text/html": [
       "<div>\n",
       "<style scoped>\n",
       "    .dataframe tbody tr th:only-of-type {\n",
       "        vertical-align: middle;\n",
       "    }\n",
       "\n",
       "    .dataframe tbody tr th {\n",
       "        vertical-align: top;\n",
       "    }\n",
       "\n",
       "    .dataframe thead tr th {\n",
       "        text-align: left;\n",
       "    }\n",
       "\n",
       "    .dataframe thead tr:last-of-type th {\n",
       "        text-align: right;\n",
       "    }\n",
       "</style>\n",
       "<table border=\"1\" class=\"dataframe\">\n",
       "  <thead>\n",
       "    <tr>\n",
       "      <th></th>\n",
       "      <th colspan=\"8\" halign=\"left\">purchasecount</th>\n",
       "    </tr>\n",
       "    <tr>\n",
       "      <th></th>\n",
       "      <th>count</th>\n",
       "      <th>mean</th>\n",
       "      <th>std</th>\n",
       "      <th>min</th>\n",
       "      <th>25%</th>\n",
       "      <th>50%</th>\n",
       "      <th>75%</th>\n",
       "      <th>max</th>\n",
       "    </tr>\n",
       "    <tr>\n",
       "      <th>frequencycluster</th>\n",
       "      <th></th>\n",
       "      <th></th>\n",
       "      <th></th>\n",
       "      <th></th>\n",
       "      <th></th>\n",
       "      <th></th>\n",
       "      <th></th>\n",
       "      <th></th>\n",
       "    </tr>\n",
       "  </thead>\n",
       "  <tbody>\n",
       "    <tr>\n",
       "      <th>0</th>\n",
       "      <td>694.0</td>\n",
       "      <td>8.968300</td>\n",
       "      <td>3.062905</td>\n",
       "      <td>6.0</td>\n",
       "      <td>7.00</td>\n",
       "      <td>8.0</td>\n",
       "      <td>11.00</td>\n",
       "      <td>18.0</td>\n",
       "    </tr>\n",
       "    <tr>\n",
       "      <th>1</th>\n",
       "      <td>3153.0</td>\n",
       "      <td>2.146844</td>\n",
       "      <td>1.263130</td>\n",
       "      <td>1.0</td>\n",
       "      <td>1.00</td>\n",
       "      <td>2.0</td>\n",
       "      <td>3.00</td>\n",
       "      <td>5.0</td>\n",
       "    </tr>\n",
       "    <tr>\n",
       "      <th>2</th>\n",
       "      <td>66.0</td>\n",
       "      <td>28.181818</td>\n",
       "      <td>8.705275</td>\n",
       "      <td>19.0</td>\n",
       "      <td>21.00</td>\n",
       "      <td>24.5</td>\n",
       "      <td>33.75</td>\n",
       "      <td>51.0</td>\n",
       "    </tr>\n",
       "    <tr>\n",
       "      <th>3</th>\n",
       "      <td>6.0</td>\n",
       "      <td>85.166667</td>\n",
       "      <td>15.879757</td>\n",
       "      <td>68.0</td>\n",
       "      <td>72.25</td>\n",
       "      <td>86.5</td>\n",
       "      <td>91.00</td>\n",
       "      <td>110.0</td>\n",
       "    </tr>\n",
       "  </tbody>\n",
       "</table>\n",
       "</div>"
      ],
      "text/plain": [
       "                 purchasecount                                           \\\n",
       "                         count       mean        std   min    25%   50%   \n",
       "frequencycluster                                                          \n",
       "0                        694.0   8.968300   3.062905   6.0   7.00   8.0   \n",
       "1                       3153.0   2.146844   1.263130   1.0   1.00   2.0   \n",
       "2                         66.0  28.181818   8.705275  19.0  21.00  24.5   \n",
       "3                          6.0  85.166667  15.879757  68.0  72.25  86.5   \n",
       "\n",
       "                                \n",
       "                    75%    max  \n",
       "frequencycluster                \n",
       "0                 11.00   18.0  \n",
       "1                  3.00    5.0  \n",
       "2                 33.75   51.0  \n",
       "3                 91.00  110.0  "
      ]
     },
     "execution_count": 967,
     "metadata": {},
     "output_type": "execute_result"
    }
   ],
   "source": [
    "retail_uk_customer.groupby(['frequencycluster'])[['purchasecount']].describe()"
   ]
  },
  {
   "cell_type": "code",
   "execution_count": 968,
   "metadata": {},
   "outputs": [],
   "source": [
    "#monetary\n",
    "\n",
    "\n",
    "retail_uk_cost=retail_uk.groupby('customerid')['total'].sum().reset_index()\n",
    "retail_uk_cost=retail_uk_cost[retail_uk_cost['total']<10000]\n",
    "retail_uk_customer=pd.merge(retail_uk_customer,retail_uk_cost,on='customerid')"
   ]
  },
  {
   "cell_type": "code",
   "execution_count": 969,
   "metadata": {},
   "outputs": [
    {
     "name": "stderr",
     "output_type": "stream",
     "text": [
      "C:\\Users\\Anupama\\Anaconda3\\lib\\site-packages\\ipykernel_launcher.py:6: SettingWithCopyWarning: \n",
      "A value is trying to be set on a copy of a slice from a DataFrame.\n",
      "Try using .loc[row_indexer,col_indexer] = value instead\n",
      "\n",
      "See the caveats in the documentation: http://pandas.pydata.org/pandas-docs/stable/indexing.html#indexing-view-versus-copy\n",
      "  \n",
      "C:\\Users\\Anupama\\Anaconda3\\lib\\site-packages\\ipykernel_launcher.py:6: SettingWithCopyWarning: \n",
      "A value is trying to be set on a copy of a slice from a DataFrame.\n",
      "Try using .loc[row_indexer,col_indexer] = value instead\n",
      "\n",
      "See the caveats in the documentation: http://pandas.pydata.org/pandas-docs/stable/indexing.html#indexing-view-versus-copy\n",
      "  \n",
      "C:\\Users\\Anupama\\Anaconda3\\lib\\site-packages\\ipykernel_launcher.py:6: SettingWithCopyWarning: \n",
      "A value is trying to be set on a copy of a slice from a DataFrame.\n",
      "Try using .loc[row_indexer,col_indexer] = value instead\n",
      "\n",
      "See the caveats in the documentation: http://pandas.pydata.org/pandas-docs/stable/indexing.html#indexing-view-versus-copy\n",
      "  \n",
      "C:\\Users\\Anupama\\Anaconda3\\lib\\site-packages\\ipykernel_launcher.py:6: SettingWithCopyWarning: \n",
      "A value is trying to be set on a copy of a slice from a DataFrame.\n",
      "Try using .loc[row_indexer,col_indexer] = value instead\n",
      "\n",
      "See the caveats in the documentation: http://pandas.pydata.org/pandas-docs/stable/indexing.html#indexing-view-versus-copy\n",
      "  \n",
      "C:\\Users\\Anupama\\Anaconda3\\lib\\site-packages\\ipykernel_launcher.py:6: SettingWithCopyWarning: \n",
      "A value is trying to be set on a copy of a slice from a DataFrame.\n",
      "Try using .loc[row_indexer,col_indexer] = value instead\n",
      "\n",
      "See the caveats in the documentation: http://pandas.pydata.org/pandas-docs/stable/indexing.html#indexing-view-versus-copy\n",
      "  \n",
      "C:\\Users\\Anupama\\Anaconda3\\lib\\site-packages\\ipykernel_launcher.py:6: SettingWithCopyWarning: \n",
      "A value is trying to be set on a copy of a slice from a DataFrame.\n",
      "Try using .loc[row_indexer,col_indexer] = value instead\n",
      "\n",
      "See the caveats in the documentation: http://pandas.pydata.org/pandas-docs/stable/indexing.html#indexing-view-versus-copy\n",
      "  \n",
      "C:\\Users\\Anupama\\Anaconda3\\lib\\site-packages\\ipykernel_launcher.py:6: SettingWithCopyWarning: \n",
      "A value is trying to be set on a copy of a slice from a DataFrame.\n",
      "Try using .loc[row_indexer,col_indexer] = value instead\n",
      "\n",
      "See the caveats in the documentation: http://pandas.pydata.org/pandas-docs/stable/indexing.html#indexing-view-versus-copy\n",
      "  \n",
      "C:\\Users\\Anupama\\Anaconda3\\lib\\site-packages\\ipykernel_launcher.py:6: SettingWithCopyWarning: \n",
      "A value is trying to be set on a copy of a slice from a DataFrame.\n",
      "Try using .loc[row_indexer,col_indexer] = value instead\n",
      "\n",
      "See the caveats in the documentation: http://pandas.pydata.org/pandas-docs/stable/indexing.html#indexing-view-versus-copy\n",
      "  \n",
      "C:\\Users\\Anupama\\Anaconda3\\lib\\site-packages\\ipykernel_launcher.py:6: SettingWithCopyWarning: \n",
      "A value is trying to be set on a copy of a slice from a DataFrame.\n",
      "Try using .loc[row_indexer,col_indexer] = value instead\n",
      "\n",
      "See the caveats in the documentation: http://pandas.pydata.org/pandas-docs/stable/indexing.html#indexing-view-versus-copy\n",
      "  \n"
     ]
    },
    {
     "data": {
      "image/png": "[encoded data removed]",
      "text/plain": [
       "<Figure size 432x288 with 1 Axes>"
      ]
     },
     "metadata": {
      "needs_background": "light"
     },
     "output_type": "display_data"
    }
   ],
   "source": [
    "from sklearn.cluster import KMeans\n",
    "sse={}\n",
    "retail_uk_total = retail_uk_customer[['total']]\n",
    "for k in range(1, 10):\n",
    "    kmeans = KMeans(n_clusters=k, max_iter=3000).fit(retail_uk_total)\n",
    "    retail_uk_total['costcluster'] = kmeans.labels_\n",
    "    sse[k] = kmeans.inertia_ \n",
    "    \n",
    "    \n",
    "plt.figure()\n",
    "plt.plot(list(sse.keys()), list(sse.values()))\n",
    "plt.xlabel(\"Number of cluster\")\n",
    "plt.show()"
   ]
  },
  {
   "cell_type": "code",
   "execution_count": 970,
   "metadata": {},
   "outputs": [
    {
     "data": {
      "image/png": "[encoded data removed]",
      "text/plain": [
       "<Figure size 432x288 with 2 Axes>"
      ]
     },
     "metadata": {
      "needs_background": "light"
     },
     "output_type": "display_data"
    }
   ],
   "source": [
    "kmodel = KMeans(n_clusters=4)\n",
    "kmodel.fit(retail_uk_customer[['total']])\n",
    "retail_uk_customer['costcluster']=kmodel.predict(retail_uk_customer[['total']])\n",
    "#fig, axes = plt.subplots(1, 2, figsize=(16,8))\n",
    "ax1=retail_uk_customer.plot.scatter(x='customerid',y='total',c='costcluster',colormap='viridis',s=100)"
   ]
  },
  {
   "cell_type": "code",
   "execution_count": 971,
   "metadata": {},
   "outputs": [
    {
     "data": {
      "text/html": [
       "<div>\n",
       "<style scoped>\n",
       "    .dataframe tbody tr th:only-of-type {\n",
       "        vertical-align: middle;\n",
       "    }\n",
       "\n",
       "    .dataframe tbody tr th {\n",
       "        vertical-align: top;\n",
       "    }\n",
       "\n",
       "    .dataframe thead tr th {\n",
       "        text-align: left;\n",
       "    }\n",
       "\n",
       "    .dataframe thead tr:last-of-type th {\n",
       "        text-align: right;\n",
       "    }\n",
       "</style>\n",
       "<table border=\"1\" class=\"dataframe\">\n",
       "  <thead>\n",
       "    <tr>\n",
       "      <th></th>\n",
       "      <th colspan=\"8\" halign=\"left\">total</th>\n",
       "    </tr>\n",
       "    <tr>\n",
       "      <th></th>\n",
       "      <th>count</th>\n",
       "      <th>mean</th>\n",
       "      <th>std</th>\n",
       "      <th>min</th>\n",
       "      <th>25%</th>\n",
       "      <th>50%</th>\n",
       "      <th>75%</th>\n",
       "      <th>max</th>\n",
       "    </tr>\n",
       "    <tr>\n",
       "      <th>costcluster</th>\n",
       "      <th></th>\n",
       "      <th></th>\n",
       "      <th></th>\n",
       "      <th></th>\n",
       "      <th></th>\n",
       "      <th></th>\n",
       "      <th></th>\n",
       "      <th></th>\n",
       "    </tr>\n",
       "  </thead>\n",
       "  <tbody>\n",
       "    <tr>\n",
       "      <th>0</th>\n",
       "      <td>2594.0</td>\n",
       "      <td>398.604329</td>\n",
       "      <td>266.198613</td>\n",
       "      <td>2.95</td>\n",
       "      <td>179.4900</td>\n",
       "      <td>327.905</td>\n",
       "      <td>582.6300</td>\n",
       "      <td>1047.68</td>\n",
       "    </tr>\n",
       "    <tr>\n",
       "      <th>1</th>\n",
       "      <td>271.0</td>\n",
       "      <td>3934.025129</td>\n",
       "      <td>770.111224</td>\n",
       "      <td>2837.61</td>\n",
       "      <td>3303.8000</td>\n",
       "      <td>3779.720</td>\n",
       "      <td>4462.0850</td>\n",
       "      <td>5666.64</td>\n",
       "    </tr>\n",
       "    <tr>\n",
       "      <th>2</th>\n",
       "      <td>900.0</td>\n",
       "      <td>1701.191522</td>\n",
       "      <td>490.653766</td>\n",
       "      <td>1049.29</td>\n",
       "      <td>1276.3475</td>\n",
       "      <td>1585.970</td>\n",
       "      <td>2074.9825</td>\n",
       "      <td>2806.56</td>\n",
       "    </tr>\n",
       "    <tr>\n",
       "      <th>3</th>\n",
       "      <td>84.0</td>\n",
       "      <td>7451.899405</td>\n",
       "      <td>1300.683797</td>\n",
       "      <td>5747.11</td>\n",
       "      <td>6378.4650</td>\n",
       "      <td>7050.570</td>\n",
       "      <td>8481.0275</td>\n",
       "      <td>9992.36</td>\n",
       "    </tr>\n",
       "  </tbody>\n",
       "</table>\n",
       "</div>"
      ],
      "text/plain": [
       "              total                                                          \\\n",
       "              count         mean          std      min        25%       50%   \n",
       "costcluster                                                                   \n",
       "0            2594.0   398.604329   266.198613     2.95   179.4900   327.905   \n",
       "1             271.0  3934.025129   770.111224  2837.61  3303.8000  3779.720   \n",
       "2             900.0  1701.191522   490.653766  1049.29  1276.3475  1585.970   \n",
       "3              84.0  7451.899405  1300.683797  5747.11  6378.4650  7050.570   \n",
       "\n",
       "                                 \n",
       "                   75%      max  \n",
       "costcluster                      \n",
       "0             582.6300  1047.68  \n",
       "1            4462.0850  5666.64  \n",
       "2            2074.9825  2806.56  \n",
       "3            8481.0275  9992.36  "
      ]
     },
     "execution_count": 971,
     "metadata": {},
     "output_type": "execute_result"
    }
   ],
   "source": [
    "retail_uk_customer.groupby(['costcluster'])[['total']].describe()"
   ]
  },
  {
   "cell_type": "code",
   "execution_count": 972,
   "metadata": {},
   "outputs": [
    {
     "data": {
      "text/html": [
       "<div>\n",
       "<style scoped>\n",
       "    .dataframe tbody tr th:only-of-type {\n",
       "        vertical-align: middle;\n",
       "    }\n",
       "\n",
       "    .dataframe tbody tr th {\n",
       "        vertical-align: top;\n",
       "    }\n",
       "\n",
       "    .dataframe thead th {\n",
       "        text-align: right;\n",
       "    }\n",
       "</style>\n",
       "<table border=\"1\" class=\"dataframe\">\n",
       "  <thead>\n",
       "    <tr style=\"text-align: right;\">\n",
       "      <th></th>\n",
       "      <th>lastvisit</th>\n",
       "      <th>purchasecount</th>\n",
       "      <th>total</th>\n",
       "    </tr>\n",
       "    <tr>\n",
       "      <th>score</th>\n",
       "      <th></th>\n",
       "      <th></th>\n",
       "      <th></th>\n",
       "    </tr>\n",
       "  </thead>\n",
       "  <tbody>\n",
       "    <tr>\n",
       "      <th>0</th>\n",
       "      <td>15.771429</td>\n",
       "      <td>7.085714</td>\n",
       "      <td>861.323714</td>\n",
       "    </tr>\n",
       "    <tr>\n",
       "      <th>1</th>\n",
       "      <td>20.571818</td>\n",
       "      <td>3.508182</td>\n",
       "      <td>1037.411736</td>\n",
       "    </tr>\n",
       "    <tr>\n",
       "      <th>2</th>\n",
       "      <td>177.357850</td>\n",
       "      <td>4.056577</td>\n",
       "      <td>1051.654625</td>\n",
       "    </tr>\n",
       "    <tr>\n",
       "      <th>3</th>\n",
       "      <td>122.275229</td>\n",
       "      <td>3.224771</td>\n",
       "      <td>1204.905390</td>\n",
       "    </tr>\n",
       "    <tr>\n",
       "      <th>4</th>\n",
       "      <td>82.473958</td>\n",
       "      <td>2.238281</td>\n",
       "      <td>580.761732</td>\n",
       "    </tr>\n",
       "    <tr>\n",
       "      <th>5</th>\n",
       "      <td>108.975309</td>\n",
       "      <td>6.870370</td>\n",
       "      <td>2725.554321</td>\n",
       "    </tr>\n",
       "    <tr>\n",
       "      <th>6</th>\n",
       "      <td>73.150754</td>\n",
       "      <td>3.738693</td>\n",
       "      <td>1864.805628</td>\n",
       "    </tr>\n",
       "    <tr>\n",
       "      <th>7</th>\n",
       "      <td>58.200000</td>\n",
       "      <td>9.400000</td>\n",
       "      <td>5337.938000</td>\n",
       "    </tr>\n",
       "    <tr>\n",
       "      <th>8</th>\n",
       "      <td>70.000000</td>\n",
       "      <td>20.000000</td>\n",
       "      <td>6284.980000</td>\n",
       "    </tr>\n",
       "  </tbody>\n",
       "</table>\n",
       "</div>"
      ],
      "text/plain": [
       "        lastvisit  purchasecount        total\n",
       "score                                        \n",
       "0       15.771429       7.085714   861.323714\n",
       "1       20.571818       3.508182  1037.411736\n",
       "2      177.357850       4.056577  1051.654625\n",
       "3      122.275229       3.224771  1204.905390\n",
       "4       82.473958       2.238281   580.761732\n",
       "5      108.975309       6.870370  2725.554321\n",
       "6       73.150754       3.738693  1864.805628\n",
       "7       58.200000       9.400000  5337.938000\n",
       "8       70.000000      20.000000  6284.980000"
      ]
     },
     "execution_count": 972,
     "metadata": {},
     "output_type": "execute_result"
    }
   ],
   "source": [
    "retail_uk_customer['score']=retail_uk_customer['recencycluster']+retail_uk_customer['frequencycluster']+retail_uk_customer['costcluster']\n",
    "retail_uk_customer.groupby('score')['lastvisit','purchasecount','total'].mean()\n"
   ]
  },
  {
   "cell_type": "code",
   "execution_count": 973,
   "metadata": {},
   "outputs": [
    {
     "data": {
      "text/html": [
       "<div>\n",
       "<style scoped>\n",
       "    .dataframe tbody tr th:only-of-type {\n",
       "        vertical-align: middle;\n",
       "    }\n",
       "\n",
       "    .dataframe tbody tr th {\n",
       "        vertical-align: top;\n",
       "    }\n",
       "\n",
       "    .dataframe thead th {\n",
       "        text-align: right;\n",
       "    }\n",
       "</style>\n",
       "<table border=\"1\" class=\"dataframe\">\n",
       "  <thead>\n",
       "    <tr style=\"text-align: right;\">\n",
       "      <th></th>\n",
       "      <th>customerid</th>\n",
       "      <th>lastvisit</th>\n",
       "      <th>recencycluster</th>\n",
       "      <th>purchasecount</th>\n",
       "      <th>frequencycluster</th>\n",
       "      <th>total</th>\n",
       "      <th>costcluster</th>\n",
       "      <th>score</th>\n",
       "    </tr>\n",
       "  </thead>\n",
       "  <tbody>\n",
       "    <tr>\n",
       "      <th>0</th>\n",
       "      <td>13085.0</td>\n",
       "      <td>314</td>\n",
       "      <td>1</td>\n",
       "      <td>3</td>\n",
       "      <td>1</td>\n",
       "      <td>1624.20</td>\n",
       "      <td>2</td>\n",
       "      <td>4</td>\n",
       "    </tr>\n",
       "    <tr>\n",
       "      <th>1</th>\n",
       "      <td>15362.0</td>\n",
       "      <td>83</td>\n",
       "      <td>3</td>\n",
       "      <td>2</td>\n",
       "      <td>1</td>\n",
       "      <td>555.78</td>\n",
       "      <td>0</td>\n",
       "      <td>4</td>\n",
       "    </tr>\n",
       "    <tr>\n",
       "      <th>2</th>\n",
       "      <td>18087.0</td>\n",
       "      <td>14</td>\n",
       "      <td>0</td>\n",
       "      <td>12</td>\n",
       "      <td>0</td>\n",
       "      <td>9992.36</td>\n",
       "      <td>3</td>\n",
       "      <td>3</td>\n",
       "    </tr>\n",
       "    <tr>\n",
       "      <th>3</th>\n",
       "      <td>13635.0</td>\n",
       "      <td>77</td>\n",
       "      <td>3</td>\n",
       "      <td>3</td>\n",
       "      <td>1</td>\n",
       "      <td>1745.19</td>\n",
       "      <td>2</td>\n",
       "      <td>6</td>\n",
       "    </tr>\n",
       "    <tr>\n",
       "      <th>4</th>\n",
       "      <td>14110.0</td>\n",
       "      <td>70</td>\n",
       "      <td>3</td>\n",
       "      <td>20</td>\n",
       "      <td>2</td>\n",
       "      <td>6284.98</td>\n",
       "      <td>3</td>\n",
       "      <td>8</td>\n",
       "    </tr>\n",
       "  </tbody>\n",
       "</table>\n",
       "</div>"
      ],
      "text/plain": [
       "   customerid  lastvisit  recencycluster  purchasecount  frequencycluster  \\\n",
       "0     13085.0        314               1              3                 1   \n",
       "1     15362.0         83               3              2                 1   \n",
       "2     18087.0         14               0             12                 0   \n",
       "3     13635.0         77               3              3                 1   \n",
       "4     14110.0         70               3             20                 2   \n",
       "\n",
       "     total  costcluster  score  \n",
       "0  1624.20            2      4  \n",
       "1   555.78            0      4  \n",
       "2  9992.36            3      3  \n",
       "3  1745.19            2      6  \n",
       "4  6284.98            3      8  "
      ]
     },
     "execution_count": 973,
     "metadata": {},
     "output_type": "execute_result"
    }
   ],
   "source": [
    "retail_uk_customer.head()"
   ]
  },
  {
   "cell_type": "code",
   "execution_count": 974,
   "metadata": {},
   "outputs": [],
   "source": [
    "# finding first 6 month and last month data\n",
    "\n",
    "#retail_uk.nlargest(1,'invoicedate')\n",
    "#retail_uk.slargest(1,'invoicedate')\n",
    "\n",
    "retail_uk['invoicedate'] = pd.to_datetime(retail_uk['invoicedate'])\n",
    "retail_uk_6mon=retail_uk[(retail_uk['invoicedate']<'2010-9-01')& (retail_uk['invoicedate']>='2010-03-01')].reset_index(drop=True)\n",
    "retail_uk_3mon=retail_uk[(retail_uk['invoicedate']>='2010-9-01')& (retail_uk['invoicedate']<'2010-12-01')].reset_index(drop=True)\n",
    "\n",
    "\n",
    "\n"
   ]
  },
  {
   "cell_type": "code",
   "execution_count": 975,
   "metadata": {},
   "outputs": [],
   "source": [
    "retail_uk_user=pd.DataFrame(retail_uk_6mon['customerid'].unique())\n",
    "retail_uk_user.columns=['customerid']"
   ]
  },
  {
   "cell_type": "code",
   "execution_count": 976,
   "metadata": {},
   "outputs": [],
   "source": [
    "#find the first purchase date in the 3 month list\n",
    "retail_uk_first_3mon=retail_uk_3mon.groupby('customerid')['invoicedate'].min().reset_index()\n",
    "retail_uk_first_3mon.columns=['customerid','firstpurchasedate']\n",
    "\n",
    "\n",
    "#find the last purchase date in 6 month list\n",
    "retail_uk_last_6mon=retail_uk_6mon.groupby('customerid')['invoicedate'].max().reset_index()\n",
    "retail_uk_last_6mon.columns=['customerid','lastpurchasedate']\n",
    "\n",
    "\n",
    "# new dataframe with purchase dates and interval\n",
    "retail_uk_purchase=pd.merge(retail_uk_last_6mon,retail_uk_first_3mon,on='customerid')\n",
    "retail_uk_purchase['purchaseinterval']=(retail_uk_purchase['firstpurchasedate']-retail_uk_purchase['lastpurchasedate']).dt.days\n",
    "\n",
    "# add columns to user dataframe\n",
    "retail_uk_user=pd.merge(retail_uk_user,retail_uk_purchase[['customerid','purchaseinterval']],on='customerid')\n",
    "\n"
   ]
  },
  {
   "cell_type": "code",
   "execution_count": 946,
   "metadata": {},
   "outputs": [
    {
     "name": "stderr",
     "output_type": "stream",
     "text": [
      "C:\\Users\\Anupama\\Anaconda3\\lib\\site-packages\\ipykernel_launcher.py:4: SettingWithCopyWarning: \n",
      "A value is trying to be set on a copy of a slice from a DataFrame.\n",
      "Try using .loc[row_indexer,col_indexer] = value instead\n",
      "\n",
      "See the caveats in the documentation: http://pandas.pydata.org/pandas-docs/stable/indexing.html#indexing-view-versus-copy\n",
      "  after removing the cwd from sys.path.\n"
     ]
    }
   ],
   "source": [
    "#days between last three purchase \n",
    "\n",
    "retail_uk_invoice=retail_uk_6mon[['customerid','invoicedate']]\n",
    "retail_uk_invoice['invoiceday']=retail_uk_invoice['invoicedate'].dt.date\n",
    "retail_uk_invoice=retail_uk_invoice.sort_values(['customerid','invoicedate'])\n",
    "retail_uk_invoice=retail_uk_invoice.drop_duplicates(subset=['customerid','invoicedate'])\n"
   ]
  },
  {
   "cell_type": "code",
   "execution_count": 947,
   "metadata": {},
   "outputs": [
    {
     "data": {
      "text/html": [
       "<div>\n",
       "<style scoped>\n",
       "    .dataframe tbody tr th:only-of-type {\n",
       "        vertical-align: middle;\n",
       "    }\n",
       "\n",
       "    .dataframe tbody tr th {\n",
       "        vertical-align: top;\n",
       "    }\n",
       "\n",
       "    .dataframe thead th {\n",
       "        text-align: right;\n",
       "    }\n",
       "</style>\n",
       "<table border=\"1\" class=\"dataframe\">\n",
       "  <thead>\n",
       "    <tr style=\"text-align: right;\">\n",
       "      <th></th>\n",
       "      <th>customerid</th>\n",
       "      <th>invoicedate</th>\n",
       "      <th>invoiceday</th>\n",
       "    </tr>\n",
       "  </thead>\n",
       "  <tbody>\n",
       "    <tr>\n",
       "      <th>997</th>\n",
       "      <td>12346.0</td>\n",
       "      <td>2010-03-02</td>\n",
       "      <td>2010-03-02</td>\n",
       "    </tr>\n",
       "    <tr>\n",
       "      <th>88430</th>\n",
       "      <td>12346.0</td>\n",
       "      <td>2010-06-28</td>\n",
       "      <td>2010-06-28</td>\n",
       "    </tr>\n",
       "    <tr>\n",
       "      <th>54485</th>\n",
       "      <td>12745.0</td>\n",
       "      <td>2010-05-14</td>\n",
       "      <td>2010-05-14</td>\n",
       "    </tr>\n",
       "    <tr>\n",
       "      <th>117902</th>\n",
       "      <td>12745.0</td>\n",
       "      <td>2010-08-10</td>\n",
       "      <td>2010-08-10</td>\n",
       "    </tr>\n",
       "    <tr>\n",
       "      <th>81327</th>\n",
       "      <td>12746.0</td>\n",
       "      <td>2010-06-17</td>\n",
       "      <td>2010-06-17</td>\n",
       "    </tr>\n",
       "    <tr>\n",
       "      <th>6819</th>\n",
       "      <td>12747.0</td>\n",
       "      <td>2010-03-09</td>\n",
       "      <td>2010-03-09</td>\n",
       "    </tr>\n",
       "    <tr>\n",
       "      <th>37903</th>\n",
       "      <td>12747.0</td>\n",
       "      <td>2010-04-23</td>\n",
       "      <td>2010-04-23</td>\n",
       "    </tr>\n",
       "    <tr>\n",
       "      <th>64024</th>\n",
       "      <td>12747.0</td>\n",
       "      <td>2010-05-27</td>\n",
       "      <td>2010-05-27</td>\n",
       "    </tr>\n",
       "    <tr>\n",
       "      <th>77603</th>\n",
       "      <td>12747.0</td>\n",
       "      <td>2010-06-13</td>\n",
       "      <td>2010-06-13</td>\n",
       "    </tr>\n",
       "    <tr>\n",
       "      <th>85333</th>\n",
       "      <td>12747.0</td>\n",
       "      <td>2010-06-23</td>\n",
       "      <td>2010-06-23</td>\n",
       "    </tr>\n",
       "  </tbody>\n",
       "</table>\n",
       "</div>"
      ],
      "text/plain": [
       "        customerid invoicedate  invoiceday\n",
       "997        12346.0  2010-03-02  2010-03-02\n",
       "88430      12346.0  2010-06-28  2010-06-28\n",
       "54485      12745.0  2010-05-14  2010-05-14\n",
       "117902     12745.0  2010-08-10  2010-08-10\n",
       "81327      12746.0  2010-06-17  2010-06-17\n",
       "6819       12747.0  2010-03-09  2010-03-09\n",
       "37903      12747.0  2010-04-23  2010-04-23\n",
       "64024      12747.0  2010-05-27  2010-05-27\n",
       "77603      12747.0  2010-06-13  2010-06-13\n",
       "85333      12747.0  2010-06-23  2010-06-23"
      ]
     },
     "execution_count": 947,
     "metadata": {},
     "output_type": "execute_result"
    }
   ],
   "source": [
    "retail_uk_invoice.head(10)\n"
   ]
  },
  {
   "cell_type": "code",
   "execution_count": 948,
   "metadata": {},
   "outputs": [],
   "source": [
    "#fill the dataframe with three invoice date sequence\n",
    "\n",
    "retail_uk_invoice['firstpurchase']=retail_uk_invoice.groupby('customerid')['invoiceday'].shift(1)\n",
    "retail_uk_invoice['secondpurchase']=retail_uk_invoice.groupby('customerid')['invoiceday'].shift(2)\n",
    "retail_uk_invoice['thirdpurchase']=retail_uk_invoice.groupby('customerid')['invoiceday'].shift(3)\n"
   ]
  },
  {
   "cell_type": "code",
   "execution_count": 949,
   "metadata": {},
   "outputs": [],
   "source": [
    "#find the diff btween last invoice and first invoice,last and second invoice,last and third invoice\n",
    "\n",
    "retail_uk_invoice['firstinterval']=(retail_uk_invoice['invoiceday']-retail_uk_invoice['firstpurchase']).dt.days\n",
    "retail_uk_invoice['secondinterval']=(retail_uk_invoice['invoiceday']-retail_uk_invoice['secondpurchase']).dt.days\n",
    "retail_uk_invoice['thirdinterval']=(retail_uk_invoice['invoiceday']-retail_uk_invoice['thirdpurchase']).dt.days\n",
    "\n"
   ]
  },
  {
   "cell_type": "code",
   "execution_count": 950,
   "metadata": {},
   "outputs": [
    {
     "data": {
      "text/html": [
       "<div>\n",
       "<style scoped>\n",
       "    .dataframe tbody tr th:only-of-type {\n",
       "        vertical-align: middle;\n",
       "    }\n",
       "\n",
       "    .dataframe tbody tr th {\n",
       "        vertical-align: top;\n",
       "    }\n",
       "\n",
       "    .dataframe thead th {\n",
       "        text-align: right;\n",
       "    }\n",
       "</style>\n",
       "<table border=\"1\" class=\"dataframe\">\n",
       "  <thead>\n",
       "    <tr style=\"text-align: right;\">\n",
       "      <th></th>\n",
       "      <th>customerid</th>\n",
       "      <th>invoicedate</th>\n",
       "      <th>invoiceday</th>\n",
       "      <th>firstpurchase</th>\n",
       "      <th>secondpurchase</th>\n",
       "      <th>thirdpurchase</th>\n",
       "      <th>firstinterval</th>\n",
       "      <th>secondinterval</th>\n",
       "      <th>thirdinterval</th>\n",
       "    </tr>\n",
       "  </thead>\n",
       "  <tbody>\n",
       "    <tr>\n",
       "      <th>997</th>\n",
       "      <td>12346.0</td>\n",
       "      <td>2010-03-02</td>\n",
       "      <td>2010-03-02</td>\n",
       "      <td>NaN</td>\n",
       "      <td>NaN</td>\n",
       "      <td>NaN</td>\n",
       "      <td>NaN</td>\n",
       "      <td>NaN</td>\n",
       "      <td>NaN</td>\n",
       "    </tr>\n",
       "    <tr>\n",
       "      <th>88430</th>\n",
       "      <td>12346.0</td>\n",
       "      <td>2010-06-28</td>\n",
       "      <td>2010-06-28</td>\n",
       "      <td>2010-03-02</td>\n",
       "      <td>NaN</td>\n",
       "      <td>NaN</td>\n",
       "      <td>118.0</td>\n",
       "      <td>NaN</td>\n",
       "      <td>NaN</td>\n",
       "    </tr>\n",
       "    <tr>\n",
       "      <th>54485</th>\n",
       "      <td>12745.0</td>\n",
       "      <td>2010-05-14</td>\n",
       "      <td>2010-05-14</td>\n",
       "      <td>NaN</td>\n",
       "      <td>NaN</td>\n",
       "      <td>NaN</td>\n",
       "      <td>NaN</td>\n",
       "      <td>NaN</td>\n",
       "      <td>NaN</td>\n",
       "    </tr>\n",
       "    <tr>\n",
       "      <th>117902</th>\n",
       "      <td>12745.0</td>\n",
       "      <td>2010-08-10</td>\n",
       "      <td>2010-08-10</td>\n",
       "      <td>2010-05-14</td>\n",
       "      <td>NaN</td>\n",
       "      <td>NaN</td>\n",
       "      <td>88.0</td>\n",
       "      <td>NaN</td>\n",
       "      <td>NaN</td>\n",
       "    </tr>\n",
       "    <tr>\n",
       "      <th>81327</th>\n",
       "      <td>12746.0</td>\n",
       "      <td>2010-06-17</td>\n",
       "      <td>2010-06-17</td>\n",
       "      <td>NaN</td>\n",
       "      <td>NaN</td>\n",
       "      <td>NaN</td>\n",
       "      <td>NaN</td>\n",
       "      <td>NaN</td>\n",
       "      <td>NaN</td>\n",
       "    </tr>\n",
       "    <tr>\n",
       "      <th>6819</th>\n",
       "      <td>12747.0</td>\n",
       "      <td>2010-03-09</td>\n",
       "      <td>2010-03-09</td>\n",
       "      <td>NaN</td>\n",
       "      <td>NaN</td>\n",
       "      <td>NaN</td>\n",
       "      <td>NaN</td>\n",
       "      <td>NaN</td>\n",
       "      <td>NaN</td>\n",
       "    </tr>\n",
       "    <tr>\n",
       "      <th>37903</th>\n",
       "      <td>12747.0</td>\n",
       "      <td>2010-04-23</td>\n",
       "      <td>2010-04-23</td>\n",
       "      <td>2010-03-09</td>\n",
       "      <td>NaN</td>\n",
       "      <td>NaN</td>\n",
       "      <td>45.0</td>\n",
       "      <td>NaN</td>\n",
       "      <td>NaN</td>\n",
       "    </tr>\n",
       "    <tr>\n",
       "      <th>64024</th>\n",
       "      <td>12747.0</td>\n",
       "      <td>2010-05-27</td>\n",
       "      <td>2010-05-27</td>\n",
       "      <td>2010-04-23</td>\n",
       "      <td>2010-03-09</td>\n",
       "      <td>NaN</td>\n",
       "      <td>34.0</td>\n",
       "      <td>79.0</td>\n",
       "      <td>NaN</td>\n",
       "    </tr>\n",
       "    <tr>\n",
       "      <th>77603</th>\n",
       "      <td>12747.0</td>\n",
       "      <td>2010-06-13</td>\n",
       "      <td>2010-06-13</td>\n",
       "      <td>2010-05-27</td>\n",
       "      <td>2010-04-23</td>\n",
       "      <td>2010-03-09</td>\n",
       "      <td>17.0</td>\n",
       "      <td>51.0</td>\n",
       "      <td>96.0</td>\n",
       "    </tr>\n",
       "    <tr>\n",
       "      <th>85333</th>\n",
       "      <td>12747.0</td>\n",
       "      <td>2010-06-23</td>\n",
       "      <td>2010-06-23</td>\n",
       "      <td>2010-06-13</td>\n",
       "      <td>2010-05-27</td>\n",
       "      <td>2010-04-23</td>\n",
       "      <td>10.0</td>\n",
       "      <td>27.0</td>\n",
       "      <td>61.0</td>\n",
       "    </tr>\n",
       "    <tr>\n",
       "      <th>112496</th>\n",
       "      <td>12747.0</td>\n",
       "      <td>2010-08-02</td>\n",
       "      <td>2010-08-02</td>\n",
       "      <td>2010-06-23</td>\n",
       "      <td>2010-06-13</td>\n",
       "      <td>2010-05-27</td>\n",
       "      <td>40.0</td>\n",
       "      <td>50.0</td>\n",
       "      <td>67.0</td>\n",
       "    </tr>\n",
       "    <tr>\n",
       "      <th>130870</th>\n",
       "      <td>12747.0</td>\n",
       "      <td>2010-08-27</td>\n",
       "      <td>2010-08-27</td>\n",
       "      <td>2010-08-02</td>\n",
       "      <td>2010-06-23</td>\n",
       "      <td>2010-06-13</td>\n",
       "      <td>25.0</td>\n",
       "      <td>65.0</td>\n",
       "      <td>75.0</td>\n",
       "    </tr>\n",
       "    <tr>\n",
       "      <th>4395</th>\n",
       "      <td>12748.0</td>\n",
       "      <td>2010-03-05</td>\n",
       "      <td>2010-03-05</td>\n",
       "      <td>NaN</td>\n",
       "      <td>NaN</td>\n",
       "      <td>NaN</td>\n",
       "      <td>NaN</td>\n",
       "      <td>NaN</td>\n",
       "      <td>NaN</td>\n",
       "    </tr>\n",
       "    <tr>\n",
       "      <th>6505</th>\n",
       "      <td>12748.0</td>\n",
       "      <td>2010-03-09</td>\n",
       "      <td>2010-03-09</td>\n",
       "      <td>2010-03-05</td>\n",
       "      <td>NaN</td>\n",
       "      <td>NaN</td>\n",
       "      <td>4.0</td>\n",
       "      <td>NaN</td>\n",
       "      <td>NaN</td>\n",
       "    </tr>\n",
       "    <tr>\n",
       "      <th>9503</th>\n",
       "      <td>12748.0</td>\n",
       "      <td>2010-03-14</td>\n",
       "      <td>2010-03-14</td>\n",
       "      <td>2010-03-09</td>\n",
       "      <td>2010-03-05</td>\n",
       "      <td>NaN</td>\n",
       "      <td>5.0</td>\n",
       "      <td>9.0</td>\n",
       "      <td>NaN</td>\n",
       "    </tr>\n",
       "    <tr>\n",
       "      <th>11934</th>\n",
       "      <td>12748.0</td>\n",
       "      <td>2010-03-17</td>\n",
       "      <td>2010-03-17</td>\n",
       "      <td>2010-03-14</td>\n",
       "      <td>2010-03-09</td>\n",
       "      <td>2010-03-05</td>\n",
       "      <td>3.0</td>\n",
       "      <td>8.0</td>\n",
       "      <td>12.0</td>\n",
       "    </tr>\n",
       "    <tr>\n",
       "      <th>15613</th>\n",
       "      <td>12748.0</td>\n",
       "      <td>2010-03-22</td>\n",
       "      <td>2010-03-22</td>\n",
       "      <td>2010-03-17</td>\n",
       "      <td>2010-03-14</td>\n",
       "      <td>2010-03-09</td>\n",
       "      <td>5.0</td>\n",
       "      <td>8.0</td>\n",
       "      <td>13.0</td>\n",
       "    </tr>\n",
       "    <tr>\n",
       "      <th>17266</th>\n",
       "      <td>12748.0</td>\n",
       "      <td>2010-03-24</td>\n",
       "      <td>2010-03-24</td>\n",
       "      <td>2010-03-22</td>\n",
       "      <td>2010-03-17</td>\n",
       "      <td>2010-03-14</td>\n",
       "      <td>2.0</td>\n",
       "      <td>7.0</td>\n",
       "      <td>10.0</td>\n",
       "    </tr>\n",
       "    <tr>\n",
       "      <th>21775</th>\n",
       "      <td>12748.0</td>\n",
       "      <td>2010-03-29</td>\n",
       "      <td>2010-03-29</td>\n",
       "      <td>2010-03-24</td>\n",
       "      <td>2010-03-22</td>\n",
       "      <td>2010-03-17</td>\n",
       "      <td>5.0</td>\n",
       "      <td>7.0</td>\n",
       "      <td>12.0</td>\n",
       "    </tr>\n",
       "    <tr>\n",
       "      <th>22498</th>\n",
       "      <td>12748.0</td>\n",
       "      <td>2010-03-30</td>\n",
       "      <td>2010-03-30</td>\n",
       "      <td>2010-03-29</td>\n",
       "      <td>2010-03-24</td>\n",
       "      <td>2010-03-22</td>\n",
       "      <td>1.0</td>\n",
       "      <td>6.0</td>\n",
       "      <td>8.0</td>\n",
       "    </tr>\n",
       "    <tr>\n",
       "      <th>25675</th>\n",
       "      <td>12748.0</td>\n",
       "      <td>2010-04-06</td>\n",
       "      <td>2010-04-06</td>\n",
       "      <td>2010-03-30</td>\n",
       "      <td>2010-03-29</td>\n",
       "      <td>2010-03-24</td>\n",
       "      <td>7.0</td>\n",
       "      <td>8.0</td>\n",
       "      <td>13.0</td>\n",
       "    </tr>\n",
       "    <tr>\n",
       "      <th>33115</th>\n",
       "      <td>12748.0</td>\n",
       "      <td>2010-04-16</td>\n",
       "      <td>2010-04-16</td>\n",
       "      <td>2010-04-06</td>\n",
       "      <td>2010-03-30</td>\n",
       "      <td>2010-03-29</td>\n",
       "      <td>10.0</td>\n",
       "      <td>17.0</td>\n",
       "      <td>18.0</td>\n",
       "    </tr>\n",
       "    <tr>\n",
       "      <th>41894</th>\n",
       "      <td>12748.0</td>\n",
       "      <td>2010-04-27</td>\n",
       "      <td>2010-04-27</td>\n",
       "      <td>2010-04-16</td>\n",
       "      <td>2010-04-06</td>\n",
       "      <td>2010-03-30</td>\n",
       "      <td>11.0</td>\n",
       "      <td>21.0</td>\n",
       "      <td>28.0</td>\n",
       "    </tr>\n",
       "    <tr>\n",
       "      <th>43208</th>\n",
       "      <td>12748.0</td>\n",
       "      <td>2010-04-29</td>\n",
       "      <td>2010-04-29</td>\n",
       "      <td>2010-04-27</td>\n",
       "      <td>2010-04-16</td>\n",
       "      <td>2010-04-06</td>\n",
       "      <td>2.0</td>\n",
       "      <td>13.0</td>\n",
       "      <td>23.0</td>\n",
       "    </tr>\n",
       "    <tr>\n",
       "      <th>50116</th>\n",
       "      <td>12748.0</td>\n",
       "      <td>2010-05-09</td>\n",
       "      <td>2010-05-09</td>\n",
       "      <td>2010-04-29</td>\n",
       "      <td>2010-04-27</td>\n",
       "      <td>2010-04-16</td>\n",
       "      <td>10.0</td>\n",
       "      <td>12.0</td>\n",
       "      <td>23.0</td>\n",
       "    </tr>\n",
       "  </tbody>\n",
       "</table>\n",
       "</div>"
      ],
      "text/plain": [
       "        customerid invoicedate  invoiceday firstpurchase secondpurchase  \\\n",
       "997        12346.0  2010-03-02  2010-03-02           NaN            NaN   \n",
       "88430      12346.0  2010-06-28  2010-06-28    2010-03-02            NaN   \n",
       "54485      12745.0  2010-05-14  2010-05-14           NaN            NaN   \n",
       "117902     12745.0  2010-08-10  2010-08-10    2010-05-14            NaN   \n",
       "81327      12746.0  2010-06-17  2010-06-17           NaN            NaN   \n",
       "6819       12747.0  2010-03-09  2010-03-09           NaN            NaN   \n",
       "37903      12747.0  2010-04-23  2010-04-23    2010-03-09            NaN   \n",
       "64024      12747.0  2010-05-27  2010-05-27    2010-04-23     2010-03-09   \n",
       "77603      12747.0  2010-06-13  2010-06-13    2010-05-27     2010-04-23   \n",
       "85333      12747.0  2010-06-23  2010-06-23    2010-06-13     2010-05-27   \n",
       "112496     12747.0  2010-08-02  2010-08-02    2010-06-23     2010-06-13   \n",
       "130870     12747.0  2010-08-27  2010-08-27    2010-08-02     2010-06-23   \n",
       "4395       12748.0  2010-03-05  2010-03-05           NaN            NaN   \n",
       "6505       12748.0  2010-03-09  2010-03-09    2010-03-05            NaN   \n",
       "9503       12748.0  2010-03-14  2010-03-14    2010-03-09     2010-03-05   \n",
       "11934      12748.0  2010-03-17  2010-03-17    2010-03-14     2010-03-09   \n",
       "15613      12748.0  2010-03-22  2010-03-22    2010-03-17     2010-03-14   \n",
       "17266      12748.0  2010-03-24  2010-03-24    2010-03-22     2010-03-17   \n",
       "21775      12748.0  2010-03-29  2010-03-29    2010-03-24     2010-03-22   \n",
       "22498      12748.0  2010-03-30  2010-03-30    2010-03-29     2010-03-24   \n",
       "25675      12748.0  2010-04-06  2010-04-06    2010-03-30     2010-03-29   \n",
       "33115      12748.0  2010-04-16  2010-04-16    2010-04-06     2010-03-30   \n",
       "41894      12748.0  2010-04-27  2010-04-27    2010-04-16     2010-04-06   \n",
       "43208      12748.0  2010-04-29  2010-04-29    2010-04-27     2010-04-16   \n",
       "50116      12748.0  2010-05-09  2010-05-09    2010-04-29     2010-04-27   \n",
       "\n",
       "       thirdpurchase  firstinterval  secondinterval  thirdinterval  \n",
       "997              NaN            NaN             NaN            NaN  \n",
       "88430            NaN          118.0             NaN            NaN  \n",
       "54485            NaN            NaN             NaN            NaN  \n",
       "117902           NaN           88.0             NaN            NaN  \n",
       "81327            NaN            NaN             NaN            NaN  \n",
       "6819             NaN            NaN             NaN            NaN  \n",
       "37903            NaN           45.0             NaN            NaN  \n",
       "64024            NaN           34.0            79.0            NaN  \n",
       "77603     2010-03-09           17.0            51.0           96.0  \n",
       "85333     2010-04-23           10.0            27.0           61.0  \n",
       "112496    2010-05-27           40.0            50.0           67.0  \n",
       "130870    2010-06-13           25.0            65.0           75.0  \n",
       "4395             NaN            NaN             NaN            NaN  \n",
       "6505             NaN            4.0             NaN            NaN  \n",
       "9503             NaN            5.0             9.0            NaN  \n",
       "11934     2010-03-05            3.0             8.0           12.0  \n",
       "15613     2010-03-09            5.0             8.0           13.0  \n",
       "17266     2010-03-14            2.0             7.0           10.0  \n",
       "21775     2010-03-17            5.0             7.0           12.0  \n",
       "22498     2010-03-22            1.0             6.0            8.0  \n",
       "25675     2010-03-24            7.0             8.0           13.0  \n",
       "33115     2010-03-29           10.0            17.0           18.0  \n",
       "41894     2010-03-30           11.0            21.0           28.0  \n",
       "43208     2010-04-06            2.0            13.0           23.0  \n",
       "50116     2010-04-16           10.0            12.0           23.0  "
      ]
     },
     "execution_count": 950,
     "metadata": {},
     "output_type": "execute_result"
    }
   ],
   "source": [
    "retail_uk_invoice.head(25)"
   ]
  },
  {
   "cell_type": "code",
   "execution_count": 951,
   "metadata": {},
   "outputs": [],
   "source": [
    "#calculating mean and std for firstinterval\n",
    "\n",
    "retail_uk_invoice_stat=retail_uk_invoice.groupby('customerid').agg({'firstinterval':['mean','std']}).reset_index()\n",
    "retail_uk_invoice_stat.columns=['customerid','firstmean','firststd']"
   ]
  },
  {
   "cell_type": "code",
   "execution_count": 952,
   "metadata": {},
   "outputs": [
    {
     "data": {
      "text/html": [
       "<div>\n",
       "<style scoped>\n",
       "    .dataframe tbody tr th:only-of-type {\n",
       "        vertical-align: middle;\n",
       "    }\n",
       "\n",
       "    .dataframe tbody tr th {\n",
       "        vertical-align: top;\n",
       "    }\n",
       "\n",
       "    .dataframe thead th {\n",
       "        text-align: right;\n",
       "    }\n",
       "</style>\n",
       "<table border=\"1\" class=\"dataframe\">\n",
       "  <thead>\n",
       "    <tr style=\"text-align: right;\">\n",
       "      <th></th>\n",
       "      <th>customerid</th>\n",
       "      <th>firstmean</th>\n",
       "      <th>firststd</th>\n",
       "    </tr>\n",
       "  </thead>\n",
       "  <tbody>\n",
       "    <tr>\n",
       "      <th>0</th>\n",
       "      <td>12346.0</td>\n",
       "      <td>118.00000</td>\n",
       "      <td>NaN</td>\n",
       "    </tr>\n",
       "    <tr>\n",
       "      <th>1</th>\n",
       "      <td>12745.0</td>\n",
       "      <td>88.00000</td>\n",
       "      <td>NaN</td>\n",
       "    </tr>\n",
       "    <tr>\n",
       "      <th>2</th>\n",
       "      <td>12746.0</td>\n",
       "      <td>NaN</td>\n",
       "      <td>NaN</td>\n",
       "    </tr>\n",
       "    <tr>\n",
       "      <th>3</th>\n",
       "      <td>12747.0</td>\n",
       "      <td>28.50000</td>\n",
       "      <td>13.575714</td>\n",
       "    </tr>\n",
       "    <tr>\n",
       "      <th>4</th>\n",
       "      <td>12748.0</td>\n",
       "      <td>5.16129</td>\n",
       "      <td>3.077843</td>\n",
       "    </tr>\n",
       "  </tbody>\n",
       "</table>\n",
       "</div>"
      ],
      "text/plain": [
       "   customerid  firstmean   firststd\n",
       "0     12346.0  118.00000        NaN\n",
       "1     12745.0   88.00000        NaN\n",
       "2     12746.0        NaN        NaN\n",
       "3     12747.0   28.50000  13.575714\n",
       "4     12748.0    5.16129   3.077843"
      ]
     },
     "execution_count": 952,
     "metadata": {},
     "output_type": "execute_result"
    }
   ],
   "source": [
    "retail_uk_invoice_stat.head()"
   ]
  },
  {
   "cell_type": "code",
   "execution_count": 953,
   "metadata": {},
   "outputs": [],
   "source": [
    "# drop all invoices for the customer except the last,to make sure there are customer with more than three transaction\n",
    "\n",
    "retail_uk_invoice_final=retail_uk_invoice.drop_duplicates(subset=['customerid'],keep='last')\n",
    "retail_uk_invoice_final=retail_uk_invoice_final.dropna()\n",
    "retail_uk_invoice_final=pd.merge(retail_uk_invoice_final,retail_uk_invoice_stat,on='customerid')\n"
   ]
  },
  {
   "cell_type": "code",
   "execution_count": 954,
   "metadata": {},
   "outputs": [
    {
     "data": {
      "text/html": [
       "<div>\n",
       "<style scoped>\n",
       "    .dataframe tbody tr th:only-of-type {\n",
       "        vertical-align: middle;\n",
       "    }\n",
       "\n",
       "    .dataframe tbody tr th {\n",
       "        vertical-align: top;\n",
       "    }\n",
       "\n",
       "    .dataframe thead th {\n",
       "        text-align: right;\n",
       "    }\n",
       "</style>\n",
       "<table border=\"1\" class=\"dataframe\">\n",
       "  <thead>\n",
       "    <tr style=\"text-align: right;\">\n",
       "      <th></th>\n",
       "      <th>customerid</th>\n",
       "      <th>invoicedate</th>\n",
       "      <th>invoiceday</th>\n",
       "      <th>firstpurchase</th>\n",
       "      <th>secondpurchase</th>\n",
       "      <th>thirdpurchase</th>\n",
       "      <th>firstinterval</th>\n",
       "      <th>secondinterval</th>\n",
       "      <th>thirdinterval</th>\n",
       "      <th>firstmean</th>\n",
       "      <th>firststd</th>\n",
       "    </tr>\n",
       "  </thead>\n",
       "  <tbody>\n",
       "    <tr>\n",
       "      <th>0</th>\n",
       "      <td>12747.0</td>\n",
       "      <td>2010-08-27</td>\n",
       "      <td>2010-08-27</td>\n",
       "      <td>2010-08-02</td>\n",
       "      <td>2010-06-23</td>\n",
       "      <td>2010-06-13</td>\n",
       "      <td>25.0</td>\n",
       "      <td>65.0</td>\n",
       "      <td>75.0</td>\n",
       "      <td>28.500000</td>\n",
       "      <td>13.575714</td>\n",
       "    </tr>\n",
       "    <tr>\n",
       "      <th>1</th>\n",
       "      <td>12748.0</td>\n",
       "      <td>2010-08-12</td>\n",
       "      <td>2010-08-12</td>\n",
       "      <td>2010-08-04</td>\n",
       "      <td>2010-08-03</td>\n",
       "      <td>2010-08-02</td>\n",
       "      <td>8.0</td>\n",
       "      <td>9.0</td>\n",
       "      <td>10.0</td>\n",
       "      <td>5.161290</td>\n",
       "      <td>3.077843</td>\n",
       "    </tr>\n",
       "    <tr>\n",
       "      <th>2</th>\n",
       "      <td>12823.0</td>\n",
       "      <td>2010-07-13</td>\n",
       "      <td>2010-07-13</td>\n",
       "      <td>2010-07-01</td>\n",
       "      <td>2010-06-03</td>\n",
       "      <td>2010-05-19</td>\n",
       "      <td>12.0</td>\n",
       "      <td>40.0</td>\n",
       "      <td>55.0</td>\n",
       "      <td>21.666667</td>\n",
       "      <td>7.607014</td>\n",
       "    </tr>\n",
       "    <tr>\n",
       "      <th>3</th>\n",
       "      <td>12835.0</td>\n",
       "      <td>2010-08-26</td>\n",
       "      <td>2010-08-26</td>\n",
       "      <td>2010-08-12</td>\n",
       "      <td>2010-07-21</td>\n",
       "      <td>2010-07-06</td>\n",
       "      <td>14.0</td>\n",
       "      <td>36.0</td>\n",
       "      <td>51.0</td>\n",
       "      <td>8.800000</td>\n",
       "      <td>4.862315</td>\n",
       "    </tr>\n",
       "    <tr>\n",
       "      <th>4</th>\n",
       "      <td>12836.0</td>\n",
       "      <td>2010-08-26</td>\n",
       "      <td>2010-08-26</td>\n",
       "      <td>2010-07-29</td>\n",
       "      <td>2010-06-06</td>\n",
       "      <td>2010-04-20</td>\n",
       "      <td>28.0</td>\n",
       "      <td>81.0</td>\n",
       "      <td>128.0</td>\n",
       "      <td>37.250000</td>\n",
       "      <td>15.195942</td>\n",
       "    </tr>\n",
       "  </tbody>\n",
       "</table>\n",
       "</div>"
      ],
      "text/plain": [
       "   customerid invoicedate  invoiceday firstpurchase secondpurchase  \\\n",
       "0     12747.0  2010-08-27  2010-08-27    2010-08-02     2010-06-23   \n",
       "1     12748.0  2010-08-12  2010-08-12    2010-08-04     2010-08-03   \n",
       "2     12823.0  2010-07-13  2010-07-13    2010-07-01     2010-06-03   \n",
       "3     12835.0  2010-08-26  2010-08-26    2010-08-12     2010-07-21   \n",
       "4     12836.0  2010-08-26  2010-08-26    2010-07-29     2010-06-06   \n",
       "\n",
       "  thirdpurchase  firstinterval  secondinterval  thirdinterval  firstmean  \\\n",
       "0    2010-06-13           25.0            65.0           75.0  28.500000   \n",
       "1    2010-08-02            8.0             9.0           10.0   5.161290   \n",
       "2    2010-05-19           12.0            40.0           55.0  21.666667   \n",
       "3    2010-07-06           14.0            36.0           51.0   8.800000   \n",
       "4    2010-04-20           28.0            81.0          128.0  37.250000   \n",
       "\n",
       "    firststd  \n",
       "0  13.575714  \n",
       "1   3.077843  \n",
       "2   7.607014  \n",
       "3   4.862315  \n",
       "4  15.195942  "
      ]
     },
     "execution_count": 954,
     "metadata": {},
     "output_type": "execute_result"
    }
   ],
   "source": [
    "retail_uk_invoice_final.head()"
   ]
  },
  {
   "cell_type": "code",
   "execution_count": 955,
   "metadata": {},
   "outputs": [],
   "source": [
    "retail_uk_user=pd.merge(retail_uk_user,retail_uk_invoice_final[['customerid','firstinterval','secondinterval','thirdinterval','firstmean','firststd']],on='customerid')"
   ]
  },
  {
   "cell_type": "code",
   "execution_count": 956,
   "metadata": {},
   "outputs": [
    {
     "data": {
      "text/html": [
       "<div>\n",
       "<style scoped>\n",
       "    .dataframe tbody tr th:only-of-type {\n",
       "        vertical-align: middle;\n",
       "    }\n",
       "\n",
       "    .dataframe tbody tr th {\n",
       "        vertical-align: top;\n",
       "    }\n",
       "\n",
       "    .dataframe thead th {\n",
       "        text-align: right;\n",
       "    }\n",
       "</style>\n",
       "<table border=\"1\" class=\"dataframe\">\n",
       "  <thead>\n",
       "    <tr style=\"text-align: right;\">\n",
       "      <th></th>\n",
       "      <th>customerid</th>\n",
       "      <th>purchaseinterval</th>\n",
       "      <th>firstinterval</th>\n",
       "      <th>secondinterval</th>\n",
       "      <th>thirdinterval</th>\n",
       "      <th>firstmean</th>\n",
       "      <th>firststd</th>\n",
       "    </tr>\n",
       "  </thead>\n",
       "  <tbody>\n",
       "    <tr>\n",
       "      <th>0</th>\n",
       "      <td>13694.0</td>\n",
       "      <td>26</td>\n",
       "      <td>13.0</td>\n",
       "      <td>28.0</td>\n",
       "      <td>38.0</td>\n",
       "      <td>6.560000</td>\n",
       "      <td>4.407191</td>\n",
       "    </tr>\n",
       "    <tr>\n",
       "      <th>1</th>\n",
       "      <td>17241.0</td>\n",
       "      <td>67</td>\n",
       "      <td>3.0</td>\n",
       "      <td>40.0</td>\n",
       "      <td>45.0</td>\n",
       "      <td>19.000000</td>\n",
       "      <td>13.228757</td>\n",
       "    </tr>\n",
       "    <tr>\n",
       "      <th>2</th>\n",
       "      <td>17865.0</td>\n",
       "      <td>18</td>\n",
       "      <td>10.0</td>\n",
       "      <td>33.0</td>\n",
       "      <td>45.0</td>\n",
       "      <td>19.444444</td>\n",
       "      <td>13.229806</td>\n",
       "    </tr>\n",
       "    <tr>\n",
       "      <th>3</th>\n",
       "      <td>14527.0</td>\n",
       "      <td>6</td>\n",
       "      <td>8.0</td>\n",
       "      <td>22.0</td>\n",
       "      <td>34.0</td>\n",
       "      <td>6.100000</td>\n",
       "      <td>3.346125</td>\n",
       "    </tr>\n",
       "    <tr>\n",
       "      <th>4</th>\n",
       "      <td>18231.0</td>\n",
       "      <td>64</td>\n",
       "      <td>10.0</td>\n",
       "      <td>26.0</td>\n",
       "      <td>47.0</td>\n",
       "      <td>11.307692</td>\n",
       "      <td>6.395110</td>\n",
       "    </tr>\n",
       "  </tbody>\n",
       "</table>\n",
       "</div>"
      ],
      "text/plain": [
       "   customerid  purchaseinterval  firstinterval  secondinterval  thirdinterval  \\\n",
       "0     13694.0                26           13.0            28.0           38.0   \n",
       "1     17241.0                67            3.0            40.0           45.0   \n",
       "2     17865.0                18           10.0            33.0           45.0   \n",
       "3     14527.0                 6            8.0            22.0           34.0   \n",
       "4     18231.0                64           10.0            26.0           47.0   \n",
       "\n",
       "   firstmean   firststd  \n",
       "0   6.560000   4.407191  \n",
       "1  19.000000  13.228757  \n",
       "2  19.444444  13.229806  \n",
       "3   6.100000   3.346125  \n",
       "4  11.307692   6.395110  "
      ]
     },
     "execution_count": 956,
     "metadata": {},
     "output_type": "execute_result"
    }
   ],
   "source": [
    "retail_uk_user.head()"
   ]
  },
  {
   "cell_type": "code",
   "execution_count": null,
   "metadata": {},
   "outputs": [],
   "source": []
  }
 ],
 "metadata": {
  "kernelspec": {
   "display_name": "Python 3",
   "language": "python",
   "name": "python3"
  },
  "language_info": {
   "codemirror_mode": {
    "name": "ipython",
    "version": 3
   },
   "file_extension": ".py",
   "mimetype": "text/x-python",
   "name": "python",
   "nbconvert_exporter": "python",
   "pygments_lexer": "ipython3",
   "version": "3.7.3"
  }
 },
 "nbformat": 4,
 "nbformat_minor": 2
}
