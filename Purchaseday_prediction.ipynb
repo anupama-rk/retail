{
 "cells": [
  {
   "cell_type": "code",
   "execution_count": 9,
   "metadata": {},
   "outputs": [],
   "source": [
    "import pandas as pd\n",
    "import numpy as np\n",
    "from datetime import datetime, timedelta\n",
    "%matplotlib inline\n",
    "import matplotlib.pyplot as plt\n",
    "import seaborn as sns\n",
    "import warnings\n",
    "warnings.filterwarnings(\"ignore\")"
   ]
  },
  {
   "cell_type": "markdown",
   "metadata": {},
   "source": [
    "# Read data from excel"
   ]
  },
  {
   "cell_type": "code",
   "execution_count": 1,
   "metadata": {},
   "outputs": [],
   "source": [
    "retail_data=pd.read_excel('./Desktop/Lab2/online_retail.xlsx')"
   ]
  },
  {
   "cell_type": "markdown",
   "metadata": {},
   "source": [
    "# Data manipulation"
   ]
  },
  {
   "cell_type": "code",
   "execution_count": 10,
   "metadata": {},
   "outputs": [],
   "source": [
    "#drop duplicate rows\n",
    "\n",
    "retail_data=retail_data.drop_duplicates()"
   ]
  },
  {
   "cell_type": "code",
   "execution_count": 11,
   "metadata": {},
   "outputs": [],
   "source": [
    "#Remove all cancellations\n",
    "\n",
    "retail_c=retail_data[retail_data['Invoice'].str[0]!='C']"
   ]
  },
  {
   "cell_type": "code",
   "execution_count": 12,
   "metadata": {},
   "outputs": [],
   "source": [
    "#rename column \n",
    "\n",
    "retail_c.columns=['invoice','stockcode','description','quantity','invoicedate','unitprice','customerid','country']"
   ]
  },
  {
   "cell_type": "code",
   "execution_count": 13,
   "metadata": {},
   "outputs": [],
   "source": [
    "#changing the datatype to numeric\n",
    "\n",
    "cols=['invoice','stockcode','quantity','unitprice','customerid']\n",
    "retail_c[cols]=retail_c[cols].apply(pd.to_numeric,errors='coerce')"
   ]
  },
  {
   "cell_type": "code",
   "execution_count": 14,
   "metadata": {},
   "outputs": [],
   "source": [
    "#drop rows where stockcode,description is missing \n",
    "\n",
    "retail_c1=retail_c.dropna(subset=['stockcode'] ,how='all')\n",
    "retail_c2=retail_c1.dropna(subset=['description'] ,how='all')\n",
    "retail_c2=retail_c1.dropna(subset=['customerid'] ,how='all')"
   ]
  },
  {
   "cell_type": "code",
   "execution_count": 15,
   "metadata": {},
   "outputs": [],
   "source": [
    "# remove spaces from description field\n",
    "\n",
    "retail_c2['description']=retail_c2['description'].str.strip()\n"
   ]
  },
  {
   "cell_type": "markdown",
   "metadata": {},
   "source": [
    "# Data Analysis"
   ]
  },
  {
   "cell_type": "code",
   "execution_count": 16,
   "metadata": {},
   "outputs": [
    {
     "data": {
      "text/plain": [
       "Text(0.5, 1.0, 'Top 5 countries')"
      ]
     },
     "execution_count": 16,
     "metadata": {},
     "output_type": "execute_result"
    },
    {
     "data": {
      "image/png": "[encoded data removed]",
      "text/plain": [
       "<Figure size 432x288 with 1 Axes>"
      ]
     },
     "metadata": {
      "needs_background": "light"
     },
     "output_type": "display_data"
    }
   ],
   "source": [
    "#top 5 countries\n",
    "\n",
    "retail_c2.country.value_counts()[:5].plot.bar()\n",
    "plt.title(\"Top 5 countries\")"
   ]
  },
  {
   "cell_type": "code",
   "execution_count": 17,
   "metadata": {},
   "outputs": [],
   "source": [
    "#removing countries except UK\n",
    "retail_uk=retail_c2[retail_c2['country']==\"United Kingdom\"]"
   ]
  },
  {
   "cell_type": "code",
   "execution_count": 18,
   "metadata": {},
   "outputs": [],
   "source": [
    "#removing negative quantity(items returned)\n",
    "retail_uk=retail_uk[retail_uk['quantity']>0]"
   ]
  },
  {
   "cell_type": "code",
   "execution_count": 19,
   "metadata": {},
   "outputs": [],
   "source": [
    "#removing free items\n",
    "retail_uk=retail_uk[retail_uk['unitprice']>0]"
   ]
  },
  {
   "cell_type": "code",
   "execution_count": 20,
   "metadata": {},
   "outputs": [],
   "source": [
    "# calculating total\n",
    "retail_uk['total']=retail_uk.fillna(0)['quantity']*retail_uk.fillna(0)['unitprice']"
   ]
  },
  {
   "cell_type": "code",
   "execution_count": 21,
   "metadata": {},
   "outputs": [],
   "source": [
    "#year column\n",
    "retail_uk['year']=retail_uk['invoicedate'].dt.year"
   ]
  },
  {
   "cell_type": "code",
   "execution_count": 22,
   "metadata": {},
   "outputs": [],
   "source": [
    "#month-year column\n",
    "\n",
    "retail_uk['month_year']=pd.to_datetime(retail_uk['invoicedate']).dt.to_period('M')\n",
    "#retail_uk['month_year']=retail_uk['invoicedate'].map(lambda date: 100*date.year + date.month)\n"
   ]
  },
  {
   "cell_type": "code",
   "execution_count": 24,
   "metadata": {},
   "outputs": [
    {
     "data": {
      "text/plain": [
       "Text(0.5, 1.0, 'Sales by Month')"
      ]
     },
     "execution_count": 24,
     "metadata": {},
     "output_type": "execute_result"
    },
    {
     "data": {
      "image/png": "[encoded data removed]",
      "text/plain": [
       "<Figure size 432x288 with 1 Axes>"
      ]
     },
     "metadata": {
      "needs_background": "light"
     },
     "output_type": "display_data"
    }
   ],
   "source": [
    "#total sales per month\n",
    "\n",
    "ax =retail_uk.groupby('month_year')['total'].sum().reset_index().plot.bar(color='r',use_index='True')\n",
    "plt.title(\"Sales by Month\")\n",
    "#ax.set_xticklabels(retail_uk.month_year)\n",
    "\n",
    "\n"
   ]
  },
  {
   "cell_type": "code",
   "execution_count": 25,
   "metadata": {},
   "outputs": [
    {
     "data": {
      "image/png": "[encoded data removed]",
      "text/plain": [
       "<Figure size 432x288 with 1 Axes>"
      ]
     },
     "metadata": {},
     "output_type": "display_data"
    }
   ],
   "source": [
    "# One time and repeat customer\n",
    "\n",
    "customer_invoice=retail_uk.groupby('customerid',as_index=False).agg({'invoice':'count'})\n",
    "import numpy as np\n",
    "customer_invoice['repeat_customer']=np.where(customer_invoice['invoice']>1,'yes','no')\n",
    "import matplotlib.pyplot as plt\n",
    "repeatcount=customer_invoice['repeat_customer'].value_counts()\n",
    "repeatcount.plot.pie(autopct='%.2f%%',colors=['c','w'])\n",
    "plt.show()"
   ]
  },
  {
   "cell_type": "code",
   "execution_count": 26,
   "metadata": {},
   "outputs": [
    {
     "data": {
      "text/plain": [
       "Text(0.5, 1.0, 'top 20 Products')"
      ]
     },
     "execution_count": 26,
     "metadata": {},
     "output_type": "execute_result"
    },
    {
     "data": {
      "image/png": "[encoded data removed]",
      "text/plain": [
       "<Figure size 432x288 with 1 Axes>"
      ]
     },
     "metadata": {
      "needs_background": "light"
     },
     "output_type": "display_data"
    }
   ],
   "source": [
    "#top20 products\n",
    "\n",
    "retail_uk.description.value_counts()[:20].plot(kind='bar',color='r')\n",
    "plt.title(\"top 20 Products\")"
   ]
  },
  {
   "cell_type": "code",
   "execution_count": 27,
   "metadata": {},
   "outputs": [
    {
     "data": {
      "text/plain": [
       "Text(0.5, 1.0, 'Top 20 Customers by Sales')"
      ]
     },
     "execution_count": 27,
     "metadata": {},
     "output_type": "execute_result"
    },
    {
     "data": {
      "image/png": "[encoded data removed]",
      "text/plain": [
       "<Figure size 432x288 with 1 Axes>"
      ]
     },
     "metadata": {
      "needs_background": "light"
     },
     "output_type": "display_data"
    }
   ],
   "source": [
    "\n",
    "#top20 customers by sale amount\n",
    "retail_top=retail_uk.groupby('customerid',as_index=False).agg({'total':'sum'})\n",
    "retail_top20=retail_top.sort_values(by=['total'],ascending=False).head(20)\n",
    "retail_top20['customerid']=retail_top20.customerid.astype(str)\n",
    "retail_top20.plot.bar(x='customerid',y='total',color='g')\n",
    "plt.title(\"Top 20 Customers by Sales\")"
   ]
  },
  {
   "cell_type": "code",
   "execution_count": 28,
   "metadata": {},
   "outputs": [
    {
     "data": {
      "text/plain": [
       "Text(0.5, 1.0, 'Top 20 Customers by Orders')"
      ]
     },
     "execution_count": 28,
     "metadata": {},
     "output_type": "execute_result"
    },
    {
     "data": {
      "image/png": "[encoded data removed]",
      "text/plain": [
       "<Figure size 432x288 with 1 Axes>"
      ]
     },
     "metadata": {
      "needs_background": "light"
     },
     "output_type": "display_data"
    }
   ],
   "source": [
    "#top20 customer by order placed\n",
    "\n",
    "retail_top=retail_uk.groupby('customerid',as_index=False).agg({'quantity':'sum'})\n",
    "retail_top20=retail_top.sort_values(by=['quantity'],ascending=False).head(20)\n",
    "retail_top20['customerid']=retail_top20.customerid.astype(str)\n",
    "retail_top20.plot.bar(x='customerid',y='quantity',color='y')\n",
    "plt.title(\"Top 20 Customers by Orders\")\n",
    "\n"
   ]
  },
  {
   "cell_type": "code",
   "execution_count": 29,
   "metadata": {},
   "outputs": [
    {
     "data": {
      "text/plain": [
       "Text(0.5, 1.0, 'Average sales by month')"
      ]
     },
     "execution_count": 29,
     "metadata": {},
     "output_type": "execute_result"
    },
    {
     "data": {
      "image/png": "[encoded data removed]",
      "text/plain": [
       "<Figure size 432x288 with 1 Axes>"
      ]
     },
     "metadata": {
      "needs_background": "light"
     },
     "output_type": "display_data"
    }
   ],
   "source": [
    "#average sales per month\n",
    "\n",
    "retail_avg=retail_uk.groupby('month_year',as_index=False)['total'].mean()\n",
    "retail_avg.plot.bar(x='month_year',y='total',color='m')\n",
    "plt.title(\"Average sales by month\")"
   ]
  },
  {
   "cell_type": "code",
   "execution_count": 30,
   "metadata": {},
   "outputs": [
    {
     "data": {
      "text/plain": [
       "Text(0.5, 1.0, 'Sales by Year')"
      ]
     },
     "execution_count": 30,
     "metadata": {},
     "output_type": "execute_result"
    },
    {
     "data": {
      "image/png": "[encoded data removed]",
      "text/plain": [
       "<Figure size 432x288 with 1 Axes>"
      ]
     },
     "metadata": {
      "needs_background": "light"
     },
     "output_type": "display_data"
    }
   ],
   "source": [
    "#total sales by year\n",
    "\n",
    "retail_uk.groupby('year')['total'].sum().plot(kind='bar',color='y')\n",
    "plt.title(\"Sales by Year\")"
   ]
  },
  {
   "cell_type": "code",
   "execution_count": 31,
   "metadata": {},
   "outputs": [
    {
     "data": {
      "text/plain": [
       "Text(0.5, 1.0, 'Orders by Year')"
      ]
     },
     "execution_count": 31,
     "metadata": {},
     "output_type": "execute_result"
    },
    {
     "data": {
      "image/png": "[encoded data removed]",
      "text/plain": [
       "<Figure size 432x288 with 1 Axes>"
      ]
     },
     "metadata": {
      "needs_background": "light"
     },
     "output_type": "display_data"
    }
   ],
   "source": [
    "#total quantity by year\n",
    "retail_uk.groupby('year')['quantity'].sum().plot(kind='bar')\n",
    "plt.title(\"Orders by Year\")"
   ]
  },
  {
   "cell_type": "code",
   "execution_count": 32,
   "metadata": {},
   "outputs": [
    {
     "data": {
      "text/plain": [
       "Text(0.5, 1.0, 'Customer by Month')"
      ]
     },
     "execution_count": 32,
     "metadata": {},
     "output_type": "execute_result"
    },
    {
     "data": {
      "image/png": "[encoded data removed]",
      "text/plain": [
       "<Figure size 432x288 with 1 Axes>"
      ]
     },
     "metadata": {
      "needs_background": "light"
     },
     "output_type": "display_data"
    }
   ],
   "source": [
    "#active customers per month\n",
    "\n",
    "active=retail_uk.groupby('month_year')['customerid'].nunique().reset_index()\n",
    "active.plot.bar(x='month_year',y='customerid',color='b')\n",
    "plt.title(\"Customer by Month\")"
   ]
  },
  {
   "cell_type": "markdown",
   "metadata": {},
   "source": [
    "# Data Partitioning"
   ]
  },
  {
   "cell_type": "code",
   "execution_count": 33,
   "metadata": {},
   "outputs": [],
   "source": [
    "# Split the data into first 6 month and next 3 month\n",
    "\n",
    "retail_uk['invoicedate'] = pd.to_datetime(retail_uk['invoicedate'])\n",
    "retail_uk_6mon=retail_uk[(retail_uk['invoicedate']<'2010-9-01')& (retail_uk['invoicedate']>='2010-03-01')].reset_index(drop=True)\n",
    "retail_uk_3mon=retail_uk[(retail_uk['invoicedate']>='2010-9-01')& (retail_uk['invoicedate']<'2010-12-01')].reset_index(drop=True)\n",
    "\n",
    "\n"
   ]
  },
  {
   "cell_type": "markdown",
   "metadata": {},
   "source": [
    "# Features Dataset"
   ]
  },
  {
   "cell_type": "code",
   "execution_count": 34,
   "metadata": {},
   "outputs": [],
   "source": [
    "retail_uk_customer=pd.DataFrame(retail_uk_6mon['customerid'].unique())\n",
    "retail_uk_customer.columns=['customerid']"
   ]
  },
  {
   "cell_type": "markdown",
   "metadata": {},
   "source": [
    "# Purchase Interval calculation "
   ]
  },
  {
   "cell_type": "code",
   "execution_count": 35,
   "metadata": {},
   "outputs": [],
   "source": [
    "#find the first purchase date in the 3 month list\n",
    "retail_uk_first_3mon=retail_uk_3mon.groupby('customerid')['invoicedate'].min().reset_index()\n",
    "retail_uk_first_3mon.columns=['customerid','firstpurchasedate']\n",
    "\n",
    "\n",
    "#find the last purchase date in 6 month list\n",
    "retail_uk_last_6mon=retail_uk_6mon.groupby('customerid')['invoicedate'].max().reset_index()\n",
    "retail_uk_last_6mon.columns=['customerid','lastpurchasedate']\n",
    "\n",
    "\n",
    "# new dataframe with purchase dates and interval\n",
    "retail_uk_purchase=pd.merge(retail_uk_last_6mon,retail_uk_first_3mon,on='customerid')\n",
    "retail_uk_purchase['purchaseinterval']=(retail_uk_purchase['firstpurchasedate']-retail_uk_purchase['lastpurchasedate']).dt.days\n",
    "\n",
    "# add columns to user dataframe\n",
    "retail_uk_customer=pd.merge(retail_uk_customer,retail_uk_purchase[['customerid','purchaseinterval']],on='customerid')"
   ]
  },
  {
   "cell_type": "code",
   "execution_count": 36,
   "metadata": {},
   "outputs": [
    {
     "data": {
      "text/html": [
       "<div>\n",
       "<style scoped>\n",
       "    .dataframe tbody tr th:only-of-type {\n",
       "        vertical-align: middle;\n",
       "    }\n",
       "\n",
       "    .dataframe tbody tr th {\n",
       "        vertical-align: top;\n",
       "    }\n",
       "\n",
       "    .dataframe thead th {\n",
       "        text-align: right;\n",
       "    }\n",
       "</style>\n",
       "<table border=\"1\" class=\"dataframe\">\n",
       "  <thead>\n",
       "    <tr style=\"text-align: right;\">\n",
       "      <th></th>\n",
       "      <th>customerid</th>\n",
       "      <th>purchaseinterval</th>\n",
       "    </tr>\n",
       "  </thead>\n",
       "  <tbody>\n",
       "    <tr>\n",
       "      <th>0</th>\n",
       "      <td>16717.0</td>\n",
       "      <td>141</td>\n",
       "    </tr>\n",
       "    <tr>\n",
       "      <th>1</th>\n",
       "      <td>16202.0</td>\n",
       "      <td>118</td>\n",
       "    </tr>\n",
       "    <tr>\n",
       "      <th>2</th>\n",
       "      <td>13694.0</td>\n",
       "      <td>26</td>\n",
       "    </tr>\n",
       "    <tr>\n",
       "      <th>3</th>\n",
       "      <td>17241.0</td>\n",
       "      <td>66</td>\n",
       "    </tr>\n",
       "    <tr>\n",
       "      <th>4</th>\n",
       "      <td>14870.0</td>\n",
       "      <td>101</td>\n",
       "    </tr>\n",
       "  </tbody>\n",
       "</table>\n",
       "</div>"
      ],
      "text/plain": [
       "   customerid  purchaseinterval\n",
       "0     16717.0               141\n",
       "1     16202.0               118\n",
       "2     13694.0                26\n",
       "3     17241.0                66\n",
       "4     14870.0               101"
      ]
     },
     "execution_count": 36,
     "metadata": {},
     "output_type": "execute_result"
    }
   ],
   "source": [
    "retail_uk_customer.head(5)"
   ]
  },
  {
   "cell_type": "markdown",
   "metadata": {},
   "source": [
    "# Recency,Frequency and Monetary Value  Analysis(RFM)"
   ]
  },
  {
   "cell_type": "markdown",
   "metadata": {},
   "source": [
    "### Recency"
   ]
  },
  {
   "cell_type": "markdown",
   "metadata": {},
   "source": [
    "Recency is calculated by measuring the number of days between last purchase date by the customer and last purchase date in dataset"
   ]
  },
  {
   "cell_type": "code",
   "execution_count": 37,
   "metadata": {},
   "outputs": [],
   "source": [
    "#Last Purchase date by the customer\n",
    "\n",
    "retail_uk_lastpurchase=retail_uk_6mon.groupby('customerid').invoicedate.max().reset_index()\n",
    "retail_uk_lastpurchase.columns=['customerid','lastpurchasedate']\n",
    "\n",
    "#find the number of days between last purchase and last purchase in the dataset\n",
    "retail_uk_lastpurchase['recency']=(retail_uk_lastpurchase['lastpurchasedate'].max()-retail_uk_lastpurchase['lastpurchasedate']).dt.days\n",
    "\n",
    "retail_uk_customer=pd.merge(retail_uk_customer,retail_uk_lastpurchase[['customerid','recency']],on='customerid')"
   ]
  },
  {
   "cell_type": "code",
   "execution_count": 38,
   "metadata": {},
   "outputs": [
    {
     "data": {
      "text/html": [
       "<div>\n",
       "<style scoped>\n",
       "    .dataframe tbody tr th:only-of-type {\n",
       "        vertical-align: middle;\n",
       "    }\n",
       "\n",
       "    .dataframe tbody tr th {\n",
       "        vertical-align: top;\n",
       "    }\n",
       "\n",
       "    .dataframe thead th {\n",
       "        text-align: right;\n",
       "    }\n",
       "</style>\n",
       "<table border=\"1\" class=\"dataframe\">\n",
       "  <thead>\n",
       "    <tr style=\"text-align: right;\">\n",
       "      <th></th>\n",
       "      <th>customerid</th>\n",
       "      <th>purchaseinterval</th>\n",
       "      <th>recency</th>\n",
       "    </tr>\n",
       "  </thead>\n",
       "  <tbody>\n",
       "    <tr>\n",
       "      <th>0</th>\n",
       "      <td>16717.0</td>\n",
       "      <td>141</td>\n",
       "      <td>104</td>\n",
       "    </tr>\n",
       "    <tr>\n",
       "      <th>1</th>\n",
       "      <td>16202.0</td>\n",
       "      <td>118</td>\n",
       "      <td>89</td>\n",
       "    </tr>\n",
       "    <tr>\n",
       "      <th>2</th>\n",
       "      <td>13694.0</td>\n",
       "      <td>26</td>\n",
       "      <td>19</td>\n",
       "    </tr>\n",
       "    <tr>\n",
       "      <th>3</th>\n",
       "      <td>17241.0</td>\n",
       "      <td>66</td>\n",
       "      <td>50</td>\n",
       "    </tr>\n",
       "    <tr>\n",
       "      <th>4</th>\n",
       "      <td>14870.0</td>\n",
       "      <td>101</td>\n",
       "      <td>49</td>\n",
       "    </tr>\n",
       "  </tbody>\n",
       "</table>\n",
       "</div>"
      ],
      "text/plain": [
       "   customerid  purchaseinterval  recency\n",
       "0     16717.0               141      104\n",
       "1     16202.0               118       89\n",
       "2     13694.0                26       19\n",
       "3     17241.0                66       50\n",
       "4     14870.0               101       49"
      ]
     },
     "execution_count": 38,
     "metadata": {},
     "output_type": "execute_result"
    }
   ],
   "source": [
    "retail_uk_customer.head()"
   ]
  },
  {
   "cell_type": "markdown",
   "metadata": {},
   "source": [
    "### K for Recency"
   ]
  },
  {
   "cell_type": "code",
   "execution_count": 39,
   "metadata": {},
   "outputs": [
    {
     "data": {
      "image/png": "[encoded data removed]",
      "text/plain": [
       "<Figure size 432x288 with 1 Axes>"
      ]
     },
     "metadata": {
      "needs_background": "light"
     },
     "output_type": "display_data"
    }
   ],
   "source": [
    "from sklearn.cluster import KMeans\n",
    "sse={}\n",
    "retail_uk_lastorder = retail_uk_customer[['recency']]\n",
    "for k in range(1, 10):\n",
    "    kmeans = KMeans(n_clusters=k, max_iter=1000).fit(retail_uk_lastorder)\n",
    "    retail_uk_lastorder['recencycluster'] = kmeans.labels_\n",
    "    sse[k] = kmeans.inertia_ \n",
    "\n",
    "plt.figure()\n",
    "plt.plot(list(sse.keys()), list(sse.values()))\n",
    "plt.xlabel(\"Number of cluster\")\n",
    "plt.show()"
   ]
  },
  {
   "cell_type": "markdown",
   "metadata": {},
   "source": [
    "### Clustering recency for K=4"
   ]
  },
  {
   "cell_type": "code",
   "execution_count": 40,
   "metadata": {},
   "outputs": [
    {
     "data": {
      "image/png": "[encoded data removed]",
      "text/plain": [
       "<Figure size 432x288 with 2 Axes>"
      ]
     },
     "metadata": {
      "needs_background": "light"
     },
     "output_type": "display_data"
    }
   ],
   "source": [
    "kmodel = KMeans(n_clusters=4)\n",
    "kmodel.fit(retail_uk_customer[['recency']])\n",
    "retail_uk_customer['recencycluster']=kmodel.predict(retail_uk_customer[['recency']])\n",
    "#fig, axes = plt.subplots(1, 2, figsize=(16,8))\n",
    "ax1=retail_uk_customer.plot.scatter(x='customerid',y='recency',c='recencycluster',colormap='viridis',s=50)"
   ]
  },
  {
   "cell_type": "code",
   "execution_count": 41,
   "metadata": {},
   "outputs": [
    {
     "data": {
      "text/html": [
       "<div>\n",
       "<style scoped>\n",
       "    .dataframe tbody tr th:only-of-type {\n",
       "        vertical-align: middle;\n",
       "    }\n",
       "\n",
       "    .dataframe tbody tr th {\n",
       "        vertical-align: top;\n",
       "    }\n",
       "\n",
       "    .dataframe thead tr th {\n",
       "        text-align: left;\n",
       "    }\n",
       "\n",
       "    .dataframe thead tr:last-of-type th {\n",
       "        text-align: right;\n",
       "    }\n",
       "</style>\n",
       "<table border=\"1\" class=\"dataframe\">\n",
       "  <thead>\n",
       "    <tr>\n",
       "      <th></th>\n",
       "      <th colspan=\"8\" halign=\"left\">recency</th>\n",
       "    </tr>\n",
       "    <tr>\n",
       "      <th></th>\n",
       "      <th>count</th>\n",
       "      <th>mean</th>\n",
       "      <th>std</th>\n",
       "      <th>min</th>\n",
       "      <th>25%</th>\n",
       "      <th>50%</th>\n",
       "      <th>75%</th>\n",
       "      <th>max</th>\n",
       "    </tr>\n",
       "    <tr>\n",
       "      <th>recencycluster</th>\n",
       "      <th></th>\n",
       "      <th></th>\n",
       "      <th></th>\n",
       "      <th></th>\n",
       "      <th></th>\n",
       "      <th></th>\n",
       "      <th></th>\n",
       "      <th></th>\n",
       "    </tr>\n",
       "  </thead>\n",
       "  <tbody>\n",
       "    <tr>\n",
       "      <th>0</th>\n",
       "      <td>459.0</td>\n",
       "      <td>48.956427</td>\n",
       "      <td>12.305706</td>\n",
       "      <td>32.0</td>\n",
       "      <td>37.0</td>\n",
       "      <td>47.0</td>\n",
       "      <td>61.0</td>\n",
       "      <td>71.0</td>\n",
       "    </tr>\n",
       "    <tr>\n",
       "      <th>1</th>\n",
       "      <td>214.0</td>\n",
       "      <td>150.948598</td>\n",
       "      <td>18.688757</td>\n",
       "      <td>123.0</td>\n",
       "      <td>133.0</td>\n",
       "      <td>152.5</td>\n",
       "      <td>166.0</td>\n",
       "      <td>183.0</td>\n",
       "    </tr>\n",
       "    <tr>\n",
       "      <th>2</th>\n",
       "      <td>328.0</td>\n",
       "      <td>94.560976</td>\n",
       "      <td>13.989378</td>\n",
       "      <td>72.0</td>\n",
       "      <td>82.0</td>\n",
       "      <td>95.0</td>\n",
       "      <td>105.0</td>\n",
       "      <td>121.0</td>\n",
       "    </tr>\n",
       "    <tr>\n",
       "      <th>3</th>\n",
       "      <td>621.0</td>\n",
       "      <td>13.901771</td>\n",
       "      <td>8.692508</td>\n",
       "      <td>0.0</td>\n",
       "      <td>6.0</td>\n",
       "      <td>13.0</td>\n",
       "      <td>21.0</td>\n",
       "      <td>30.0</td>\n",
       "    </tr>\n",
       "  </tbody>\n",
       "</table>\n",
       "</div>"
      ],
      "text/plain": [
       "               recency                                                     \\\n",
       "                 count        mean        std    min    25%    50%    75%   \n",
       "recencycluster                                                              \n",
       "0                459.0   48.956427  12.305706   32.0   37.0   47.0   61.0   \n",
       "1                214.0  150.948598  18.688757  123.0  133.0  152.5  166.0   \n",
       "2                328.0   94.560976  13.989378   72.0   82.0   95.0  105.0   \n",
       "3                621.0   13.901771   8.692508    0.0    6.0   13.0   21.0   \n",
       "\n",
       "                       \n",
       "                  max  \n",
       "recencycluster         \n",
       "0                71.0  \n",
       "1               183.0  \n",
       "2               121.0  \n",
       "3                30.0  "
      ]
     },
     "execution_count": 41,
     "metadata": {},
     "output_type": "execute_result"
    }
   ],
   "source": [
    "retail_uk_customer.groupby(['recencycluster'])[['recency']].describe()"
   ]
  },
  {
   "cell_type": "markdown",
   "metadata": {},
   "source": [
    "### Frequency"
   ]
  },
  {
   "cell_type": "markdown",
   "metadata": {},
   "source": [
    "Frequency is calculated by counting the number of invoices from the customer"
   ]
  },
  {
   "cell_type": "code",
   "execution_count": 42,
   "metadata": {},
   "outputs": [],
   "source": [
    "retail_uk_purchasecount=retail_uk_6mon.groupby('customerid').invoicedate.nunique().reset_index()\n",
    "retail_uk_purchasecount.columns=['customerid','frequency']\n",
    "\n",
    "#customerid \n",
    "#retail_uk_cf=pd.DataFrame(retail_uk['customerid'].unique())\n",
    "#retail_uk_cf.columns=['customerid']\n",
    "\n",
    "\n",
    "#purchase count by customerid\n",
    "\n",
    "retail_uk_customer=pd.merge(retail_uk_customer,retail_uk_purchasecount,on='customerid')"
   ]
  },
  {
   "cell_type": "code",
   "execution_count": 43,
   "metadata": {},
   "outputs": [
    {
     "data": {
      "text/html": [
       "<div>\n",
       "<style scoped>\n",
       "    .dataframe tbody tr th:only-of-type {\n",
       "        vertical-align: middle;\n",
       "    }\n",
       "\n",
       "    .dataframe tbody tr th {\n",
       "        vertical-align: top;\n",
       "    }\n",
       "\n",
       "    .dataframe thead th {\n",
       "        text-align: right;\n",
       "    }\n",
       "</style>\n",
       "<table border=\"1\" class=\"dataframe\">\n",
       "  <thead>\n",
       "    <tr style=\"text-align: right;\">\n",
       "      <th></th>\n",
       "      <th>customerid</th>\n",
       "      <th>purchaseinterval</th>\n",
       "      <th>recency</th>\n",
       "      <th>recencycluster</th>\n",
       "      <th>frequency</th>\n",
       "    </tr>\n",
       "  </thead>\n",
       "  <tbody>\n",
       "    <tr>\n",
       "      <th>0</th>\n",
       "      <td>16717.0</td>\n",
       "      <td>141</td>\n",
       "      <td>104</td>\n",
       "      <td>2</td>\n",
       "      <td>2</td>\n",
       "    </tr>\n",
       "    <tr>\n",
       "      <th>1</th>\n",
       "      <td>16202.0</td>\n",
       "      <td>118</td>\n",
       "      <td>89</td>\n",
       "      <td>2</td>\n",
       "      <td>4</td>\n",
       "    </tr>\n",
       "    <tr>\n",
       "      <th>2</th>\n",
       "      <td>13694.0</td>\n",
       "      <td>26</td>\n",
       "      <td>19</td>\n",
       "      <td>3</td>\n",
       "      <td>48</td>\n",
       "    </tr>\n",
       "    <tr>\n",
       "      <th>3</th>\n",
       "      <td>17241.0</td>\n",
       "      <td>66</td>\n",
       "      <td>50</td>\n",
       "      <td>0</td>\n",
       "      <td>9</td>\n",
       "    </tr>\n",
       "    <tr>\n",
       "      <th>4</th>\n",
       "      <td>14870.0</td>\n",
       "      <td>101</td>\n",
       "      <td>49</td>\n",
       "      <td>0</td>\n",
       "      <td>3</td>\n",
       "    </tr>\n",
       "  </tbody>\n",
       "</table>\n",
       "</div>"
      ],
      "text/plain": [
       "   customerid  purchaseinterval  recency  recencycluster  frequency\n",
       "0     16717.0               141      104               2          2\n",
       "1     16202.0               118       89               2          4\n",
       "2     13694.0                26       19               3         48\n",
       "3     17241.0                66       50               0          9\n",
       "4     14870.0               101       49               0          3"
      ]
     },
     "execution_count": 43,
     "metadata": {},
     "output_type": "execute_result"
    }
   ],
   "source": [
    "retail_uk_customer.head()"
   ]
  },
  {
   "cell_type": "code",
   "execution_count": 44,
   "metadata": {},
   "outputs": [
    {
     "data": {
      "image/png": "[encoded data removed]",
      "text/plain": [
       "<Figure size 432x288 with 2 Axes>"
      ]
     },
     "metadata": {
      "needs_background": "light"
     },
     "output_type": "display_data"
    }
   ],
   "source": [
    "kmodel = KMeans(n_clusters=4)\n",
    "kmodel.fit(retail_uk_customer[['frequency']])\n",
    "retail_uk_customer['frequencycluster']=kmodel.predict(retail_uk_customer[['frequency']])\n",
    "#fig, axes = plt.subplots(1, 2, figsize=(16,8))\n",
    "ax1=retail_uk_customer.plot.scatter(x='customerid',y='frequency',c='frequencycluster',colormap='viridis',s=100)"
   ]
  },
  {
   "cell_type": "code",
   "execution_count": 45,
   "metadata": {},
   "outputs": [
    {
     "data": {
      "text/html": [
       "<div>\n",
       "<style scoped>\n",
       "    .dataframe tbody tr th:only-of-type {\n",
       "        vertical-align: middle;\n",
       "    }\n",
       "\n",
       "    .dataframe tbody tr th {\n",
       "        vertical-align: top;\n",
       "    }\n",
       "\n",
       "    .dataframe thead tr th {\n",
       "        text-align: left;\n",
       "    }\n",
       "\n",
       "    .dataframe thead tr:last-of-type th {\n",
       "        text-align: right;\n",
       "    }\n",
       "</style>\n",
       "<table border=\"1\" class=\"dataframe\">\n",
       "  <thead>\n",
       "    <tr>\n",
       "      <th></th>\n",
       "      <th colspan=\"8\" halign=\"left\">frequency</th>\n",
       "    </tr>\n",
       "    <tr>\n",
       "      <th></th>\n",
       "      <th>count</th>\n",
       "      <th>mean</th>\n",
       "      <th>std</th>\n",
       "      <th>min</th>\n",
       "      <th>25%</th>\n",
       "      <th>50%</th>\n",
       "      <th>75%</th>\n",
       "      <th>max</th>\n",
       "    </tr>\n",
       "    <tr>\n",
       "      <th>frequencycluster</th>\n",
       "      <th></th>\n",
       "      <th></th>\n",
       "      <th></th>\n",
       "      <th></th>\n",
       "      <th></th>\n",
       "      <th></th>\n",
       "      <th></th>\n",
       "      <th></th>\n",
       "    </tr>\n",
       "  </thead>\n",
       "  <tbody>\n",
       "    <tr>\n",
       "      <th>0</th>\n",
       "      <td>1106.0</td>\n",
       "      <td>1.713382</td>\n",
       "      <td>0.771754</td>\n",
       "      <td>1.0</td>\n",
       "      <td>1.0</td>\n",
       "      <td>2.0</td>\n",
       "      <td>2.0</td>\n",
       "      <td>3.0</td>\n",
       "    </tr>\n",
       "    <tr>\n",
       "      <th>1</th>\n",
       "      <td>78.0</td>\n",
       "      <td>13.769231</td>\n",
       "      <td>4.263780</td>\n",
       "      <td>10.0</td>\n",
       "      <td>11.0</td>\n",
       "      <td>12.0</td>\n",
       "      <td>15.0</td>\n",
       "      <td>26.0</td>\n",
       "    </tr>\n",
       "    <tr>\n",
       "      <th>2</th>\n",
       "      <td>13.0</td>\n",
       "      <td>40.384615</td>\n",
       "      <td>9.341114</td>\n",
       "      <td>29.0</td>\n",
       "      <td>32.0</td>\n",
       "      <td>42.0</td>\n",
       "      <td>46.0</td>\n",
       "      <td>56.0</td>\n",
       "    </tr>\n",
       "    <tr>\n",
       "      <th>3</th>\n",
       "      <td>425.0</td>\n",
       "      <td>5.409412</td>\n",
       "      <td>1.530170</td>\n",
       "      <td>4.0</td>\n",
       "      <td>4.0</td>\n",
       "      <td>5.0</td>\n",
       "      <td>6.0</td>\n",
       "      <td>9.0</td>\n",
       "    </tr>\n",
       "  </tbody>\n",
       "</table>\n",
       "</div>"
      ],
      "text/plain": [
       "                 frequency                                                   \n",
       "                     count       mean       std   min   25%   50%   75%   max\n",
       "frequencycluster                                                             \n",
       "0                   1106.0   1.713382  0.771754   1.0   1.0   2.0   2.0   3.0\n",
       "1                     78.0  13.769231  4.263780  10.0  11.0  12.0  15.0  26.0\n",
       "2                     13.0  40.384615  9.341114  29.0  32.0  42.0  46.0  56.0\n",
       "3                    425.0   5.409412  1.530170   4.0   4.0   5.0   6.0   9.0"
      ]
     },
     "execution_count": 45,
     "metadata": {},
     "output_type": "execute_result"
    }
   ],
   "source": [
    "retail_uk_customer.groupby(['frequencycluster'])[['frequency']].describe()"
   ]
  },
  {
   "cell_type": "markdown",
   "metadata": {},
   "source": [
    "## Monetary"
   ]
  },
  {
   "cell_type": "markdown",
   "metadata": {},
   "source": [
    "Monetary is calculated by adding all the purchase amount by the customer"
   ]
  },
  {
   "cell_type": "code",
   "execution_count": 46,
   "metadata": {},
   "outputs": [],
   "source": [
    "retail_uk_cost=retail_uk_6mon.groupby('customerid')['total'].sum().reset_index()\n",
    "retail_uk_cost.columns=['customerid','income']\n",
    "retail_uk_cost=retail_uk_cost[retail_uk_cost['income']<10000]\n",
    "retail_uk_customer=pd.merge(retail_uk_customer,retail_uk_cost,on='customerid')"
   ]
  },
  {
   "cell_type": "code",
   "execution_count": 47,
   "metadata": {},
   "outputs": [
    {
     "data": {
      "text/html": [
       "<div>\n",
       "<style scoped>\n",
       "    .dataframe tbody tr th:only-of-type {\n",
       "        vertical-align: middle;\n",
       "    }\n",
       "\n",
       "    .dataframe tbody tr th {\n",
       "        vertical-align: top;\n",
       "    }\n",
       "\n",
       "    .dataframe thead th {\n",
       "        text-align: right;\n",
       "    }\n",
       "</style>\n",
       "<table border=\"1\" class=\"dataframe\">\n",
       "  <thead>\n",
       "    <tr style=\"text-align: right;\">\n",
       "      <th></th>\n",
       "      <th>customerid</th>\n",
       "      <th>purchaseinterval</th>\n",
       "      <th>recency</th>\n",
       "      <th>recencycluster</th>\n",
       "      <th>frequency</th>\n",
       "      <th>frequencycluster</th>\n",
       "      <th>income</th>\n",
       "    </tr>\n",
       "  </thead>\n",
       "  <tbody>\n",
       "    <tr>\n",
       "      <th>0</th>\n",
       "      <td>16717.0</td>\n",
       "      <td>141</td>\n",
       "      <td>104</td>\n",
       "      <td>2</td>\n",
       "      <td>2</td>\n",
       "      <td>0</td>\n",
       "      <td>422.89</td>\n",
       "    </tr>\n",
       "    <tr>\n",
       "      <th>1</th>\n",
       "      <td>16202.0</td>\n",
       "      <td>118</td>\n",
       "      <td>89</td>\n",
       "      <td>2</td>\n",
       "      <td>4</td>\n",
       "      <td>3</td>\n",
       "      <td>712.21</td>\n",
       "    </tr>\n",
       "    <tr>\n",
       "      <th>2</th>\n",
       "      <td>17241.0</td>\n",
       "      <td>66</td>\n",
       "      <td>50</td>\n",
       "      <td>0</td>\n",
       "      <td>9</td>\n",
       "      <td>3</td>\n",
       "      <td>1447.29</td>\n",
       "    </tr>\n",
       "    <tr>\n",
       "      <th>3</th>\n",
       "      <td>14870.0</td>\n",
       "      <td>101</td>\n",
       "      <td>49</td>\n",
       "      <td>0</td>\n",
       "      <td>3</td>\n",
       "      <td>0</td>\n",
       "      <td>761.10</td>\n",
       "    </tr>\n",
       "    <tr>\n",
       "      <th>4</th>\n",
       "      <td>17865.0</td>\n",
       "      <td>18</td>\n",
       "      <td>8</td>\n",
       "      <td>3</td>\n",
       "      <td>12</td>\n",
       "      <td>1</td>\n",
       "      <td>5878.98</td>\n",
       "    </tr>\n",
       "  </tbody>\n",
       "</table>\n",
       "</div>"
      ],
      "text/plain": [
       "   customerid  purchaseinterval  recency  recencycluster  frequency  \\\n",
       "0     16717.0               141      104               2          2   \n",
       "1     16202.0               118       89               2          4   \n",
       "2     17241.0                66       50               0          9   \n",
       "3     14870.0               101       49               0          3   \n",
       "4     17865.0                18        8               3         12   \n",
       "\n",
       "   frequencycluster   income  \n",
       "0                 0   422.89  \n",
       "1                 3   712.21  \n",
       "2                 3  1447.29  \n",
       "3                 0   761.10  \n",
       "4                 1  5878.98  "
      ]
     },
     "execution_count": 47,
     "metadata": {},
     "output_type": "execute_result"
    }
   ],
   "source": [
    "retail_uk_customer.head()"
   ]
  },
  {
   "cell_type": "code",
   "execution_count": 48,
   "metadata": {},
   "outputs": [
    {
     "data": {
      "image/png": "[encoded data removed]",
      "text/plain": [
       "<Figure size 432x288 with 2 Axes>"
      ]
     },
     "metadata": {
      "needs_background": "light"
     },
     "output_type": "display_data"
    }
   ],
   "source": [
    "kmodel = KMeans(n_clusters=4)\n",
    "kmodel.fit(retail_uk_customer[['income']])\n",
    "retail_uk_customer['incomecluster']=kmodel.predict(retail_uk_customer[['income']])\n",
    "#fig, axes = plt.subplots(1, 2, figsize=(16,8))retail_uk_customer\n",
    "ax1=retail_uk_customer.plot.scatter(x='customerid',y='income',c='incomecluster',colormap='viridis',s=100)"
   ]
  },
  {
   "cell_type": "code",
   "execution_count": 49,
   "metadata": {},
   "outputs": [
    {
     "data": {
      "text/html": [
       "<div>\n",
       "<style scoped>\n",
       "    .dataframe tbody tr th:only-of-type {\n",
       "        vertical-align: middle;\n",
       "    }\n",
       "\n",
       "    .dataframe tbody tr th {\n",
       "        vertical-align: top;\n",
       "    }\n",
       "\n",
       "    .dataframe thead tr th {\n",
       "        text-align: left;\n",
       "    }\n",
       "\n",
       "    .dataframe thead tr:last-of-type th {\n",
       "        text-align: right;\n",
       "    }\n",
       "</style>\n",
       "<table border=\"1\" class=\"dataframe\">\n",
       "  <thead>\n",
       "    <tr>\n",
       "      <th></th>\n",
       "      <th colspan=\"8\" halign=\"left\">income</th>\n",
       "    </tr>\n",
       "    <tr>\n",
       "      <th></th>\n",
       "      <th>count</th>\n",
       "      <th>mean</th>\n",
       "      <th>std</th>\n",
       "      <th>min</th>\n",
       "      <th>25%</th>\n",
       "      <th>50%</th>\n",
       "      <th>75%</th>\n",
       "      <th>max</th>\n",
       "    </tr>\n",
       "    <tr>\n",
       "      <th>incomecluster</th>\n",
       "      <th></th>\n",
       "      <th></th>\n",
       "      <th></th>\n",
       "      <th></th>\n",
       "      <th></th>\n",
       "      <th></th>\n",
       "      <th></th>\n",
       "      <th></th>\n",
       "    </tr>\n",
       "  </thead>\n",
       "  <tbody>\n",
       "    <tr>\n",
       "      <th>0</th>\n",
       "      <td>1096.0</td>\n",
       "      <td>414.950465</td>\n",
       "      <td>249.996546</td>\n",
       "      <td>4.25</td>\n",
       "      <td>201.870</td>\n",
       "      <td>369.165</td>\n",
       "      <td>599.3725</td>\n",
       "      <td>966.03</td>\n",
       "    </tr>\n",
       "    <tr>\n",
       "      <th>1</th>\n",
       "      <td>367.0</td>\n",
       "      <td>1516.792752</td>\n",
       "      <td>404.271575</td>\n",
       "      <td>968.70</td>\n",
       "      <td>1172.595</td>\n",
       "      <td>1430.090</td>\n",
       "      <td>1756.8000</td>\n",
       "      <td>2503.13</td>\n",
       "    </tr>\n",
       "    <tr>\n",
       "      <th>2</th>\n",
       "      <td>112.0</td>\n",
       "      <td>3490.740804</td>\n",
       "      <td>773.332373</td>\n",
       "      <td>2525.04</td>\n",
       "      <td>2852.795</td>\n",
       "      <td>3332.920</td>\n",
       "      <td>4099.8325</td>\n",
       "      <td>5279.94</td>\n",
       "    </tr>\n",
       "    <tr>\n",
       "      <th>3</th>\n",
       "      <td>25.0</td>\n",
       "      <td>7268.911600</td>\n",
       "      <td>1205.077788</td>\n",
       "      <td>5508.48</td>\n",
       "      <td>6175.200</td>\n",
       "      <td>6941.700</td>\n",
       "      <td>8440.0500</td>\n",
       "      <td>9283.16</td>\n",
       "    </tr>\n",
       "  </tbody>\n",
       "</table>\n",
       "</div>"
      ],
      "text/plain": [
       "               income                                                         \\\n",
       "                count         mean          std      min       25%       50%   \n",
       "incomecluster                                                                  \n",
       "0              1096.0   414.950465   249.996546     4.25   201.870   369.165   \n",
       "1               367.0  1516.792752   404.271575   968.70  1172.595  1430.090   \n",
       "2               112.0  3490.740804   773.332373  2525.04  2852.795  3332.920   \n",
       "3                25.0  7268.911600  1205.077788  5508.48  6175.200  6941.700   \n",
       "\n",
       "                                   \n",
       "                     75%      max  \n",
       "incomecluster                      \n",
       "0               599.3725   966.03  \n",
       "1              1756.8000  2503.13  \n",
       "2              4099.8325  5279.94  \n",
       "3              8440.0500  9283.16  "
      ]
     },
     "execution_count": 49,
     "metadata": {},
     "output_type": "execute_result"
    }
   ],
   "source": [
    "retail_uk_customer.groupby(['incomecluster'])[['income']].describe()"
   ]
  },
  {
   "cell_type": "markdown",
   "metadata": {},
   "source": [
    "## Customer segmentation based on RFM"
   ]
  },
  {
   "cell_type": "markdown",
   "metadata": {},
   "source": [
    "Based on Recency ,Frequency and Monetary a score is calculated."
   ]
  },
  {
   "cell_type": "code",
   "execution_count": 50,
   "metadata": {},
   "outputs": [
    {
     "data": {
      "text/html": [
       "<div>\n",
       "<style scoped>\n",
       "    .dataframe tbody tr th:only-of-type {\n",
       "        vertical-align: middle;\n",
       "    }\n",
       "\n",
       "    .dataframe tbody tr th {\n",
       "        vertical-align: top;\n",
       "    }\n",
       "\n",
       "    .dataframe thead th {\n",
       "        text-align: right;\n",
       "    }\n",
       "</style>\n",
       "<table border=\"1\" class=\"dataframe\">\n",
       "  <thead>\n",
       "    <tr style=\"text-align: right;\">\n",
       "      <th></th>\n",
       "      <th>recency</th>\n",
       "      <th>frequency</th>\n",
       "      <th>income</th>\n",
       "    </tr>\n",
       "    <tr>\n",
       "      <th>score</th>\n",
       "      <th></th>\n",
       "      <th></th>\n",
       "      <th></th>\n",
       "    </tr>\n",
       "  </thead>\n",
       "  <tbody>\n",
       "    <tr>\n",
       "      <th>0</th>\n",
       "      <td>51.054348</td>\n",
       "      <td>1.840580</td>\n",
       "      <td>435.750797</td>\n",
       "    </tr>\n",
       "    <tr>\n",
       "      <th>1</th>\n",
       "      <td>134.239669</td>\n",
       "      <td>1.376033</td>\n",
       "      <td>462.420868</td>\n",
       "    </tr>\n",
       "    <tr>\n",
       "      <th>2</th>\n",
       "      <td>96.128814</td>\n",
       "      <td>1.579661</td>\n",
       "      <td>413.677525</td>\n",
       "    </tr>\n",
       "    <tr>\n",
       "      <th>3</th>\n",
       "      <td>26.562500</td>\n",
       "      <td>2.552083</td>\n",
       "      <td>615.860243</td>\n",
       "    </tr>\n",
       "    <tr>\n",
       "      <th>4</th>\n",
       "      <td>33.944882</td>\n",
       "      <td>4.314961</td>\n",
       "      <td>1596.065748</td>\n",
       "    </tr>\n",
       "    <tr>\n",
       "      <th>5</th>\n",
       "      <td>41.947368</td>\n",
       "      <td>7.684211</td>\n",
       "      <td>2328.055263</td>\n",
       "    </tr>\n",
       "    <tr>\n",
       "      <th>6</th>\n",
       "      <td>24.438596</td>\n",
       "      <td>7.035088</td>\n",
       "      <td>1663.754298</td>\n",
       "    </tr>\n",
       "    <tr>\n",
       "      <th>7</th>\n",
       "      <td>13.349693</td>\n",
       "      <td>6.865031</td>\n",
       "      <td>2117.499264</td>\n",
       "    </tr>\n",
       "    <tr>\n",
       "      <th>8</th>\n",
       "      <td>11.734694</td>\n",
       "      <td>7.387755</td>\n",
       "      <td>3400.551633</td>\n",
       "    </tr>\n",
       "    <tr>\n",
       "      <th>9</th>\n",
       "      <td>8.625000</td>\n",
       "      <td>6.500000</td>\n",
       "      <td>7493.108750</td>\n",
       "    </tr>\n",
       "  </tbody>\n",
       "</table>\n",
       "</div>"
      ],
      "text/plain": [
       "          recency  frequency       income\n",
       "score                                    \n",
       "0       51.054348   1.840580   435.750797\n",
       "1      134.239669   1.376033   462.420868\n",
       "2       96.128814   1.579661   413.677525\n",
       "3       26.562500   2.552083   615.860243\n",
       "4       33.944882   4.314961  1596.065748\n",
       "5       41.947368   7.684211  2328.055263\n",
       "6       24.438596   7.035088  1663.754298\n",
       "7       13.349693   6.865031  2117.499264\n",
       "8       11.734694   7.387755  3400.551633\n",
       "9        8.625000   6.500000  7493.108750"
      ]
     },
     "execution_count": 50,
     "metadata": {},
     "output_type": "execute_result"
    }
   ],
   "source": [
    "retail_uk_customer['score']=retail_uk_customer['recencycluster']+retail_uk_customer['frequencycluster']+retail_uk_customer['incomecluster']\n",
    "retail_uk_customer.groupby('score')['recency','frequency','income'].mean()\n"
   ]
  },
  {
   "cell_type": "markdown",
   "metadata": {},
   "source": [
    "## Last three purchases,mean and standard deviation between the days"
   ]
  },
  {
   "cell_type": "markdown",
   "metadata": {},
   "source": [
    "Last three purchases for the customer are calculated and the  days between last invoice and the previous invoices are calculated. All customers with less than three transactions are removed as customer with atleast three trasactions can be considered frequent"
   ]
  },
  {
   "cell_type": "code",
   "execution_count": 51,
   "metadata": {},
   "outputs": [],
   "source": [
    "#days between last three purchase \n",
    "\n",
    "retail_uk_invoice=retail_uk_6mon[['customerid','invoicedate']]\n",
    "retail_uk_invoice['invoiceday']=retail_uk_invoice['invoicedate'].dt.date\n",
    "retail_uk_invoice=retail_uk_invoice.sort_values(['customerid','invoicedate'])\n",
    "retail_uk_invoice=retail_uk_invoice.drop_duplicates(subset=['customerid','invoicedate'])\n"
   ]
  },
  {
   "cell_type": "code",
   "execution_count": 52,
   "metadata": {},
   "outputs": [
    {
     "data": {
      "text/html": [
       "<div>\n",
       "<style scoped>\n",
       "    .dataframe tbody tr th:only-of-type {\n",
       "        vertical-align: middle;\n",
       "    }\n",
       "\n",
       "    .dataframe tbody tr th {\n",
       "        vertical-align: top;\n",
       "    }\n",
       "\n",
       "    .dataframe thead th {\n",
       "        text-align: right;\n",
       "    }\n",
       "</style>\n",
       "<table border=\"1\" class=\"dataframe\">\n",
       "  <thead>\n",
       "    <tr style=\"text-align: right;\">\n",
       "      <th></th>\n",
       "      <th>customerid</th>\n",
       "      <th>invoicedate</th>\n",
       "      <th>invoiceday</th>\n",
       "    </tr>\n",
       "  </thead>\n",
       "  <tbody>\n",
       "    <tr>\n",
       "      <th>997</th>\n",
       "      <td>12346.0</td>\n",
       "      <td>2010-03-02 13:08:00</td>\n",
       "      <td>2010-03-02</td>\n",
       "    </tr>\n",
       "    <tr>\n",
       "      <th>88430</th>\n",
       "      <td>12346.0</td>\n",
       "      <td>2010-06-28 13:53:00</td>\n",
       "      <td>2010-06-28</td>\n",
       "    </tr>\n",
       "    <tr>\n",
       "      <th>54485</th>\n",
       "      <td>12745.0</td>\n",
       "      <td>2010-05-14 16:50:00</td>\n",
       "      <td>2010-05-14</td>\n",
       "    </tr>\n",
       "    <tr>\n",
       "      <th>117902</th>\n",
       "      <td>12745.0</td>\n",
       "      <td>2010-08-10 10:14:00</td>\n",
       "      <td>2010-08-10</td>\n",
       "    </tr>\n",
       "    <tr>\n",
       "      <th>81327</th>\n",
       "      <td>12746.0</td>\n",
       "      <td>2010-06-17 10:41:00</td>\n",
       "      <td>2010-06-17</td>\n",
       "    </tr>\n",
       "  </tbody>\n",
       "</table>\n",
       "</div>"
      ],
      "text/plain": [
       "        customerid         invoicedate  invoiceday\n",
       "997        12346.0 2010-03-02 13:08:00  2010-03-02\n",
       "88430      12346.0 2010-06-28 13:53:00  2010-06-28\n",
       "54485      12745.0 2010-05-14 16:50:00  2010-05-14\n",
       "117902     12745.0 2010-08-10 10:14:00  2010-08-10\n",
       "81327      12746.0 2010-06-17 10:41:00  2010-06-17"
      ]
     },
     "execution_count": 52,
     "metadata": {},
     "output_type": "execute_result"
    }
   ],
   "source": [
    "retail_uk_invoice.head()"
   ]
  },
  {
   "cell_type": "code",
   "execution_count": 53,
   "metadata": {},
   "outputs": [],
   "source": [
    "#fill the dataframe with three invoice date sequence\n",
    "\n",
    "retail_uk_invoice['lastpurchase']=retail_uk_invoice.groupby('customerid')['invoiceday'].shift(1)\n",
    "retail_uk_invoice['secondpurchase']=retail_uk_invoice.groupby('customerid')['invoiceday'].shift(2)\n",
    "retail_uk_invoice['firstpurchase']=retail_uk_invoice.groupby('customerid')['invoiceday'].shift(3)"
   ]
  },
  {
   "cell_type": "code",
   "execution_count": 54,
   "metadata": {},
   "outputs": [
    {
     "data": {
      "text/html": [
       "<div>\n",
       "<style scoped>\n",
       "    .dataframe tbody tr th:only-of-type {\n",
       "        vertical-align: middle;\n",
       "    }\n",
       "\n",
       "    .dataframe tbody tr th {\n",
       "        vertical-align: top;\n",
       "    }\n",
       "\n",
       "    .dataframe thead th {\n",
       "        text-align: right;\n",
       "    }\n",
       "</style>\n",
       "<table border=\"1\" class=\"dataframe\">\n",
       "  <thead>\n",
       "    <tr style=\"text-align: right;\">\n",
       "      <th></th>\n",
       "      <th>customerid</th>\n",
       "      <th>invoicedate</th>\n",
       "      <th>invoiceday</th>\n",
       "      <th>lastpurchase</th>\n",
       "      <th>secondpurchase</th>\n",
       "      <th>firstpurchase</th>\n",
       "    </tr>\n",
       "  </thead>\n",
       "  <tbody>\n",
       "    <tr>\n",
       "      <th>997</th>\n",
       "      <td>12346.0</td>\n",
       "      <td>2010-03-02 13:08:00</td>\n",
       "      <td>2010-03-02</td>\n",
       "      <td>NaN</td>\n",
       "      <td>NaN</td>\n",
       "      <td>NaN</td>\n",
       "    </tr>\n",
       "    <tr>\n",
       "      <th>88430</th>\n",
       "      <td>12346.0</td>\n",
       "      <td>2010-06-28 13:53:00</td>\n",
       "      <td>2010-06-28</td>\n",
       "      <td>2010-03-02</td>\n",
       "      <td>NaN</td>\n",
       "      <td>NaN</td>\n",
       "    </tr>\n",
       "    <tr>\n",
       "      <th>54485</th>\n",
       "      <td>12745.0</td>\n",
       "      <td>2010-05-14 16:50:00</td>\n",
       "      <td>2010-05-14</td>\n",
       "      <td>NaN</td>\n",
       "      <td>NaN</td>\n",
       "      <td>NaN</td>\n",
       "    </tr>\n",
       "    <tr>\n",
       "      <th>117902</th>\n",
       "      <td>12745.0</td>\n",
       "      <td>2010-08-10 10:14:00</td>\n",
       "      <td>2010-08-10</td>\n",
       "      <td>2010-05-14</td>\n",
       "      <td>NaN</td>\n",
       "      <td>NaN</td>\n",
       "    </tr>\n",
       "    <tr>\n",
       "      <th>81327</th>\n",
       "      <td>12746.0</td>\n",
       "      <td>2010-06-17 10:41:00</td>\n",
       "      <td>2010-06-17</td>\n",
       "      <td>NaN</td>\n",
       "      <td>NaN</td>\n",
       "      <td>NaN</td>\n",
       "    </tr>\n",
       "    <tr>\n",
       "      <th>6819</th>\n",
       "      <td>12747.0</td>\n",
       "      <td>2010-03-09 15:16:00</td>\n",
       "      <td>2010-03-09</td>\n",
       "      <td>NaN</td>\n",
       "      <td>NaN</td>\n",
       "      <td>NaN</td>\n",
       "    </tr>\n",
       "    <tr>\n",
       "      <th>37903</th>\n",
       "      <td>12747.0</td>\n",
       "      <td>2010-04-23 09:51:00</td>\n",
       "      <td>2010-04-23</td>\n",
       "      <td>2010-03-09</td>\n",
       "      <td>NaN</td>\n",
       "      <td>NaN</td>\n",
       "    </tr>\n",
       "    <tr>\n",
       "      <th>64024</th>\n",
       "      <td>12747.0</td>\n",
       "      <td>2010-05-27 10:04:00</td>\n",
       "      <td>2010-05-27</td>\n",
       "      <td>2010-04-23</td>\n",
       "      <td>2010-03-09</td>\n",
       "      <td>NaN</td>\n",
       "    </tr>\n",
       "    <tr>\n",
       "      <th>77603</th>\n",
       "      <td>12747.0</td>\n",
       "      <td>2010-06-13 12:54:00</td>\n",
       "      <td>2010-06-13</td>\n",
       "      <td>2010-05-27</td>\n",
       "      <td>2010-04-23</td>\n",
       "      <td>2010-03-09</td>\n",
       "    </tr>\n",
       "    <tr>\n",
       "      <th>85333</th>\n",
       "      <td>12747.0</td>\n",
       "      <td>2010-06-23 14:07:00</td>\n",
       "      <td>2010-06-23</td>\n",
       "      <td>2010-06-13</td>\n",
       "      <td>2010-05-27</td>\n",
       "      <td>2010-04-23</td>\n",
       "    </tr>\n",
       "    <tr>\n",
       "      <th>112496</th>\n",
       "      <td>12747.0</td>\n",
       "      <td>2010-08-02 08:54:00</td>\n",
       "      <td>2010-08-02</td>\n",
       "      <td>2010-06-23</td>\n",
       "      <td>2010-06-13</td>\n",
       "      <td>2010-05-27</td>\n",
       "    </tr>\n",
       "    <tr>\n",
       "      <th>130870</th>\n",
       "      <td>12747.0</td>\n",
       "      <td>2010-08-27 14:33:00</td>\n",
       "      <td>2010-08-27</td>\n",
       "      <td>2010-08-02</td>\n",
       "      <td>2010-06-23</td>\n",
       "      <td>2010-06-13</td>\n",
       "    </tr>\n",
       "    <tr>\n",
       "      <th>4395</th>\n",
       "      <td>12748.0</td>\n",
       "      <td>2010-03-05 16:37:00</td>\n",
       "      <td>2010-03-05</td>\n",
       "      <td>NaN</td>\n",
       "      <td>NaN</td>\n",
       "      <td>NaN</td>\n",
       "    </tr>\n",
       "    <tr>\n",
       "      <th>6505</th>\n",
       "      <td>12748.0</td>\n",
       "      <td>2010-03-09 11:22:00</td>\n",
       "      <td>2010-03-09</td>\n",
       "      <td>2010-03-05</td>\n",
       "      <td>NaN</td>\n",
       "      <td>NaN</td>\n",
       "    </tr>\n",
       "    <tr>\n",
       "      <th>9503</th>\n",
       "      <td>12748.0</td>\n",
       "      <td>2010-03-14 16:09:00</td>\n",
       "      <td>2010-03-14</td>\n",
       "      <td>2010-03-09</td>\n",
       "      <td>2010-03-05</td>\n",
       "      <td>NaN</td>\n",
       "    </tr>\n",
       "  </tbody>\n",
       "</table>\n",
       "</div>"
      ],
      "text/plain": [
       "        customerid         invoicedate  invoiceday lastpurchase  \\\n",
       "997        12346.0 2010-03-02 13:08:00  2010-03-02          NaN   \n",
       "88430      12346.0 2010-06-28 13:53:00  2010-06-28   2010-03-02   \n",
       "54485      12745.0 2010-05-14 16:50:00  2010-05-14          NaN   \n",
       "117902     12745.0 2010-08-10 10:14:00  2010-08-10   2010-05-14   \n",
       "81327      12746.0 2010-06-17 10:41:00  2010-06-17          NaN   \n",
       "6819       12747.0 2010-03-09 15:16:00  2010-03-09          NaN   \n",
       "37903      12747.0 2010-04-23 09:51:00  2010-04-23   2010-03-09   \n",
       "64024      12747.0 2010-05-27 10:04:00  2010-05-27   2010-04-23   \n",
       "77603      12747.0 2010-06-13 12:54:00  2010-06-13   2010-05-27   \n",
       "85333      12747.0 2010-06-23 14:07:00  2010-06-23   2010-06-13   \n",
       "112496     12747.0 2010-08-02 08:54:00  2010-08-02   2010-06-23   \n",
       "130870     12747.0 2010-08-27 14:33:00  2010-08-27   2010-08-02   \n",
       "4395       12748.0 2010-03-05 16:37:00  2010-03-05          NaN   \n",
       "6505       12748.0 2010-03-09 11:22:00  2010-03-09   2010-03-05   \n",
       "9503       12748.0 2010-03-14 16:09:00  2010-03-14   2010-03-09   \n",
       "\n",
       "       secondpurchase firstpurchase  \n",
       "997               NaN           NaN  \n",
       "88430             NaN           NaN  \n",
       "54485             NaN           NaN  \n",
       "117902            NaN           NaN  \n",
       "81327             NaN           NaN  \n",
       "6819              NaN           NaN  \n",
       "37903             NaN           NaN  \n",
       "64024      2010-03-09           NaN  \n",
       "77603      2010-04-23    2010-03-09  \n",
       "85333      2010-05-27    2010-04-23  \n",
       "112496     2010-06-13    2010-05-27  \n",
       "130870     2010-06-23    2010-06-13  \n",
       "4395              NaN           NaN  \n",
       "6505              NaN           NaN  \n",
       "9503       2010-03-05           NaN  "
      ]
     },
     "execution_count": 54,
     "metadata": {},
     "output_type": "execute_result"
    }
   ],
   "source": [
    "retail_uk_invoice.head(15)"
   ]
  },
  {
   "cell_type": "code",
   "execution_count": 55,
   "metadata": {},
   "outputs": [],
   "source": [
    "#find the diff btween last invoice and first invoice,last and second invoice,last and third invoice\n",
    "\n",
    "retail_uk_invoice['lastinterval']=(retail_uk_invoice['invoiceday']-retail_uk_invoice['lastpurchase']).dt.days\n",
    "retail_uk_invoice['secondinterval']=(retail_uk_invoice['invoiceday']-retail_uk_invoice['secondpurchase']).dt.days\n",
    "retail_uk_invoice['thirdinterval']=(retail_uk_invoice['invoiceday']-retail_uk_invoice['firstpurchase']).dt.days"
   ]
  },
  {
   "cell_type": "code",
   "execution_count": 56,
   "metadata": {},
   "outputs": [
    {
     "data": {
      "text/html": [
       "<div>\n",
       "<style scoped>\n",
       "    .dataframe tbody tr th:only-of-type {\n",
       "        vertical-align: middle;\n",
       "    }\n",
       "\n",
       "    .dataframe tbody tr th {\n",
       "        vertical-align: top;\n",
       "    }\n",
       "\n",
       "    .dataframe thead th {\n",
       "        text-align: right;\n",
       "    }\n",
       "</style>\n",
       "<table border=\"1\" class=\"dataframe\">\n",
       "  <thead>\n",
       "    <tr style=\"text-align: right;\">\n",
       "      <th></th>\n",
       "      <th>customerid</th>\n",
       "      <th>invoicedate</th>\n",
       "      <th>invoiceday</th>\n",
       "      <th>lastpurchase</th>\n",
       "      <th>secondpurchase</th>\n",
       "      <th>firstpurchase</th>\n",
       "      <th>lastinterval</th>\n",
       "      <th>secondinterval</th>\n",
       "      <th>thirdinterval</th>\n",
       "    </tr>\n",
       "  </thead>\n",
       "  <tbody>\n",
       "    <tr>\n",
       "      <th>997</th>\n",
       "      <td>12346.0</td>\n",
       "      <td>2010-03-02 13:08:00</td>\n",
       "      <td>2010-03-02</td>\n",
       "      <td>NaN</td>\n",
       "      <td>NaN</td>\n",
       "      <td>NaN</td>\n",
       "      <td>NaN</td>\n",
       "      <td>NaN</td>\n",
       "      <td>NaN</td>\n",
       "    </tr>\n",
       "    <tr>\n",
       "      <th>88430</th>\n",
       "      <td>12346.0</td>\n",
       "      <td>2010-06-28 13:53:00</td>\n",
       "      <td>2010-06-28</td>\n",
       "      <td>2010-03-02</td>\n",
       "      <td>NaN</td>\n",
       "      <td>NaN</td>\n",
       "      <td>118.0</td>\n",
       "      <td>NaN</td>\n",
       "      <td>NaN</td>\n",
       "    </tr>\n",
       "    <tr>\n",
       "      <th>54485</th>\n",
       "      <td>12745.0</td>\n",
       "      <td>2010-05-14 16:50:00</td>\n",
       "      <td>2010-05-14</td>\n",
       "      <td>NaN</td>\n",
       "      <td>NaN</td>\n",
       "      <td>NaN</td>\n",
       "      <td>NaN</td>\n",
       "      <td>NaN</td>\n",
       "      <td>NaN</td>\n",
       "    </tr>\n",
       "    <tr>\n",
       "      <th>117902</th>\n",
       "      <td>12745.0</td>\n",
       "      <td>2010-08-10 10:14:00</td>\n",
       "      <td>2010-08-10</td>\n",
       "      <td>2010-05-14</td>\n",
       "      <td>NaN</td>\n",
       "      <td>NaN</td>\n",
       "      <td>88.0</td>\n",
       "      <td>NaN</td>\n",
       "      <td>NaN</td>\n",
       "    </tr>\n",
       "    <tr>\n",
       "      <th>81327</th>\n",
       "      <td>12746.0</td>\n",
       "      <td>2010-06-17 10:41:00</td>\n",
       "      <td>2010-06-17</td>\n",
       "      <td>NaN</td>\n",
       "      <td>NaN</td>\n",
       "      <td>NaN</td>\n",
       "      <td>NaN</td>\n",
       "      <td>NaN</td>\n",
       "      <td>NaN</td>\n",
       "    </tr>\n",
       "    <tr>\n",
       "      <th>6819</th>\n",
       "      <td>12747.0</td>\n",
       "      <td>2010-03-09 15:16:00</td>\n",
       "      <td>2010-03-09</td>\n",
       "      <td>NaN</td>\n",
       "      <td>NaN</td>\n",
       "      <td>NaN</td>\n",
       "      <td>NaN</td>\n",
       "      <td>NaN</td>\n",
       "      <td>NaN</td>\n",
       "    </tr>\n",
       "    <tr>\n",
       "      <th>37903</th>\n",
       "      <td>12747.0</td>\n",
       "      <td>2010-04-23 09:51:00</td>\n",
       "      <td>2010-04-23</td>\n",
       "      <td>2010-03-09</td>\n",
       "      <td>NaN</td>\n",
       "      <td>NaN</td>\n",
       "      <td>45.0</td>\n",
       "      <td>NaN</td>\n",
       "      <td>NaN</td>\n",
       "    </tr>\n",
       "    <tr>\n",
       "      <th>64024</th>\n",
       "      <td>12747.0</td>\n",
       "      <td>2010-05-27 10:04:00</td>\n",
       "      <td>2010-05-27</td>\n",
       "      <td>2010-04-23</td>\n",
       "      <td>2010-03-09</td>\n",
       "      <td>NaN</td>\n",
       "      <td>34.0</td>\n",
       "      <td>79.0</td>\n",
       "      <td>NaN</td>\n",
       "    </tr>\n",
       "    <tr>\n",
       "      <th>77603</th>\n",
       "      <td>12747.0</td>\n",
       "      <td>2010-06-13 12:54:00</td>\n",
       "      <td>2010-06-13</td>\n",
       "      <td>2010-05-27</td>\n",
       "      <td>2010-04-23</td>\n",
       "      <td>2010-03-09</td>\n",
       "      <td>17.0</td>\n",
       "      <td>51.0</td>\n",
       "      <td>96.0</td>\n",
       "    </tr>\n",
       "    <tr>\n",
       "      <th>85333</th>\n",
       "      <td>12747.0</td>\n",
       "      <td>2010-06-23 14:07:00</td>\n",
       "      <td>2010-06-23</td>\n",
       "      <td>2010-06-13</td>\n",
       "      <td>2010-05-27</td>\n",
       "      <td>2010-04-23</td>\n",
       "      <td>10.0</td>\n",
       "      <td>27.0</td>\n",
       "      <td>61.0</td>\n",
       "    </tr>\n",
       "  </tbody>\n",
       "</table>\n",
       "</div>"
      ],
      "text/plain": [
       "        customerid         invoicedate  invoiceday lastpurchase  \\\n",
       "997        12346.0 2010-03-02 13:08:00  2010-03-02          NaN   \n",
       "88430      12346.0 2010-06-28 13:53:00  2010-06-28   2010-03-02   \n",
       "54485      12745.0 2010-05-14 16:50:00  2010-05-14          NaN   \n",
       "117902     12745.0 2010-08-10 10:14:00  2010-08-10   2010-05-14   \n",
       "81327      12746.0 2010-06-17 10:41:00  2010-06-17          NaN   \n",
       "6819       12747.0 2010-03-09 15:16:00  2010-03-09          NaN   \n",
       "37903      12747.0 2010-04-23 09:51:00  2010-04-23   2010-03-09   \n",
       "64024      12747.0 2010-05-27 10:04:00  2010-05-27   2010-04-23   \n",
       "77603      12747.0 2010-06-13 12:54:00  2010-06-13   2010-05-27   \n",
       "85333      12747.0 2010-06-23 14:07:00  2010-06-23   2010-06-13   \n",
       "\n",
       "       secondpurchase firstpurchase  lastinterval  secondinterval  \\\n",
       "997               NaN           NaN           NaN             NaN   \n",
       "88430             NaN           NaN         118.0             NaN   \n",
       "54485             NaN           NaN           NaN             NaN   \n",
       "117902            NaN           NaN          88.0             NaN   \n",
       "81327             NaN           NaN           NaN             NaN   \n",
       "6819              NaN           NaN           NaN             NaN   \n",
       "37903             NaN           NaN          45.0             NaN   \n",
       "64024      2010-03-09           NaN          34.0            79.0   \n",
       "77603      2010-04-23    2010-03-09          17.0            51.0   \n",
       "85333      2010-05-27    2010-04-23          10.0            27.0   \n",
       "\n",
       "        thirdinterval  \n",
       "997               NaN  \n",
       "88430             NaN  \n",
       "54485             NaN  \n",
       "117902            NaN  \n",
       "81327             NaN  \n",
       "6819              NaN  \n",
       "37903             NaN  \n",
       "64024             NaN  \n",
       "77603            96.0  \n",
       "85333            61.0  "
      ]
     },
     "execution_count": 56,
     "metadata": {},
     "output_type": "execute_result"
    }
   ],
   "source": [
    "retail_uk_invoice.head(10)"
   ]
  },
  {
   "cell_type": "code",
   "execution_count": 57,
   "metadata": {},
   "outputs": [],
   "source": [
    "#calculating mean and std for firstinterval\n",
    "\n",
    "retail_uk_invoice_stat=retail_uk_invoice.groupby('customerid').agg({'lastinterval':['mean','std']}).reset_index()\n",
    "retail_uk_invoice_stat.columns=['customerid','intervalmean','intervalstd']"
   ]
  },
  {
   "cell_type": "code",
   "execution_count": 58,
   "metadata": {},
   "outputs": [],
   "source": [
    "# drop all invoices for the customer except the last,to make sure there are customer with more than three transaction\n",
    "\n",
    "retail_uk_invoice_final=retail_uk_invoice.drop_duplicates(subset=['customerid'],keep='last')\n",
    "retail_uk_invoice_final=retail_uk_invoice_final.dropna()\n",
    "retail_uk_invoice_final=pd.merge(retail_uk_invoice_final,retail_uk_invoice_stat,on='customerid')\n"
   ]
  },
  {
   "cell_type": "code",
   "execution_count": 59,
   "metadata": {},
   "outputs": [
    {
     "data": {
      "text/html": [
       "<div>\n",
       "<style scoped>\n",
       "    .dataframe tbody tr th:only-of-type {\n",
       "        vertical-align: middle;\n",
       "    }\n",
       "\n",
       "    .dataframe tbody tr th {\n",
       "        vertical-align: top;\n",
       "    }\n",
       "\n",
       "    .dataframe thead th {\n",
       "        text-align: right;\n",
       "    }\n",
       "</style>\n",
       "<table border=\"1\" class=\"dataframe\">\n",
       "  <thead>\n",
       "    <tr style=\"text-align: right;\">\n",
       "      <th></th>\n",
       "      <th>customerid</th>\n",
       "      <th>invoicedate</th>\n",
       "      <th>invoiceday</th>\n",
       "      <th>lastpurchase</th>\n",
       "      <th>secondpurchase</th>\n",
       "      <th>firstpurchase</th>\n",
       "      <th>lastinterval</th>\n",
       "      <th>secondinterval</th>\n",
       "      <th>thirdinterval</th>\n",
       "      <th>intervalmean</th>\n",
       "      <th>intervalstd</th>\n",
       "    </tr>\n",
       "  </thead>\n",
       "  <tbody>\n",
       "    <tr>\n",
       "      <th>0</th>\n",
       "      <td>12747.0</td>\n",
       "      <td>2010-08-27 14:33:00</td>\n",
       "      <td>2010-08-27</td>\n",
       "      <td>2010-08-02</td>\n",
       "      <td>2010-06-23</td>\n",
       "      <td>2010-06-13</td>\n",
       "      <td>25.0</td>\n",
       "      <td>65.0</td>\n",
       "      <td>75.0</td>\n",
       "      <td>28.500000</td>\n",
       "      <td>13.575714</td>\n",
       "    </tr>\n",
       "    <tr>\n",
       "      <th>1</th>\n",
       "      <td>12748.0</td>\n",
       "      <td>2010-08-12 14:39:00</td>\n",
       "      <td>2010-08-12</td>\n",
       "      <td>2010-08-04</td>\n",
       "      <td>2010-08-03</td>\n",
       "      <td>2010-08-02</td>\n",
       "      <td>8.0</td>\n",
       "      <td>9.0</td>\n",
       "      <td>10.0</td>\n",
       "      <td>4.324324</td>\n",
       "      <td>3.407949</td>\n",
       "    </tr>\n",
       "    <tr>\n",
       "      <th>2</th>\n",
       "      <td>12823.0</td>\n",
       "      <td>2010-07-13 16:36:00</td>\n",
       "      <td>2010-07-13</td>\n",
       "      <td>2010-07-01</td>\n",
       "      <td>2010-06-03</td>\n",
       "      <td>2010-06-03</td>\n",
       "      <td>12.0</td>\n",
       "      <td>40.0</td>\n",
       "      <td>40.0</td>\n",
       "      <td>18.571429</td>\n",
       "      <td>10.737119</td>\n",
       "    </tr>\n",
       "    <tr>\n",
       "      <th>3</th>\n",
       "      <td>12835.0</td>\n",
       "      <td>2010-08-26 13:09:00</td>\n",
       "      <td>2010-08-26</td>\n",
       "      <td>2010-08-12</td>\n",
       "      <td>2010-08-12</td>\n",
       "      <td>2010-07-21</td>\n",
       "      <td>14.0</td>\n",
       "      <td>14.0</td>\n",
       "      <td>36.0</td>\n",
       "      <td>7.652174</td>\n",
       "      <td>5.440661</td>\n",
       "    </tr>\n",
       "    <tr>\n",
       "      <th>4</th>\n",
       "      <td>12836.0</td>\n",
       "      <td>2010-08-26 15:27:00</td>\n",
       "      <td>2010-08-26</td>\n",
       "      <td>2010-07-29</td>\n",
       "      <td>2010-07-29</td>\n",
       "      <td>2010-06-06</td>\n",
       "      <td>28.0</td>\n",
       "      <td>28.0</td>\n",
       "      <td>81.0</td>\n",
       "      <td>29.800000</td>\n",
       "      <td>21.229696</td>\n",
       "    </tr>\n",
       "  </tbody>\n",
       "</table>\n",
       "</div>"
      ],
      "text/plain": [
       "   customerid         invoicedate  invoiceday lastpurchase secondpurchase  \\\n",
       "0     12747.0 2010-08-27 14:33:00  2010-08-27   2010-08-02     2010-06-23   \n",
       "1     12748.0 2010-08-12 14:39:00  2010-08-12   2010-08-04     2010-08-03   \n",
       "2     12823.0 2010-07-13 16:36:00  2010-07-13   2010-07-01     2010-06-03   \n",
       "3     12835.0 2010-08-26 13:09:00  2010-08-26   2010-08-12     2010-08-12   \n",
       "4     12836.0 2010-08-26 15:27:00  2010-08-26   2010-07-29     2010-07-29   \n",
       "\n",
       "  firstpurchase  lastinterval  secondinterval  thirdinterval  intervalmean  \\\n",
       "0    2010-06-13          25.0            65.0           75.0     28.500000   \n",
       "1    2010-08-02           8.0             9.0           10.0      4.324324   \n",
       "2    2010-06-03          12.0            40.0           40.0     18.571429   \n",
       "3    2010-07-21          14.0            14.0           36.0      7.652174   \n",
       "4    2010-06-06          28.0            28.0           81.0     29.800000   \n",
       "\n",
       "   intervalstd  \n",
       "0    13.575714  \n",
       "1     3.407949  \n",
       "2    10.737119  \n",
       "3     5.440661  \n",
       "4    21.229696  "
      ]
     },
     "execution_count": 59,
     "metadata": {},
     "output_type": "execute_result"
    }
   ],
   "source": [
    "retail_uk_invoice_final.head()"
   ]
  },
  {
   "cell_type": "code",
   "execution_count": 60,
   "metadata": {},
   "outputs": [],
   "source": [
    "retail_uk_customer=pd.merge(retail_uk_customer,retail_uk_invoice_final[['customerid','lastinterval','secondinterval','thirdinterval','intervalmean','intervalstd']],on='customerid')"
   ]
  },
  {
   "cell_type": "markdown",
   "metadata": {},
   "source": [
    "## Customer dataframe"
   ]
  },
  {
   "cell_type": "code",
   "execution_count": 61,
   "metadata": {},
   "outputs": [
    {
     "data": {
      "text/html": [
       "<div>\n",
       "<style scoped>\n",
       "    .dataframe tbody tr th:only-of-type {\n",
       "        vertical-align: middle;\n",
       "    }\n",
       "\n",
       "    .dataframe tbody tr th {\n",
       "        vertical-align: top;\n",
       "    }\n",
       "\n",
       "    .dataframe thead th {\n",
       "        text-align: right;\n",
       "    }\n",
       "</style>\n",
       "<table border=\"1\" class=\"dataframe\">\n",
       "  <thead>\n",
       "    <tr style=\"text-align: right;\">\n",
       "      <th></th>\n",
       "      <th>customerid</th>\n",
       "      <th>purchaseinterval</th>\n",
       "      <th>recency</th>\n",
       "      <th>recencycluster</th>\n",
       "      <th>frequency</th>\n",
       "      <th>frequencycluster</th>\n",
       "      <th>income</th>\n",
       "      <th>incomecluster</th>\n",
       "      <th>score</th>\n",
       "      <th>lastinterval</th>\n",
       "      <th>secondinterval</th>\n",
       "      <th>thirdinterval</th>\n",
       "      <th>intervalmean</th>\n",
       "      <th>intervalstd</th>\n",
       "    </tr>\n",
       "  </thead>\n",
       "  <tbody>\n",
       "    <tr>\n",
       "      <th>0</th>\n",
       "      <td>16202.0</td>\n",
       "      <td>118</td>\n",
       "      <td>89</td>\n",
       "      <td>2</td>\n",
       "      <td>4</td>\n",
       "      <td>3</td>\n",
       "      <td>712.21</td>\n",
       "      <td>0</td>\n",
       "      <td>5</td>\n",
       "      <td>0.0</td>\n",
       "      <td>94.0</td>\n",
       "      <td>94.0</td>\n",
       "      <td>31.333333</td>\n",
       "      <td>54.270925</td>\n",
       "    </tr>\n",
       "    <tr>\n",
       "      <th>1</th>\n",
       "      <td>17241.0</td>\n",
       "      <td>66</td>\n",
       "      <td>50</td>\n",
       "      <td>0</td>\n",
       "      <td>9</td>\n",
       "      <td>3</td>\n",
       "      <td>1447.29</td>\n",
       "      <td>1</td>\n",
       "      <td>4</td>\n",
       "      <td>3.0</td>\n",
       "      <td>40.0</td>\n",
       "      <td>45.0</td>\n",
       "      <td>16.625000</td>\n",
       "      <td>13.968715</td>\n",
       "    </tr>\n",
       "    <tr>\n",
       "      <th>2</th>\n",
       "      <td>17865.0</td>\n",
       "      <td>18</td>\n",
       "      <td>8</td>\n",
       "      <td>3</td>\n",
       "      <td>12</td>\n",
       "      <td>1</td>\n",
       "      <td>5878.98</td>\n",
       "      <td>3</td>\n",
       "      <td>7</td>\n",
       "      <td>0.0</td>\n",
       "      <td>10.0</td>\n",
       "      <td>33.0</td>\n",
       "      <td>15.909091</td>\n",
       "      <td>14.208832</td>\n",
       "    </tr>\n",
       "    <tr>\n",
       "      <th>3</th>\n",
       "      <td>14527.0</td>\n",
       "      <td>5</td>\n",
       "      <td>0</td>\n",
       "      <td>3</td>\n",
       "      <td>32</td>\n",
       "      <td>2</td>\n",
       "      <td>5142.77</td>\n",
       "      <td>2</td>\n",
       "      <td>7</td>\n",
       "      <td>8.0</td>\n",
       "      <td>22.0</td>\n",
       "      <td>34.0</td>\n",
       "      <td>5.903226</td>\n",
       "      <td>3.467514</td>\n",
       "    </tr>\n",
       "    <tr>\n",
       "      <th>4</th>\n",
       "      <td>18231.0</td>\n",
       "      <td>64</td>\n",
       "      <td>36</td>\n",
       "      <td>0</td>\n",
       "      <td>17</td>\n",
       "      <td>1</td>\n",
       "      <td>2684.20</td>\n",
       "      <td>2</td>\n",
       "      <td>3</td>\n",
       "      <td>0.0</td>\n",
       "      <td>10.0</td>\n",
       "      <td>26.0</td>\n",
       "      <td>9.187500</td>\n",
       "      <td>7.314085</td>\n",
       "    </tr>\n",
       "    <tr>\n",
       "      <th>5</th>\n",
       "      <td>13018.0</td>\n",
       "      <td>131</td>\n",
       "      <td>105</td>\n",
       "      <td>2</td>\n",
       "      <td>5</td>\n",
       "      <td>3</td>\n",
       "      <td>1403.75</td>\n",
       "      <td>1</td>\n",
       "      <td>6</td>\n",
       "      <td>0.0</td>\n",
       "      <td>0.0</td>\n",
       "      <td>78.0</td>\n",
       "      <td>19.500000</td>\n",
       "      <td>39.000000</td>\n",
       "    </tr>\n",
       "    <tr>\n",
       "      <th>6</th>\n",
       "      <td>17377.0</td>\n",
       "      <td>8</td>\n",
       "      <td>0</td>\n",
       "      <td>3</td>\n",
       "      <td>30</td>\n",
       "      <td>2</td>\n",
       "      <td>4097.55</td>\n",
       "      <td>2</td>\n",
       "      <td>7</td>\n",
       "      <td>16.0</td>\n",
       "      <td>19.0</td>\n",
       "      <td>25.0</td>\n",
       "      <td>6.310345</td>\n",
       "      <td>4.993592</td>\n",
       "    </tr>\n",
       "    <tr>\n",
       "      <th>7</th>\n",
       "      <td>17965.0</td>\n",
       "      <td>54</td>\n",
       "      <td>48</td>\n",
       "      <td>0</td>\n",
       "      <td>6</td>\n",
       "      <td>3</td>\n",
       "      <td>1320.51</td>\n",
       "      <td>1</td>\n",
       "      <td>4</td>\n",
       "      <td>19.0</td>\n",
       "      <td>27.0</td>\n",
       "      <td>47.0</td>\n",
       "      <td>27.000000</td>\n",
       "      <td>26.143833</td>\n",
       "    </tr>\n",
       "    <tr>\n",
       "      <th>8</th>\n",
       "      <td>17324.0</td>\n",
       "      <td>45</td>\n",
       "      <td>43</td>\n",
       "      <td>0</td>\n",
       "      <td>5</td>\n",
       "      <td>3</td>\n",
       "      <td>571.55</td>\n",
       "      <td>0</td>\n",
       "      <td>3</td>\n",
       "      <td>75.0</td>\n",
       "      <td>75.0</td>\n",
       "      <td>89.0</td>\n",
       "      <td>35.000000</td>\n",
       "      <td>34.263683</td>\n",
       "    </tr>\n",
       "    <tr>\n",
       "      <th>9</th>\n",
       "      <td>14401.0</td>\n",
       "      <td>47</td>\n",
       "      <td>6</td>\n",
       "      <td>3</td>\n",
       "      <td>5</td>\n",
       "      <td>3</td>\n",
       "      <td>1227.22</td>\n",
       "      <td>1</td>\n",
       "      <td>7</td>\n",
       "      <td>21.0</td>\n",
       "      <td>61.0</td>\n",
       "      <td>121.0</td>\n",
       "      <td>44.250000</td>\n",
       "      <td>17.745892</td>\n",
       "    </tr>\n",
       "  </tbody>\n",
       "</table>\n",
       "</div>"
      ],
      "text/plain": [
       "   customerid  purchaseinterval  recency  recencycluster  frequency  \\\n",
       "0     16202.0               118       89               2          4   \n",
       "1     17241.0                66       50               0          9   \n",
       "2     17865.0                18        8               3         12   \n",
       "3     14527.0                 5        0               3         32   \n",
       "4     18231.0                64       36               0         17   \n",
       "5     13018.0               131      105               2          5   \n",
       "6     17377.0                 8        0               3         30   \n",
       "7     17965.0                54       48               0          6   \n",
       "8     17324.0                45       43               0          5   \n",
       "9     14401.0                47        6               3          5   \n",
       "\n",
       "   frequencycluster   income  incomecluster  score  lastinterval  \\\n",
       "0                 3   712.21              0      5           0.0   \n",
       "1                 3  1447.29              1      4           3.0   \n",
       "2                 1  5878.98              3      7           0.0   \n",
       "3                 2  5142.77              2      7           8.0   \n",
       "4                 1  2684.20              2      3           0.0   \n",
       "5                 3  1403.75              1      6           0.0   \n",
       "6                 2  4097.55              2      7          16.0   \n",
       "7                 3  1320.51              1      4          19.0   \n",
       "8                 3   571.55              0      3          75.0   \n",
       "9                 3  1227.22              1      7          21.0   \n",
       "\n",
       "   secondinterval  thirdinterval  intervalmean  intervalstd  \n",
       "0            94.0           94.0     31.333333    54.270925  \n",
       "1            40.0           45.0     16.625000    13.968715  \n",
       "2            10.0           33.0     15.909091    14.208832  \n",
       "3            22.0           34.0      5.903226     3.467514  \n",
       "4            10.0           26.0      9.187500     7.314085  \n",
       "5             0.0           78.0     19.500000    39.000000  \n",
       "6            19.0           25.0      6.310345     4.993592  \n",
       "7            27.0           47.0     27.000000    26.143833  \n",
       "8            75.0           89.0     35.000000    34.263683  \n",
       "9            61.0          121.0     44.250000    17.745892  "
      ]
     },
     "execution_count": 61,
     "metadata": {},
     "output_type": "execute_result"
    }
   ],
   "source": [
    "retail_uk_customer.head(10)"
   ]
  },
  {
   "cell_type": "markdown",
   "metadata": {},
   "source": [
    "### Customer Segmentation based on upcoming purchase"
   ]
  },
  {
   "cell_type": "markdown",
   "metadata": {},
   "source": [
    "Creating three categorical varibales based on business condition .Upcoming purchases in 3 weeks as Group :2,upcoming purchases in 4-7 weeks as Group:1 ,purchases beyond 7 weeks group :0"
   ]
  },
  {
   "cell_type": "code",
   "execution_count": 62,
   "metadata": {},
   "outputs": [
    {
     "data": {
      "text/html": [
       "<div>\n",
       "<style scoped>\n",
       "    .dataframe tbody tr th:only-of-type {\n",
       "        vertical-align: middle;\n",
       "    }\n",
       "\n",
       "    .dataframe tbody tr th {\n",
       "        vertical-align: top;\n",
       "    }\n",
       "\n",
       "    .dataframe thead th {\n",
       "        text-align: right;\n",
       "    }\n",
       "</style>\n",
       "<table border=\"1\" class=\"dataframe\">\n",
       "  <thead>\n",
       "    <tr style=\"text-align: right;\">\n",
       "      <th></th>\n",
       "      <th>customerid</th>\n",
       "      <th>purchaseinterval</th>\n",
       "      <th>recency</th>\n",
       "      <th>recencycluster</th>\n",
       "      <th>frequency</th>\n",
       "      <th>frequencycluster</th>\n",
       "      <th>income</th>\n",
       "      <th>incomecluster</th>\n",
       "      <th>score</th>\n",
       "      <th>lastinterval</th>\n",
       "      <th>secondinterval</th>\n",
       "      <th>thirdinterval</th>\n",
       "      <th>intervalmean</th>\n",
       "      <th>intervalstd</th>\n",
       "    </tr>\n",
       "  </thead>\n",
       "  <tbody>\n",
       "    <tr>\n",
       "      <th>0</th>\n",
       "      <td>16202.0</td>\n",
       "      <td>118</td>\n",
       "      <td>89</td>\n",
       "      <td>2</td>\n",
       "      <td>4</td>\n",
       "      <td>3</td>\n",
       "      <td>712.21</td>\n",
       "      <td>0</td>\n",
       "      <td>5</td>\n",
       "      <td>0.0</td>\n",
       "      <td>94.0</td>\n",
       "      <td>94.0</td>\n",
       "      <td>31.333333</td>\n",
       "      <td>54.270925</td>\n",
       "    </tr>\n",
       "    <tr>\n",
       "      <th>1</th>\n",
       "      <td>17241.0</td>\n",
       "      <td>66</td>\n",
       "      <td>50</td>\n",
       "      <td>0</td>\n",
       "      <td>9</td>\n",
       "      <td>3</td>\n",
       "      <td>1447.29</td>\n",
       "      <td>1</td>\n",
       "      <td>4</td>\n",
       "      <td>3.0</td>\n",
       "      <td>40.0</td>\n",
       "      <td>45.0</td>\n",
       "      <td>16.625000</td>\n",
       "      <td>13.968715</td>\n",
       "    </tr>\n",
       "    <tr>\n",
       "      <th>2</th>\n",
       "      <td>17865.0</td>\n",
       "      <td>18</td>\n",
       "      <td>8</td>\n",
       "      <td>3</td>\n",
       "      <td>12</td>\n",
       "      <td>1</td>\n",
       "      <td>5878.98</td>\n",
       "      <td>3</td>\n",
       "      <td>7</td>\n",
       "      <td>0.0</td>\n",
       "      <td>10.0</td>\n",
       "      <td>33.0</td>\n",
       "      <td>15.909091</td>\n",
       "      <td>14.208832</td>\n",
       "    </tr>\n",
       "    <tr>\n",
       "      <th>3</th>\n",
       "      <td>14527.0</td>\n",
       "      <td>5</td>\n",
       "      <td>0</td>\n",
       "      <td>3</td>\n",
       "      <td>32</td>\n",
       "      <td>2</td>\n",
       "      <td>5142.77</td>\n",
       "      <td>2</td>\n",
       "      <td>7</td>\n",
       "      <td>8.0</td>\n",
       "      <td>22.0</td>\n",
       "      <td>34.0</td>\n",
       "      <td>5.903226</td>\n",
       "      <td>3.467514</td>\n",
       "    </tr>\n",
       "    <tr>\n",
       "      <th>4</th>\n",
       "      <td>18231.0</td>\n",
       "      <td>64</td>\n",
       "      <td>36</td>\n",
       "      <td>0</td>\n",
       "      <td>17</td>\n",
       "      <td>1</td>\n",
       "      <td>2684.20</td>\n",
       "      <td>2</td>\n",
       "      <td>3</td>\n",
       "      <td>0.0</td>\n",
       "      <td>10.0</td>\n",
       "      <td>26.0</td>\n",
       "      <td>9.187500</td>\n",
       "      <td>7.314085</td>\n",
       "    </tr>\n",
       "  </tbody>\n",
       "</table>\n",
       "</div>"
      ],
      "text/plain": [
       "   customerid  purchaseinterval  recency  recencycluster  frequency  \\\n",
       "0     16202.0               118       89               2          4   \n",
       "1     17241.0                66       50               0          9   \n",
       "2     17865.0                18        8               3         12   \n",
       "3     14527.0                 5        0               3         32   \n",
       "4     18231.0                64       36               0         17   \n",
       "\n",
       "   frequencycluster   income  incomecluster  score  lastinterval  \\\n",
       "0                 3   712.21              0      5           0.0   \n",
       "1                 3  1447.29              1      4           3.0   \n",
       "2                 1  5878.98              3      7           0.0   \n",
       "3                 2  5142.77              2      7           8.0   \n",
       "4                 1  2684.20              2      3           0.0   \n",
       "\n",
       "   secondinterval  thirdinterval  intervalmean  intervalstd  \n",
       "0            94.0           94.0     31.333333    54.270925  \n",
       "1            40.0           45.0     16.625000    13.968715  \n",
       "2            10.0           33.0     15.909091    14.208832  \n",
       "3            22.0           34.0      5.903226     3.467514  \n",
       "4            10.0           26.0      9.187500     7.314085  "
      ]
     },
     "execution_count": 62,
     "metadata": {},
     "output_type": "execute_result"
    }
   ],
   "source": [
    "retail_uk_customer.head()"
   ]
  },
  {
   "cell_type": "code",
   "execution_count": 63,
   "metadata": {},
   "outputs": [],
   "source": [
    "# Create encoding customer dataframe with get dummies and categorical variables for customer groups\n",
    "\n",
    "retail_uk_customer_enc = retail_uk_customer.copy()\n",
    "retail_uk_customer_enc = pd.get_dummies(retail_uk_customer_enc)\n",
    "\n",
    "retail_uk_customer_enc['customersegment'] =2\n",
    "retail_uk_customer_enc.loc[retail_uk_customer_enc.purchaseinterval>20,'customersegment'] = 1\n",
    "retail_uk_customer_enc.loc[retail_uk_customer_enc.purchaseinterval>50,'customersegment'] = 0"
   ]
  },
  {
   "cell_type": "code",
   "execution_count": 64,
   "metadata": {},
   "outputs": [
    {
     "data": {
      "text/html": [
       "<div>\n",
       "<style scoped>\n",
       "    .dataframe tbody tr th:only-of-type {\n",
       "        vertical-align: middle;\n",
       "    }\n",
       "\n",
       "    .dataframe tbody tr th {\n",
       "        vertical-align: top;\n",
       "    }\n",
       "\n",
       "    .dataframe thead th {\n",
       "        text-align: right;\n",
       "    }\n",
       "</style>\n",
       "<table border=\"1\" class=\"dataframe\">\n",
       "  <thead>\n",
       "    <tr style=\"text-align: right;\">\n",
       "      <th></th>\n",
       "      <th>customerid</th>\n",
       "      <th>purchaseinterval</th>\n",
       "      <th>recency</th>\n",
       "      <th>recencycluster</th>\n",
       "      <th>frequency</th>\n",
       "      <th>frequencycluster</th>\n",
       "      <th>income</th>\n",
       "      <th>incomecluster</th>\n",
       "      <th>score</th>\n",
       "      <th>lastinterval</th>\n",
       "      <th>secondinterval</th>\n",
       "      <th>thirdinterval</th>\n",
       "      <th>intervalmean</th>\n",
       "      <th>intervalstd</th>\n",
       "      <th>customersegment</th>\n",
       "    </tr>\n",
       "  </thead>\n",
       "  <tbody>\n",
       "    <tr>\n",
       "      <th>0</th>\n",
       "      <td>16202.0</td>\n",
       "      <td>118</td>\n",
       "      <td>89</td>\n",
       "      <td>2</td>\n",
       "      <td>4</td>\n",
       "      <td>3</td>\n",
       "      <td>712.21</td>\n",
       "      <td>0</td>\n",
       "      <td>5</td>\n",
       "      <td>0.0</td>\n",
       "      <td>94.0</td>\n",
       "      <td>94.0</td>\n",
       "      <td>31.333333</td>\n",
       "      <td>54.270925</td>\n",
       "      <td>0</td>\n",
       "    </tr>\n",
       "    <tr>\n",
       "      <th>1</th>\n",
       "      <td>17241.0</td>\n",
       "      <td>66</td>\n",
       "      <td>50</td>\n",
       "      <td>0</td>\n",
       "      <td>9</td>\n",
       "      <td>3</td>\n",
       "      <td>1447.29</td>\n",
       "      <td>1</td>\n",
       "      <td>4</td>\n",
       "      <td>3.0</td>\n",
       "      <td>40.0</td>\n",
       "      <td>45.0</td>\n",
       "      <td>16.625000</td>\n",
       "      <td>13.968715</td>\n",
       "      <td>0</td>\n",
       "    </tr>\n",
       "    <tr>\n",
       "      <th>2</th>\n",
       "      <td>17865.0</td>\n",
       "      <td>18</td>\n",
       "      <td>8</td>\n",
       "      <td>3</td>\n",
       "      <td>12</td>\n",
       "      <td>1</td>\n",
       "      <td>5878.98</td>\n",
       "      <td>3</td>\n",
       "      <td>7</td>\n",
       "      <td>0.0</td>\n",
       "      <td>10.0</td>\n",
       "      <td>33.0</td>\n",
       "      <td>15.909091</td>\n",
       "      <td>14.208832</td>\n",
       "      <td>2</td>\n",
       "    </tr>\n",
       "    <tr>\n",
       "      <th>3</th>\n",
       "      <td>14527.0</td>\n",
       "      <td>5</td>\n",
       "      <td>0</td>\n",
       "      <td>3</td>\n",
       "      <td>32</td>\n",
       "      <td>2</td>\n",
       "      <td>5142.77</td>\n",
       "      <td>2</td>\n",
       "      <td>7</td>\n",
       "      <td>8.0</td>\n",
       "      <td>22.0</td>\n",
       "      <td>34.0</td>\n",
       "      <td>5.903226</td>\n",
       "      <td>3.467514</td>\n",
       "      <td>2</td>\n",
       "    </tr>\n",
       "    <tr>\n",
       "      <th>4</th>\n",
       "      <td>18231.0</td>\n",
       "      <td>64</td>\n",
       "      <td>36</td>\n",
       "      <td>0</td>\n",
       "      <td>17</td>\n",
       "      <td>1</td>\n",
       "      <td>2684.20</td>\n",
       "      <td>2</td>\n",
       "      <td>3</td>\n",
       "      <td>0.0</td>\n",
       "      <td>10.0</td>\n",
       "      <td>26.0</td>\n",
       "      <td>9.187500</td>\n",
       "      <td>7.314085</td>\n",
       "      <td>0</td>\n",
       "    </tr>\n",
       "  </tbody>\n",
       "</table>\n",
       "</div>"
      ],
      "text/plain": [
       "   customerid  purchaseinterval  recency  recencycluster  frequency  \\\n",
       "0     16202.0               118       89               2          4   \n",
       "1     17241.0                66       50               0          9   \n",
       "2     17865.0                18        8               3         12   \n",
       "3     14527.0                 5        0               3         32   \n",
       "4     18231.0                64       36               0         17   \n",
       "\n",
       "   frequencycluster   income  incomecluster  score  lastinterval  \\\n",
       "0                 3   712.21              0      5           0.0   \n",
       "1                 3  1447.29              1      4           3.0   \n",
       "2                 1  5878.98              3      7           0.0   \n",
       "3                 2  5142.77              2      7           8.0   \n",
       "4                 1  2684.20              2      3           0.0   \n",
       "\n",
       "   secondinterval  thirdinterval  intervalmean  intervalstd  customersegment  \n",
       "0            94.0           94.0     31.333333    54.270925                0  \n",
       "1            40.0           45.0     16.625000    13.968715                0  \n",
       "2            10.0           33.0     15.909091    14.208832                2  \n",
       "3            22.0           34.0      5.903226     3.467514                2  \n",
       "4            10.0           26.0      9.187500     7.314085                0  "
      ]
     },
     "execution_count": 64,
     "metadata": {},
     "output_type": "execute_result"
    }
   ],
   "source": [
    "retail_uk_customer_enc.head()"
   ]
  },
  {
   "cell_type": "code",
   "execution_count": 65,
   "metadata": {},
   "outputs": [
    {
     "data": {
      "text/plain": [
       "<matplotlib.axes._subplots.AxesSubplot at 0x21cf5c25748>"
      ]
     },
     "execution_count": 65,
     "metadata": {},
     "output_type": "execute_result"
    },
    {
     "data": {
      "image/png": "[encoded data removed]",
      "text/plain": [
       "<Figure size 2160x1440 with 2 Axes>"
      ]
     },
     "metadata": {
      "needs_background": "light"
     },
     "output_type": "display_data"
    }
   ],
   "source": [
    "corr = retail_uk_customer_enc[retail_uk_customer_enc.columns].corr()\n",
    "plt.figure(figsize = (30,20))\n",
    "sns.heatmap(corr, annot = True, linewidths=0.2, fmt='.2f',cmap='Greens')"
   ]
  },
  {
   "cell_type": "markdown",
   "metadata": {},
   "source": [
    "## Modelling  and Cross Validation"
   ]
  },
  {
   "cell_type": "code",
   "execution_count": 66,
   "metadata": {
    "scrolled": true
   },
   "outputs": [
    {
     "name": "stdout",
     "output_type": "stream",
     "text": [
      "LR [0.57803468 0.6416185 ]\n",
      "RF [0.6416185  0.57225434]\n",
      "Dtree [0.52023121 0.5433526 ]\n"
     ]
    }
   ],
   "source": [
    "# creating test and train\n",
    "\n",
    "from sklearn.model_selection import train_test_split\n",
    "from sklearn.linear_model import LogisticRegression\n",
    "from sklearn.metrics import confusion_matrix\n",
    "from sklearn.metrics import classification_report\n",
    "from sklearn.ensemble import RandomForestClassifier\n",
    "from sklearn.model_selection import KFold, cross_val_score, train_test_split\n",
    "from sklearn.tree import DecisionTreeClassifier\n",
    "\n",
    "retail_uk_customer_enc=retail_uk_customer_enc.drop(['purchaseinterval'],axis=1)\n",
    "X=retail_uk_customer_enc.drop('customersegment',axis=1)\n",
    "y=retail_uk_customer_enc.customersegment\n",
    "#Y=retail_uk_customer_enc[['customersegment']]   \n",
    "\n",
    "\n",
    "#X_train, X_test, y_train, y_test = train_test_split(retail_uk_customer_enc.drop('customersegment',axis=1),retail_uk_customer_enc['customersegment'], test_size=0.30,random_state=101)\n",
    "\n",
    "\n",
    "X_train, X_test, y_train, y_test = train_test_split(X, y, test_size=0.3, random_state=44)\n",
    "models = []\n",
    "\n",
    "models.append((\"LR\",LogisticRegression()))\n",
    "models.append((\"RF\",RandomForestClassifier()))\n",
    "models.append((\"Dtree\",DecisionTreeClassifier()))\n",
    "\n",
    "\n",
    "\n",
    "for name,model in models:\n",
    "    kfold = KFold(n_splits=2, random_state=22)\n",
    "    cv_result = cross_val_score(model,X_train,y_train, cv = kfold,scoring = \"accuracy\")\n",
    "    print(name, cv_result)"
   ]
  },
  {
   "cell_type": "code",
   "execution_count": 67,
   "metadata": {},
   "outputs": [
    {
     "name": "stdout",
     "output_type": "stream",
     "text": [
      "Accuracy of logistic regression classifier on test set: 0.64\n"
     ]
    }
   ],
   "source": [
    "from sklearn.linear_model import LogisticRegression\n",
    "from sklearn import metrics\n",
    "#X_train, X_test, y_train, y_test = train_test_split(X, y, test_size=0.2, random_state=0)\n",
    "logreg = LogisticRegression()\n",
    "logreg.fit(X_train, y_train)\n",
    "y_pred = logreg.predict(X_test)\n",
    "print('Accuracy of logistic regression classifier on test set: {:.2f}'.format(logreg.score(X_test, y_test)))"
   ]
  },
  {
   "cell_type": "code",
   "execution_count": 68,
   "metadata": {},
   "outputs": [
    {
     "name": "stdout",
     "output_type": "stream",
     "text": [
      "[[58 13  3]\n",
      " [23 29  4]\n",
      " [ 1  9  9]]\n"
     ]
    }
   ],
   "source": [
    "from sklearn.metrics import confusion_matrix\n",
    "confusion_matrix = confusion_matrix(y_test, y_pred)\n",
    "print(confusion_matrix)"
   ]
  },
  {
   "cell_type": "code",
   "execution_count": 69,
   "metadata": {},
   "outputs": [
    {
     "name": "stdout",
     "output_type": "stream",
     "text": [
      "              precision    recall  f1-score   support\n",
      "\n",
      "           0       0.71      0.78      0.74        74\n",
      "           1       0.57      0.52      0.54        56\n",
      "           2       0.56      0.47      0.51        19\n",
      "\n",
      "    accuracy                           0.64       149\n",
      "   macro avg       0.61      0.59      0.60       149\n",
      "weighted avg       0.64      0.64      0.64       149\n",
      "\n"
     ]
    }
   ],
   "source": [
    "from sklearn.metrics import classification_report\n",
    "print(classification_report(y_test, y_pred))"
   ]
  },
  {
   "cell_type": "code",
   "execution_count": 70,
   "metadata": {},
   "outputs": [],
   "source": [
    "#y_test['customersegment']=y_pred\n",
    "y_pred_df = pd.DataFrame(data = y_pred, columns = ['customersegment'], index = X_test.index.copy())\n",
    "retail_uk_prediction = pd.merge(X_test,y_test,left_index = True, right_index = True)"
   ]
  },
  {
   "cell_type": "code",
   "execution_count": 71,
   "metadata": {},
   "outputs": [
    {
     "data": {
      "text/html": [
       "<div>\n",
       "<style scoped>\n",
       "    .dataframe tbody tr th:only-of-type {\n",
       "        vertical-align: middle;\n",
       "    }\n",
       "\n",
       "    .dataframe tbody tr th {\n",
       "        vertical-align: top;\n",
       "    }\n",
       "\n",
       "    .dataframe thead th {\n",
       "        text-align: right;\n",
       "    }\n",
       "</style>\n",
       "<table border=\"1\" class=\"dataframe\">\n",
       "  <thead>\n",
       "    <tr style=\"text-align: right;\">\n",
       "      <th></th>\n",
       "      <th>customerid</th>\n",
       "      <th>recency</th>\n",
       "      <th>recencycluster</th>\n",
       "      <th>frequency</th>\n",
       "      <th>frequencycluster</th>\n",
       "      <th>income</th>\n",
       "      <th>incomecluster</th>\n",
       "      <th>score</th>\n",
       "      <th>lastinterval</th>\n",
       "      <th>secondinterval</th>\n",
       "      <th>thirdinterval</th>\n",
       "      <th>intervalmean</th>\n",
       "      <th>intervalstd</th>\n",
       "      <th>customersegment</th>\n",
       "    </tr>\n",
       "  </thead>\n",
       "  <tbody>\n",
       "    <tr>\n",
       "      <th>88</th>\n",
       "      <td>14852.0</td>\n",
       "      <td>12</td>\n",
       "      <td>3</td>\n",
       "      <td>9</td>\n",
       "      <td>3</td>\n",
       "      <td>2139.92</td>\n",
       "      <td>1</td>\n",
       "      <td>7</td>\n",
       "      <td>0.0</td>\n",
       "      <td>34.0</td>\n",
       "      <td>34.0</td>\n",
       "      <td>20.875000</td>\n",
       "      <td>23.715200</td>\n",
       "      <td>1</td>\n",
       "    </tr>\n",
       "    <tr>\n",
       "      <th>396</th>\n",
       "      <td>17888.0</td>\n",
       "      <td>21</td>\n",
       "      <td>3</td>\n",
       "      <td>8</td>\n",
       "      <td>3</td>\n",
       "      <td>487.92</td>\n",
       "      <td>0</td>\n",
       "      <td>6</td>\n",
       "      <td>49.0</td>\n",
       "      <td>62.0</td>\n",
       "      <td>67.0</td>\n",
       "      <td>16.714286</td>\n",
       "      <td>16.839579</td>\n",
       "      <td>1</td>\n",
       "    </tr>\n",
       "    <tr>\n",
       "      <th>345</th>\n",
       "      <td>13856.0</td>\n",
       "      <td>29</td>\n",
       "      <td>3</td>\n",
       "      <td>7</td>\n",
       "      <td>3</td>\n",
       "      <td>554.00</td>\n",
       "      <td>0</td>\n",
       "      <td>6</td>\n",
       "      <td>38.0</td>\n",
       "      <td>54.0</td>\n",
       "      <td>71.0</td>\n",
       "      <td>20.833333</td>\n",
       "      <td>9.537645</td>\n",
       "      <td>1</td>\n",
       "    </tr>\n",
       "    <tr>\n",
       "      <th>300</th>\n",
       "      <td>13969.0</td>\n",
       "      <td>18</td>\n",
       "      <td>3</td>\n",
       "      <td>9</td>\n",
       "      <td>3</td>\n",
       "      <td>1548.64</td>\n",
       "      <td>1</td>\n",
       "      <td>7</td>\n",
       "      <td>14.0</td>\n",
       "      <td>21.0</td>\n",
       "      <td>36.0</td>\n",
       "      <td>17.500000</td>\n",
       "      <td>13.212548</td>\n",
       "      <td>1</td>\n",
       "    </tr>\n",
       "    <tr>\n",
       "      <th>115</th>\n",
       "      <td>16013.0</td>\n",
       "      <td>35</td>\n",
       "      <td>0</td>\n",
       "      <td>12</td>\n",
       "      <td>1</td>\n",
       "      <td>2817.97</td>\n",
       "      <td>2</td>\n",
       "      <td>3</td>\n",
       "      <td>0.0</td>\n",
       "      <td>14.0</td>\n",
       "      <td>62.0</td>\n",
       "      <td>12.818182</td>\n",
       "      <td>15.335046</td>\n",
       "      <td>1</td>\n",
       "    </tr>\n",
       "    <tr>\n",
       "      <th>161</th>\n",
       "      <td>13659.0</td>\n",
       "      <td>27</td>\n",
       "      <td>3</td>\n",
       "      <td>8</td>\n",
       "      <td>3</td>\n",
       "      <td>2198.01</td>\n",
       "      <td>1</td>\n",
       "      <td>7</td>\n",
       "      <td>34.0</td>\n",
       "      <td>51.0</td>\n",
       "      <td>76.0</td>\n",
       "      <td>20.857143</td>\n",
       "      <td>12.019825</td>\n",
       "      <td>0</td>\n",
       "    </tr>\n",
       "    <tr>\n",
       "      <th>269</th>\n",
       "      <td>14040.0</td>\n",
       "      <td>0</td>\n",
       "      <td>3</td>\n",
       "      <td>12</td>\n",
       "      <td>1</td>\n",
       "      <td>3350.24</td>\n",
       "      <td>2</td>\n",
       "      <td>6</td>\n",
       "      <td>0.0</td>\n",
       "      <td>25.0</td>\n",
       "      <td>42.0</td>\n",
       "      <td>14.727273</td>\n",
       "      <td>8.989893</td>\n",
       "      <td>2</td>\n",
       "    </tr>\n",
       "    <tr>\n",
       "      <th>253</th>\n",
       "      <td>16905.0</td>\n",
       "      <td>32</td>\n",
       "      <td>0</td>\n",
       "      <td>4</td>\n",
       "      <td>3</td>\n",
       "      <td>298.61</td>\n",
       "      <td>0</td>\n",
       "      <td>3</td>\n",
       "      <td>102.0</td>\n",
       "      <td>102.0</td>\n",
       "      <td>133.0</td>\n",
       "      <td>44.333333</td>\n",
       "      <td>52.290853</td>\n",
       "      <td>0</td>\n",
       "    </tr>\n",
       "    <tr>\n",
       "      <th>463</th>\n",
       "      <td>17442.0</td>\n",
       "      <td>2</td>\n",
       "      <td>3</td>\n",
       "      <td>6</td>\n",
       "      <td>3</td>\n",
       "      <td>1185.39</td>\n",
       "      <td>1</td>\n",
       "      <td>7</td>\n",
       "      <td>26.0</td>\n",
       "      <td>33.0</td>\n",
       "      <td>34.0</td>\n",
       "      <td>20.800000</td>\n",
       "      <td>29.422780</td>\n",
       "      <td>1</td>\n",
       "    </tr>\n",
       "    <tr>\n",
       "      <th>49</th>\n",
       "      <td>16636.0</td>\n",
       "      <td>117</td>\n",
       "      <td>2</td>\n",
       "      <td>4</td>\n",
       "      <td>3</td>\n",
       "      <td>2167.09</td>\n",
       "      <td>1</td>\n",
       "      <td>6</td>\n",
       "      <td>48.0</td>\n",
       "      <td>64.0</td>\n",
       "      <td>64.0</td>\n",
       "      <td>21.333333</td>\n",
       "      <td>24.440404</td>\n",
       "      <td>0</td>\n",
       "    </tr>\n",
       "  </tbody>\n",
       "</table>\n",
       "</div>"
      ],
      "text/plain": [
       "     customerid  recency  recencycluster  frequency  frequencycluster  \\\n",
       "88      14852.0       12               3          9                 3   \n",
       "396     17888.0       21               3          8                 3   \n",
       "345     13856.0       29               3          7                 3   \n",
       "300     13969.0       18               3          9                 3   \n",
       "115     16013.0       35               0         12                 1   \n",
       "161     13659.0       27               3          8                 3   \n",
       "269     14040.0        0               3         12                 1   \n",
       "253     16905.0       32               0          4                 3   \n",
       "463     17442.0        2               3          6                 3   \n",
       "49      16636.0      117               2          4                 3   \n",
       "\n",
       "      income  incomecluster  score  lastinterval  secondinterval  \\\n",
       "88   2139.92              1      7           0.0            34.0   \n",
       "396   487.92              0      6          49.0            62.0   \n",
       "345   554.00              0      6          38.0            54.0   \n",
       "300  1548.64              1      7          14.0            21.0   \n",
       "115  2817.97              2      3           0.0            14.0   \n",
       "161  2198.01              1      7          34.0            51.0   \n",
       "269  3350.24              2      6           0.0            25.0   \n",
       "253   298.61              0      3         102.0           102.0   \n",
       "463  1185.39              1      7          26.0            33.0   \n",
       "49   2167.09              1      6          48.0            64.0   \n",
       "\n",
       "     thirdinterval  intervalmean  intervalstd  customersegment  \n",
       "88            34.0     20.875000    23.715200                1  \n",
       "396           67.0     16.714286    16.839579                1  \n",
       "345           71.0     20.833333     9.537645                1  \n",
       "300           36.0     17.500000    13.212548                1  \n",
       "115           62.0     12.818182    15.335046                1  \n",
       "161           76.0     20.857143    12.019825                0  \n",
       "269           42.0     14.727273     8.989893                2  \n",
       "253          133.0     44.333333    52.290853                0  \n",
       "463           34.0     20.800000    29.422780                1  \n",
       "49            64.0     21.333333    24.440404                0  "
      ]
     },
     "execution_count": 71,
     "metadata": {},
     "output_type": "execute_result"
    }
   ],
   "source": [
    "retail_uk_prediction.head(10)"
   ]
  },
  {
   "cell_type": "code",
   "execution_count": 72,
   "metadata": {},
   "outputs": [
    {
     "data": {
      "image/png": "[encoded data removed]",
      "text/plain": [
       "<Figure size 576x360 with 1 Axes>"
      ]
     },
     "metadata": {
      "needs_background": "light"
     },
     "output_type": "display_data"
    }
   ],
   "source": [
    "from sklearn.metrics import roc_auc_score\n",
    "from sklearn.metrics import roc_curve\n",
    "from sklearn.preprocessing import label_binarize\n",
    "from scipy import interp\n",
    "from sklearn.metrics import roc_curve,auc\n",
    "from scipy import interp\n",
    "from itertools import cycle\n",
    "\n",
    "y = label_binarize(y, classes=[0, 1, 2])\n",
    "n_classes = y.shape[1]\n",
    "fpr = dict()\n",
    "tpr = dict()\n",
    "roc_auc = dict()\n",
    "\n",
    "for i in range(n_classes):\n",
    "    fpr[i], tpr[i], _ = roc_curve(np.array(pd.get_dummies(y_test))[:, i], np.array(pd.get_dummies(y_pred))[:, i])\n",
    "    roc_auc[i] = metrics.auc(fpr[i], tpr[i])\n",
    "\n",
    "\n",
    "all_fpr = np.unique(np.concatenate([fpr[i] for i in range(n_classes)]))\n",
    "\n",
    "mean_tpr = np.zeros_like(all_fpr)\n",
    "for i in range(n_classes):\n",
    "    mean_tpr += interp(all_fpr, fpr[i], tpr[i])\n",
    "\n",
    "mean_tpr /= n_classes\n",
    "\n",
    "fpr[\"macro\"] = all_fpr\n",
    "tpr[\"macro\"] = mean_tpr\n",
    "roc_auc[\"macro\"] = metrics.auc(fpr[\"macro\"], tpr[\"macro\"])\n",
    "\n",
    "mean_tpr /= n_classes\n",
    "\n",
    "fpr[\"macro\"] = all_fpr\n",
    "tpr[\"macro\"] = mean_tpr\n",
    "roc_auc[\"macro\"] = metrics.auc(fpr[\"macro\"], tpr[\"macro\"])\n",
    "\n",
    "lw=2\n",
    "plt.figure(figsize=(8,5))\n",
    "plt.plot(fpr[\"macro\"], tpr[\"macro\"],\n",
    "         label='macro-average ROC curve (area = {0:0.2f})'\n",
    "               ''.format(roc_auc[\"macro\"]),\n",
    "         color='green', linestyle=':', linewidth=4)\n",
    "\n",
    "colors = cycle(['aqua', 'darkorange', 'cornflowerblue'])\n",
    "for i, color in zip(range(n_classes), colors):\n",
    "    plt.plot(fpr[i], tpr[i], color=color, lw=lw,\n",
    "             label='ROC curve of class {0} (area = {1:0.2f})'\n",
    "             ''.format(i, roc_auc[i]))\n",
    "\n",
    "plt.plot([0, 1], [0, 1], 'k--',color='red', lw=lw)\n",
    "plt.xlim([0.0, 1.0])\n",
    "plt.ylim([0.0, 1.05])\n",
    "plt.annotate('Random Guess',(.5,.48),color='red')\n",
    "plt.xlabel('False Positive Rate')\n",
    "plt.ylabel('True Positive Rate')\n",
    "plt.title('Receiver Operating Characteristic for Online retail store')\n",
    "plt.legend(loc=\"lower right\")\n",
    "plt.show()"
   ]
  },
  {
   "cell_type": "code",
   "execution_count": null,
   "metadata": {},
   "outputs": [],
   "source": []
  },
  {
   "cell_type": "code",
   "execution_count": null,
   "metadata": {},
   "outputs": [],
   "source": []
  },
  {
   "cell_type": "code",
   "execution_count": null,
   "metadata": {},
   "outputs": [],
   "source": []
  },
  {
   "cell_type": "code",
   "execution_count": null,
   "metadata": {},
   "outputs": [],
   "source": []
  },
  {
   "cell_type": "code",
   "execution_count": null,
   "metadata": {},
   "outputs": [],
   "source": []
  }
 ],
 "metadata": {
  "kernelspec": {
   "display_name": "Python 3",
   "language": "python",
   "name": "python3"
  },
  "language_info": {
   "codemirror_mode": {
    "name": "ipython",
    "version": 3
   },
   "file_extension": ".py",
   "mimetype": "text/x-python",
   "name": "python",
   "nbconvert_exporter": "python",
   "pygments_lexer": "ipython3",
   "version": "3.7.3"
  }
 },
 "nbformat": 4,
 "nbformat_minor": 2
}
